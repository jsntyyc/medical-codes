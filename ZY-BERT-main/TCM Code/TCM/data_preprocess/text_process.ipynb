{
 "cells": [
  {
   "cell_type": "code",
   "id": "initial_id",
   "metadata": {
    "collapsed": true,
    "ExecuteTime": {
     "end_time": "2025-04-14T13:13:51.043137Z",
     "start_time": "2025-04-14T13:13:50.837110Z"
    }
   },
   "source": [
    "import json\n",
    "\n",
    "# 输入与输出文件路径\n",
    "input_file = \"/mnt/nvme2/yyc/TCM/TCM_SD_train_dev/test.json\"      # 原始 JSON 文件路径\n",
    "output_file = \"/mnt/nvme2/yyc/TCM/TCM_SD_train_dev/testV2.json\"    # 输出文件路径\n",
    "\n",
    "data = []\n",
    "with open(input_file, 'r', encoding='utf-8') as fin:\n",
    "    for line in fin:\n",
    "        sample = json.loads(line.strip())\n",
    "        # 提取 description 和 detection 字段，并进行清洗\n",
    "        description = sample.get(\"description\", \"\").strip()\n",
    "        detection = sample.get(\"detection\", \"\").strip()\n",
    "        # 按照 [CLS] ... [SEP] ... [SEP] 的格式拼接\n",
    "        sample[\"TEXT\"] = \"[CLS] \" + description + \" [SEP] \" + detection + \" [SEP]\"\n",
    "        data.append(sample)\n",
    "\n",
    "# 将带有新字段的样本写入输出文件，每行一个 JSON 记录\n",
    "with open(output_file, 'w', encoding='utf-8') as fout:\n",
    "    for sample in data:\n",
    "        fout.write(json.dumps(sample, ensure_ascii=False) + \"\\n\")\n",
    "\n",
    "print(f\"数据处理完成，结果保存在 {output_file} 中\")\n"
   ],
   "outputs": [
    {
     "name": "stdout",
     "output_type": "stream",
     "text": [
      "数据处理完成，结果保存在 /mnt/nvme2/yyc/TCM/TCM_SD_train_dev/testV2.json 中\n"
     ]
    }
   ],
   "execution_count": 52
  },
  {
   "metadata": {
    "ExecuteTime": {
     "end_time": "2025-04-14T13:13:52.187265Z",
     "start_time": "2025-04-14T13:13:52.169957Z"
    }
   },
   "cell_type": "code",
   "source": [
    "# 148种 norm_syndrome 标签列表（请确保列表顺序与你的需求一致）\n",
    "labels = [\n",
    "    \"气虚不摄证\",\n",
    "    \"气虚血瘀证\",\n",
    "    \"湿热下注证\",\n",
    "    \"脾肾两虚证\",\n",
    "    \"正虚瘀结证\",\n",
    "    \"气滞血瘀证\",\n",
    "    \"湿热蕴结证\",\n",
    "    \"湿热蕴毒证\",\n",
    "    \"风痰瘀阻证\",\n",
    "    \"湿热瘀阻证\",\n",
    "    \"阳虚水泛证\",\n",
    "    \"心脉痹阻证\",\n",
    "    \"肺肾气虚证\",\n",
    "    \"痰瘀痹阻证\",\n",
    "    \"湿热阻络证\",\n",
    "    \"脾胃气虚证\",\n",
    "    \"肝胃郁热证\",\n",
    "    \"肝胆湿热证\",\n",
    "    \"肝阳上亢证\",\n",
    "    \"风痰入络证\",\n",
    "    \"肝肾亏虚证\",\n",
    "    \"瘀血阻络证\",\n",
    "    \"气血两虚证\",\n",
    "    \"热毒蕴结证\",\n",
    "    \"痰湿蕴肺证\",\n",
    "    \"气虚证\",\n",
    "    \"脾肾阳虚证\",\n",
    "    \"阴虚火旺证\",\n",
    "    \"肾虚证\",\n",
    "    \"肝郁气滞证\",\n",
    "    \"痰浊上蒙证\",\n",
    "    \"肾气虚证\",\n",
    "    \"阴虚血热证\",\n",
    "    \"风痰上扰证\",\n",
    "    \"脾胃虚寒证\",\n",
    "    \"气血瘀滞证\",\n",
    "    \"痰热壅肺证\",\n",
    "    \"风寒袭肺证\",\n",
    "    \"气血亏虚证\",\n",
    "    \"气阴两虚证\",\n",
    "    \"心虚胆怯证\",\n",
    "    \"心肾不交证\",\n",
    "    \"阴虚血瘀证\",\n",
    "    \"阴虚阳亢证\",\n",
    "    \"痰浊蒙窍证\",\n",
    "    \"肝气犯胃证\",\n",
    "    \"脾胃阳虚证\",\n",
    "    \"肾虚水泛证\",\n",
    "    \"肝阴不足证\",\n",
    "    \"瘀阻心脉证\",\n",
    "    \"脾胃积热证\",\n",
    "    \"脾胃虚弱证\",\n",
    "    \"肝肾阴虚证\",\n",
    "    \"肝胃气滞证\",\n",
    "    \"痰瘀滞络证\",\n",
    "    \"痰湿证\",\n",
    "    \"风寒外袭证\",\n",
    "    \"痰湿内阻证\",\n",
    "    \"痰浊内蕴证\",\n",
    "    \"脾胃不和证\",\n",
    "    \"痰瘀互结证\",\n",
    "    \"血热证\",\n",
    "    \"肾虚肝亢证\",\n",
    "    \"痰浊中阻证\",\n",
    "    \"热毒炽盛证\",\n",
    "    \"瘀血阻滞证\",\n",
    "    \"阴虚风动证\",\n",
    "    \"血虚证\",\n",
    "    \"正虚毒瘀证\",\n",
    "    \"风寒袭表证\",\n",
    "    \"脾肾气虚证\",\n",
    "    \"肝胃不和证\",\n",
    "    \"湿热内蕴证\",\n",
    "    \"痰火扰心证\",\n",
    "    \"血瘀痰凝证\",\n",
    "    \"痰湿蒙窍证\",\n",
    "    \"湿热瘀滞证\",\n",
    "    \"肝郁血瘀证\",\n",
    "    \"寒凝血瘀证\",\n",
    "    \"心肺气虚证\",\n",
    "    \"风寒阻络证\",\n",
    "    \"血虚风燥证\",\n",
    "    \"脾虚湿蕴证\",\n",
    "    \"痰湿阻滞证\",\n",
    "    \"阳虚血瘀证\",\n",
    "    \"气不摄血证\",\n",
    "    \"气血不足证\",\n",
    "    \"肝郁脾虚证\",\n",
    "    \"肺卫不固证\",\n",
    "    \"心血虚证\",\n",
    "    \"痰湿中阻证\",\n",
    "    \"风湿热证\",\n",
    "    \"风热犯肺证\",\n",
    "    \"痰蒙清窍证\",\n",
    "    \"风痰闭阻证\",\n",
    "    \"风寒痹阻证\",\n",
    "    \"心阳不振证\",\n",
    "    \"瘀血内阻证\",\n",
    "    \"气滞痰凝证\",\n",
    "    \"外伤损络证\",\n",
    "    \"正虚毒结证\",\n",
    "    \"肝经湿热证\",\n",
    "    \"痰气交阻证\",\n",
    "    \"髓海不足证\",\n",
    "    \"寒湿阻络证\",\n",
    "    \"肝肾亏损证\",\n",
    "    \"津亏热结证\",\n",
    "    \"大肠湿热证\",\n",
    "    \"风湿蕴肤证\",\n",
    "    \"风寒湿痹证\",\n",
    "    \"阳虚寒凝证\",\n",
    "    \"气阴亏虚证\",\n",
    "    \"热毒蕴肤证\",\n",
    "    \"中气下陷证\",\n",
    "    \"风热伤络证\",\n",
    "    \"气滞证\",\n",
    "    \"风寒湿阻证\",\n",
    "    \"瘀滞胞宫证\",\n",
    "    \"肝肾两虚证\",\n",
    "    \"风热外袭证\",\n",
    "    \"痰蒙神窍证\",\n",
    "    \"热毒壅结证\",\n",
    "    \"气虚痰结证\",\n",
    "    \"风热袭表证\",\n",
    "    \"肾虚寒凝证\",\n",
    "    \"风热毒蕴证\",\n",
    "    \"中气不足证\",\n",
    "    \"脾气虚证\",\n",
    "    \"风热血热证\",\n",
    "    \"饮食积滞证\",\n",
    "    \"脾虚湿盛证\",\n",
    "    \"肺阴虚证\",\n",
    "    \"阴虚湿热证\",\n",
    "    \"风痰闭窍证\",\n",
    "    \"脾胃湿热证\",\n",
    "    \"阴虚津亏证\",\n",
    "    \"肾不纳气证\",\n",
    "    \"心脾两虚证\",\n",
    "    \"气血失调证\",\n",
    "    \"痰热内扰证\",\n",
    "    \"气郁痰阻证\",\n",
    "    \"肾阳虚证\",\n",
    "    \"湿毒蕴结证\",\n",
    "    \"肠燥津伤证\",\n",
    "    \"寒痰阻肺证\",\n",
    "    \"毒邪流窜证\",\n",
    "    \"阳虚痰凝证\",\n",
    "    \"气虚血溢证\",\n",
    "]\n",
    "\n",
    "# 检查标签数量是否为148\n",
    "print(\"标签数量：\", len(labels))"
   ],
   "id": "547ceb4b26f6496f",
   "outputs": [
    {
     "name": "stdout",
     "output_type": "stream",
     "text": [
      "标签数量： 148\n"
     ]
    }
   ],
   "execution_count": 53
  },
  {
   "metadata": {
    "ExecuteTime": {
     "end_time": "2025-04-14T13:13:52.697016Z",
     "start_time": "2025-04-14T13:13:52.685760Z"
    }
   },
   "cell_type": "code",
   "source": [
    "# 构建标签映射字典，每个标签映射为一个编号\n",
    "label_map = {label: idx for idx, label in enumerate(labels)}\n",
    "\n",
    "# 将映射字典保存为 JSON 文件，方便后续使用\n",
    "with open(\"label_map.json\", \"w\", encoding=\"utf-8\") as f:\n",
    "    json.dump(label_map, f, ensure_ascii=False, indent=2)\n",
    "print(\"标签映射字典已保存到 label_map.json\")"
   ],
   "id": "b1d66b685dcc7679",
   "outputs": [
    {
     "name": "stdout",
     "output_type": "stream",
     "text": [
      "标签映射字典已保存到 label_map.json\n"
     ]
    }
   ],
   "execution_count": 54
  },
  {
   "metadata": {
    "ExecuteTime": {
     "end_time": "2025-04-14T13:14:01.974645Z",
     "start_time": "2025-04-14T13:14:01.777091Z"
    }
   },
   "cell_type": "code",
   "source": [
    "# 针对数据集中的每个样本，添加新的 \"LABEL\" 列\n",
    "input_file = \"/mnt/nvme2/yyc/TCM/TCM_SD_train_dev/testV2.json\"             # 假设输入文件，每行一个 JSON 记录\n",
    "output_file = \"/mnt/nvme2/yyc/TCM/TCM_SD_train_dev/testV2.json\"     # 输出文件路径\n",
    "\n",
    "data = []\n",
    "with open(input_file, \"r\", encoding=\"utf-8\") as fin:\n",
    "    for line in fin:\n",
    "        sample = json.loads(line.strip())\n",
    "        ns = sample.get(\"norm_syndrome\", \"\")\n",
    "        # 根据 norm_syndrome 查找对应的编号，不存在则设为 None 或默认编号\n",
    "        sample[\"LABEL\"] = label_map.get(ns, None)\n",
    "        data.append(sample)\n",
    "\n",
    "# 将加了新列的样本保存到新的文件中\n",
    "with open(output_file, \"w\", encoding=\"utf-8\") as fout:\n",
    "    for sample in data:\n",
    "        fout.write(json.dumps(sample, ensure_ascii=False) + \"\\n\")\n",
    "print(f\"处理结果已保存在 {output_file} 中\")"
   ],
   "id": "d57dc6ae4486fce9",
   "outputs": [
    {
     "name": "stdout",
     "output_type": "stream",
     "text": [
      "处理结果已保存在 /mnt/nvme2/yyc/TCM/TCM_SD_train_dev/testV2.json 中\n"
     ]
    }
   ],
   "execution_count": 55
  },
  {
   "metadata": {
    "ExecuteTime": {
     "end_time": "2025-04-14T13:14:07.168236Z",
     "start_time": "2025-04-14T13:14:07.156525Z"
    }
   },
   "cell_type": "code",
   "source": [
    "import json\n",
    "\n",
    "# 文件路径\n",
    "input_file = \"/mnt/nvme2/yyc/TCM/TCM_SD_train_dev/testV2.json\"\n",
    "\n",
    "# 打印前 5 行数据\n",
    "with open(input_file, \"r\", encoding=\"utf-8\") as fin:\n",
    "    for i, line in enumerate(fin):\n",
    "        try:\n",
    "            sample = json.loads(line.strip())\n",
    "            # 格式化打印 JSON 对象，便于检查字段\n",
    "            print(f\"样本 {i+1}:\")\n",
    "            print(json.dumps(sample, ensure_ascii=False, indent=2))\n",
    "            print(\"-\" * 40)\n",
    "        except Exception as e:\n",
    "            print(\"解析第 {} 行时出错：{}\".format(i+1, e))\n",
    "        # 仅打印前 5 行\n",
    "        if i >= 4:\n",
    "            break\n"
   ],
   "id": "94f5b990eb1e1f36",
   "outputs": [
    {
     "name": "stdout",
     "output_type": "stream",
     "text": [
      "样本 1:\n",
      "{\n",
      "  \"user_id\": \"438612\",\n",
      "  \"lcd_id\": \"BNP150\",\n",
      "  \"lcd_name\": \"紫癜病\",\n",
      "  \"syndrome\": \"气虚不摄证\",\n",
      "  \"chief_complaint\": \"反复皮肤青紫斑点1年，又作伴乏力3天\",\n",
      "  \"description\": \"患者1年前无明显诱因出现皮肤青紫斑点，全身乏力，体检发现血小板减少，予徐州市二院就诊，诊断“血小板减少症”，予住院治疗，好转后出院，平素予口服“强的松50mg1/日，甲强龙40mg1/日，氯化钾补钾，钙尔奇补钙、奥美拉唑护胃”等药物、输血支持治疗，3天前患者双下肢皮肤青紫斑点，隐于皮内，压之不褪色，触之不碍手，神疲乏力，头晕头昏时作，心慌时作，气短，动辄为著，无胸闷，无胸痛放射痛，无鼻衄，无齿衄，无尿血，无腹胀腹痛，今为求进一步诊治来我院，病程中患者无恶寒发热、无黄疸，无咳嗽咳痰，无呕血、黑便，纳食可、睡眠欠佳，小便正常，大便造瘘，近期无明显消瘦。\",\n",
      "  \"detection\": \"神志清晰，精神尚可，形体适中，语言清晰，口唇红润；皮肤正常，无斑疹。头颅大小形态正常，无目窼下陷，白睛无黄染，耳轮正常，无耳瘘及生疮；颈部对称，无青筋暴露，无瘿瘤瘰疬，胸部对称，虚里搏动正常，腹部平坦，无癥瘕痞块，爪甲色泽红润，双下肢无浮肿，舌淡紫，苔白，脉弦。\",\n",
      "  \"norm_syndrome\": \"气虚不摄证\",\n",
      "  \"TEXT\": \"[CLS] 患者1年前无明显诱因出现皮肤青紫斑点，全身乏力，体检发现血小板减少，予徐州市二院就诊，诊断“血小板减少症”，予住院治疗，好转后出院，平素予口服“强的松50mg1/日，甲强龙40mg1/日，氯化钾补钾，钙尔奇补钙、奥美拉唑护胃”等药物、输血支持治疗，3天前患者双下肢皮肤青紫斑点，隐于皮内，压之不褪色，触之不碍手，神疲乏力，头晕头昏时作，心慌时作，气短，动辄为著，无胸闷，无胸痛放射痛，无鼻衄，无齿衄，无尿血，无腹胀腹痛，今为求进一步诊治来我院，病程中患者无恶寒发热、无黄疸，无咳嗽咳痰，无呕血、黑便，纳食可、睡眠欠佳，小便正常，大便造瘘，近期无明显消瘦。 [SEP] 神志清晰，精神尚可，形体适中，语言清晰，口唇红润；皮肤正常，无斑疹。头颅大小形态正常，无目窼下陷，白睛无黄染，耳轮正常，无耳瘘及生疮；颈部对称，无青筋暴露，无瘿瘤瘰疬，胸部对称，虚里搏动正常，腹部平坦，无癥瘕痞块，爪甲色泽红润，双下肢无浮肿，舌淡紫，苔白，脉弦。 [SEP]\",\n",
      "  \"LABEL\": 0\n",
      "}\n",
      "----------------------------------------\n",
      "样本 2:\n",
      "{\n",
      "  \"user_id\": \"488605\",\n",
      "  \"lcd_id\": \"A17.41\",\n",
      "  \"lcd_name\": \"便血\",\n",
      "  \"syndrome\": \"气虚不摄证\",\n",
      "  \"chief_complaint\": \"大便色黑间作4天\",\n",
      "  \"description\": \"患者4天前出现大便色黑,1.22行血常规、电解质检查,结果无异常，自服抑酸、制酸剂，昨日大便转黄，今日至门诊行胃镜检查，结果示：十二指肠出血，为求综合治疗，收入我区。入院时：患者神清，精神一般，纳谷一般，无明显头晕、心悸，今日大便一次，色黄，小便尚调，夜寐尚安，病程中无发热，无明显恶心、呕吐，体重无明显变化。\",\n",
      "  \"detection\": \"神志清晰，精神尚可，形体适中，语言清晰，口唇红润；皮肤正常，无斑疹。头颅大小形态正常，无目窼下陷，白睛无黄染，耳轮正常，无耳瘘及生疮；颈部对称，无青筋暴露，无瘿瘤瘰疬，胸部对称，虚里搏动正常，腹部平坦，无癥瘕痞块，爪甲色泽红润，双下肢无浮肿，舌红，苔薄白，脉弦。\",\n",
      "  \"norm_syndrome\": \"气虚不摄证\",\n",
      "  \"TEXT\": \"[CLS] 患者4天前出现大便色黑,1.22行血常规、电解质检查,结果无异常，自服抑酸、制酸剂，昨日大便转黄，今日至门诊行胃镜检查，结果示：十二指肠出血，为求综合治疗，收入我区。入院时：患者神清，精神一般，纳谷一般，无明显头晕、心悸，今日大便一次，色黄，小便尚调，夜寐尚安，病程中无发热，无明显恶心、呕吐，体重无明显变化。 [SEP] 神志清晰，精神尚可，形体适中，语言清晰，口唇红润；皮肤正常，无斑疹。头颅大小形态正常，无目窼下陷，白睛无黄染，耳轮正常，无耳瘘及生疮；颈部对称，无青筋暴露，无瘿瘤瘰疬，胸部对称，虚里搏动正常，腹部平坦，无癥瘕痞块，爪甲色泽红润，双下肢无浮肿，舌红，苔薄白，脉弦。 [SEP]\",\n",
      "  \"LABEL\": 0\n",
      "}\n",
      "----------------------------------------\n",
      "样本 3:\n",
      "{\n",
      "  \"user_id\": \"481722\",\n",
      "  \"lcd_id\": \"BNP120\",\n",
      "  \"lcd_name\": \"吐血病\",\n",
      "  \"syndrome\": \"气虚不摄证\",\n",
      "  \"chief_complaint\": \"反复呕血黑便2年，再发7小时。\",\n",
      "  \"description\": \"患者2年来间断出现呕血、黑便，多次于我市多家医院住院治疗，予抑酸、护胃、降低门静脉压力、止血、输血等对症治疗后病情好转。期间多次查上腹部CT提示肝硬化，未行电子胃镜检查明确出血病因。近1年来呕血、黑便次频，多次于我科住院治疗，末次住院时间为2020-05-12至10月03，出院诊断：1.上消化道出血：食管、胃底静脉曲张破裂2.肝硬化失代偿期 3.失血性贫血 4.慢性支气管炎伴感染 5.支气管扩张 6.胸腔积液（具体可详见上次住院病历，住院号466195）。患者今晨7时左右受凉后再次出现呕血，颜色呈暗红色，共1次，总量约40ml，无血凝块，解黑色柏油样便1次，量约100mg，伴有全身乏力，心慌，头晕，发热，体温最高达39.9℃，咳嗽，咳白痰，痰不易咳出，胸闷、气短，无一过性黑懵、晕厥，无突发剧烈上腹痛。由患者家属送至我院，遂拟“上消化道出血”收住入院。病程中患者无咯血，无吞咽困难，无口腔、牙龈出血，无憋喘，无腹泻，食纳、睡眠欠佳，小便正常，平时大便正常，近期体重无明显变化。\",\n",
      "  \"detection\": \"神志清晰，精神尚可，形体偏瘦，语言清晰，口唇苍白；皮肤苍白，无斑疹。头颅大小形态正常，无目窼下陷，白睛黄染，耳轮正常，无耳瘘级生疮；颈部对称，无青筋暴露，无瘿瘤瘰疬，胸部对称，虚里搏动正常，腹部平坦，无癥瘕痞块，爪甲色泽红润，双下肢对称轻度水肿，舌质红，苔薄白，脉弦。\",\n",
      "  \"norm_syndrome\": \"气虚不摄证\",\n",
      "  \"TEXT\": \"[CLS] 患者2年来间断出现呕血、黑便，多次于我市多家医院住院治疗，予抑酸、护胃、降低门静脉压力、止血、输血等对症治疗后病情好转。期间多次查上腹部CT提示肝硬化，未行电子胃镜检查明确出血病因。近1年来呕血、黑便次频，多次于我科住院治疗，末次住院时间为2020-05-12至10月03，出院诊断：1.上消化道出血：食管、胃底静脉曲张破裂2.肝硬化失代偿期 3.失血性贫血 4.慢性支气管炎伴感染 5.支气管扩张 6.胸腔积液（具体可详见上次住院病历，住院号466195）。患者今晨7时左右受凉后再次出现呕血，颜色呈暗红色，共1次，总量约40ml，无血凝块，解黑色柏油样便1次，量约100mg，伴有全身乏力，心慌，头晕，发热，体温最高达39.9℃，咳嗽，咳白痰，痰不易咳出，胸闷、气短，无一过性黑懵、晕厥，无突发剧烈上腹痛。由患者家属送至我院，遂拟“上消化道出血”收住入院。病程中患者无咯血，无吞咽困难，无口腔、牙龈出血，无憋喘，无腹泻，食纳、睡眠欠佳，小便正常，平时大便正常，近期体重无明显变化。 [SEP] 神志清晰，精神尚可，形体偏瘦，语言清晰，口唇苍白；皮肤苍白，无斑疹。头颅大小形态正常，无目窼下陷，白睛黄染，耳轮正常，无耳瘘级生疮；颈部对称，无青筋暴露，无瘿瘤瘰疬，胸部对称，虚里搏动正常，腹部平坦，无癥瘕痞块，爪甲色泽红润，双下肢对称轻度水肿，舌质红，苔薄白，脉弦。 [SEP]\",\n",
      "  \"LABEL\": 0\n",
      "}\n",
      "----------------------------------------\n",
      "样本 4:\n",
      "{\n",
      "  \"user_id\": \"445067\",\n",
      "  \"lcd_id\": \"BNP130\",\n",
      "  \"lcd_name\": \"便血病\",\n",
      "  \"syndrome\": \"气虚不摄证\",\n",
      "  \"chief_complaint\": \"反复黑便间作三年余，再发半日\",\n",
      "  \"description\": \"患者自2016年4月反复出现黑便，量多，诊断考虑：1.上消化道出血：食管静脉曲张破裂2.肝炎后肝硬化失代偿期3.慢性乙型病毒性肝炎4.糖尿病5.失血性贫血，经抑酸、输血、止血对症治疗后症状缓解，昨日夜间20:00时许无明显诱因解柏油样大便，约100ml，伴有头晕、乏力，晨起再次解黑便量约200ml，伴有乏力、头晕，无汗出、心慌，无一过性晕厥，无恶心呕吐，遂由家人送至我院，门诊遂拟上消化道出血收入我科进一步诊治。发病来，患者头晕、乏力，腹部胀满，阵发性恶心，心慌不显，无发热、黄疸，无吞咽困难，无胸闷、咳痰、咯血，无尿少、尿血，食纳、睡眠欠佳，小便正常，近期无明显消瘦。\",\n",
      "  \"detection\": \"神志清晰，精神尚可，形体形体适中，语言清晰，口唇苍白；皮肤正常，无斑疹。头颅大小形态正常，无目窼下陷，无白睛，耳轮正常，无耳瘘级生疮；颈部对称，无青筋暴露，无瘿瘤瘰疬，胸部对称，虚里搏动正常，腹部平坦，无癥瘕痞块，爪甲色泽：色泽红润，双下肢对称，舌淡红，苔白，脉细\",\n",
      "  \"norm_syndrome\": \"气虚不摄证\",\n",
      "  \"TEXT\": \"[CLS] 患者自2016年4月反复出现黑便，量多，诊断考虑：1.上消化道出血：食管静脉曲张破裂2.肝炎后肝硬化失代偿期3.慢性乙型病毒性肝炎4.糖尿病5.失血性贫血，经抑酸、输血、止血对症治疗后症状缓解，昨日夜间20:00时许无明显诱因解柏油样大便，约100ml，伴有头晕、乏力，晨起再次解黑便量约200ml，伴有乏力、头晕，无汗出、心慌，无一过性晕厥，无恶心呕吐，遂由家人送至我院，门诊遂拟上消化道出血收入我科进一步诊治。发病来，患者头晕、乏力，腹部胀满，阵发性恶心，心慌不显，无发热、黄疸，无吞咽困难，无胸闷、咳痰、咯血，无尿少、尿血，食纳、睡眠欠佳，小便正常，近期无明显消瘦。 [SEP] 神志清晰，精神尚可，形体形体适中，语言清晰，口唇苍白；皮肤正常，无斑疹。头颅大小形态正常，无目窼下陷，无白睛，耳轮正常，无耳瘘级生疮；颈部对称，无青筋暴露，无瘿瘤瘰疬，胸部对称，虚里搏动正常，腹部平坦，无癥瘕痞块，爪甲色泽：色泽红润，双下肢对称，舌淡红，苔白，脉细 [SEP]\",\n",
      "  \"LABEL\": 0\n",
      "}\n",
      "----------------------------------------\n",
      "样本 5:\n",
      "{\n",
      "  \"user_id\": \"427310\",\n",
      "  \"lcd_id\": \"BNP130\",\n",
      "  \"lcd_name\": \"便血病\",\n",
      "  \"syndrome\": \"气虚不摄证\",\n",
      "  \"chief_complaint\": \"大便不成形一年，加重伴颜色发黑一周。\",\n",
      "  \"description\": \"患者一年前无明显诱因出现大便不成形，次数增多，3-4次/日，便前伴腹痛，便后缓解，无明显粘液附着，无脓血，无里急后重感，间断口服肠炎宁等延误对症治疗，效果尚可，一周前患者自觉病情加重约7-8次/日，色深，呈黑色，伴左下腹疼痛，排气明显减少，今为求进一步综合诊疗来我院就诊，门诊遂拟消化道出血收入我科进一步诊治。发病来，患者乏力，自觉四肢发冷，大便次数多，不成形，色黑，无发热、黄疸，无吞咽困难，无胸闷、咳痰、咯血，无尿少、尿血，食纳、睡眠欠佳，近期无明显消瘦。\",\n",
      "  \"detection\": \"神志清晰，精神尚可，形体形体适中，语言清晰，口唇苍白；皮肤正常，无斑疹。头颅大小形态正常，无目窼下陷，无白睛，耳轮正常，无耳瘘级生疮；颈部对称，无青筋暴露，无瘿瘤瘰疬，胸部对称，虚里搏动正常，腹部平坦，无癥瘕痞块，爪甲色泽：色泽红润，双下肢对称，舌淡红，苔白，脉濡\",\n",
      "  \"norm_syndrome\": \"气虚不摄证\",\n",
      "  \"TEXT\": \"[CLS] 患者一年前无明显诱因出现大便不成形，次数增多，3-4次/日，便前伴腹痛，便后缓解，无明显粘液附着，无脓血，无里急后重感，间断口服肠炎宁等延误对症治疗，效果尚可，一周前患者自觉病情加重约7-8次/日，色深，呈黑色，伴左下腹疼痛，排气明显减少，今为求进一步综合诊疗来我院就诊，门诊遂拟消化道出血收入我科进一步诊治。发病来，患者乏力，自觉四肢发冷，大便次数多，不成形，色黑，无发热、黄疸，无吞咽困难，无胸闷、咳痰、咯血，无尿少、尿血，食纳、睡眠欠佳，近期无明显消瘦。 [SEP] 神志清晰，精神尚可，形体形体适中，语言清晰，口唇苍白；皮肤正常，无斑疹。头颅大小形态正常，无目窼下陷，无白睛，耳轮正常，无耳瘘级生疮；颈部对称，无青筋暴露，无瘿瘤瘰疬，胸部对称，虚里搏动正常，腹部平坦，无癥瘕痞块，爪甲色泽：色泽红润，双下肢对称，舌淡红，苔白，脉濡 [SEP]\",\n",
      "  \"LABEL\": 0\n",
      "}\n",
      "----------------------------------------\n"
     ]
    }
   ],
   "execution_count": 56
  },
  {
   "metadata": {
    "ExecuteTime": {
     "end_time": "2025-04-14T13:14:09.745867Z",
     "start_time": "2025-04-14T13:14:09.677622Z"
    }
   },
   "cell_type": "code",
   "source": [
    "count = 0\n",
    "with open(input_file, \"r\", encoding=\"utf-8\") as fin:\n",
    "    for _ in fin:\n",
    "        count += 1\n",
    "\n",
    "print(\"样本总数：\", count)"
   ],
   "id": "b63b1fef4a4f9850",
   "outputs": [
    {
     "name": "stdout",
     "output_type": "stream",
     "text": [
      "样本总数： 5486\n"
     ]
    }
   ],
   "execution_count": 57
  },
  {
   "metadata": {
    "ExecuteTime": {
     "end_time": "2025-04-15T07:04:27.850979Z",
     "start_time": "2025-04-15T07:04:27.806684Z"
    }
   },
   "cell_type": "code",
   "source": [
    "import json\n",
    "\n",
    "# 输入和输出文件路径\n",
    "input_file = \"/mnt/nvme2/yyc/TCM/TCM_SD_train_dev/train_with_difficulty.json\"\n",
    "output_file = \"/mnt/nvme2/yyc/TCM/TCM_SD_train_dev/train_with_difficulty.json\"\n",
    "\n",
    "# 定义映射关系：数字 -> 难度字符串\n",
    "difficulty_mapping = {\n",
    "    1: \"easy\",\n",
    "    2: \"middle\",\n",
    "    0: \"hard\"\n",
    "}\n",
    "\n",
    "with open(input_file, \"r\", encoding=\"utf-8\") as fin, \\\n",
    "     open(output_file, \"w\", encoding=\"utf-8\") as fout:\n",
    "    for line in fin:\n",
    "        sample = json.loads(line.strip())\n",
    "        # 获取原 difficulty 值并映射，如果不存在或不匹配，则可置为默认\"unknown\"\n",
    "        diff_value = sample.get(\"difficulty\")\n",
    "        mapped_value = difficulty_mapping.get(diff_value, \"unknown\")\n",
    "        # 保存为新的列 (例如：difficulty_str)\n",
    "        sample[\"difficulty\"] = mapped_value\n",
    "        fout.write(json.dumps(sample, ensure_ascii=False) + \"\\n\")\n",
    "\n",
    "print(f\"处理完成，新文件保存在 {output_file}\")\n"
   ],
   "id": "af0d31807550a40f",
   "outputs": [
    {
     "name": "stdout",
     "output_type": "stream",
     "text": [
      "处理完成，新文件保存在 /mnt/nvme2/yyc/TCM/TCM_SD_train_dev/train_with_difficulty.json\n"
     ]
    }
   ],
   "execution_count": 58
  },
  {
   "metadata": {
    "ExecuteTime": {
     "end_time": "2025-04-15T07:05:44.163140Z",
     "start_time": "2025-04-15T07:05:44.148662Z"
    }
   },
   "cell_type": "code",
   "source": [
    "import json\n",
    "\n",
    "# 文件路径\n",
    "input_file = \"/mnt/nvme2/yyc/TCM/TCM_SD_train_dev/train_with_difficulty.json\"\n",
    "\n",
    "# 打印前 5 行数据\n",
    "with open(input_file, \"r\", encoding=\"utf-8\") as fin:\n",
    "    for i, line in enumerate(fin):\n",
    "        try:\n",
    "            sample = json.loads(line.strip())\n",
    "            # 格式化打印 JSON 对象，便于检查字段\n",
    "            print(f\"样本 {i + 1}:\")\n",
    "            print(json.dumps(sample, ensure_ascii=False, indent=2))\n",
    "            print(\"-\" * 40)\n",
    "        except Exception as e:\n",
    "            print(\"解析第 {} 行时出错：{}\".format(i + 1, e))\n",
    "        # 仅打印前 5 行\n",
    "        if i >= 4:\n",
    "            break"
   ],
   "id": "aaad4739e0242e07",
   "outputs": [],
   "execution_count": 60
  },
  {
   "metadata": {
    "ExecuteTime": {
     "end_time": "2025-04-15T07:23:44.720715Z",
     "start_time": "2025-04-15T07:23:43.397971Z"
    }
   },
   "cell_type": "code",
   "source": [
    "import json\n",
    "\n",
    "input_file = \"/mnt/nvme2/yyc/TCM/TCM_SD_train_dev/train_with_difficulty.json\"\n",
    "output_file = \"/mnt/nvme2/yyc/TCM/TCM_SD_train_dev/train_with_difficulty_mapped.json\"\n",
    "\n",
    "# 定义映射关系\n",
    "difficulty_mapping = {\n",
    "    1: \"easy\",\n",
    "    2: \"middle\",\n",
    "    0: \"hard\"\n",
    "}\n",
    "\n",
    "with open(input_file, \"r\", encoding=\"utf-8\") as fin, open(output_file, \"w\", encoding=\"utf-8\") as fout:\n",
    "    for line in fin:\n",
    "        sample = json.loads(line.strip())\n",
    "        diff_value = sample.get(\"difficulty\")\n",
    "        sample[\"difficulty\"] = difficulty_mapping.get(diff_value, \"unknown\")\n",
    "        fout.write(json.dumps(sample, ensure_ascii=False) + \"\\n\")\n",
    "\n",
    "print(f\"处理完成，结果保存到 {output_file}\")"
   ],
   "id": "ad5d6b9918c57431",
   "outputs": [
    {
     "name": "stdout",
     "output_type": "stream",
     "text": [
      "处理完成，结果保存到 /mnt/nvme2/yyc/TCM/TCM_SD_train_dev/train_with_difficulty_mapped.json\n"
     ]
    }
   ],
   "execution_count": 65
  },
  {
   "metadata": {
    "ExecuteTime": {
     "end_time": "2025-04-15T07:24:57.512271Z",
     "start_time": "2025-04-15T07:24:56.201757Z"
    }
   },
   "cell_type": "code",
   "source": [
    "import json\n",
    "\n",
    "input_file = \"/mnt/nvme2/yyc/TCM/TCM_SD_train_dev/train_with_difficultyV2.json\"\n",
    "output_file = \"/mnt/nvme2/yyc/TCM/TCM_SD_train_dev/train_with_difficultyV2_mapped.json\"\n",
    "\n",
    "# 定义映射关系\n",
    "difficulty_mapping = {\n",
    "    1: \"easy\",\n",
    "    0: \"middle\",\n",
    "    2: \"hard\"\n",
    "}\n",
    "\n",
    "with open(input_file, \"r\", encoding=\"utf-8\") as fin, open(output_file, \"w\", encoding=\"utf-8\") as fout:\n",
    "    for line in fin:\n",
    "        sample = json.loads(line.strip())\n",
    "        diff_value = sample.get(\"difficulty\")\n",
    "        sample[\"difficulty\"] = difficulty_mapping.get(diff_value, \"unknown\")\n",
    "        fout.write(json.dumps(sample, ensure_ascii=False) + \"\\n\")\n",
    "\n",
    "print(f\"处理完成，结果保存到 {output_file}\")"
   ],
   "id": "d7b242d4b5de5381",
   "outputs": [
    {
     "name": "stdout",
     "output_type": "stream",
     "text": [
      "处理完成，结果保存到 /mnt/nvme2/yyc/TCM/TCM_SD_train_dev/train_with_difficultyV2_mapped.json\n"
     ]
    }
   ],
   "execution_count": 66
  },
  {
   "metadata": {
    "ExecuteTime": {
     "end_time": "2025-04-25T05:13:30.653689Z",
     "start_time": "2025-04-25T05:13:29.822353Z"
    }
   },
   "cell_type": "code",
   "source": [
    "import json\n",
    "from collections import Counter\n",
    "\n",
    "input_file = \"/mnt/nvme2/yyc/TCM/TCM_SD_train_dev/train_with_difficultyV2.json\"\n",
    "\n",
    "counts = Counter()\n",
    "with open(input_file, \"r\", encoding=\"utf-8\") as f:\n",
    "    # 尝试按 JSON 数组读取\n",
    "    data = json.load(f)\n",
    "    if isinstance(data, list):\n",
    "        for item in data:\n",
    "            counts[item.get(\"difficulty\", \"unknown\")] += 1\n",
    "    else:\n",
    "        # 如果是 JSONL 格式，每行一个 JSON 对象\n",
    "        f.seek(0)\n",
    "        for line in f:\n",
    "            obj = json.loads(line)\n",
    "            counts[obj.get(\"difficulty\", \"unknown\")] += 1\n",
    "\n",
    "print(f\"easy:   {counts.get('easy', 0)}\")\n",
    "print(f\"middle: {counts.get('middle', 0)}\")\n",
    "print(f\"hard:   {counts.get('hard', 0)}\")\n"
   ],
   "id": "30d4a4ac530d27bf",
   "outputs": [
    {
     "ename": "JSONDecodeError",
     "evalue": "Extra data: line 2 column 1 (char 933)",
     "output_type": "error",
     "traceback": [
      "\u001B[31m---------------------------------------------------------------------------\u001B[39m",
      "\u001B[31mJSONDecodeError\u001B[39m                           Traceback (most recent call last)",
      "\u001B[36mCell\u001B[39m\u001B[36m \u001B[39m\u001B[32mIn[1]\u001B[39m\u001B[32m, line 9\u001B[39m\n\u001B[32m      6\u001B[39m counts = Counter()\n\u001B[32m      7\u001B[39m \u001B[38;5;28;01mwith\u001B[39;00m \u001B[38;5;28mopen\u001B[39m(input_file, \u001B[33m\"\u001B[39m\u001B[33mr\u001B[39m\u001B[33m\"\u001B[39m, encoding=\u001B[33m\"\u001B[39m\u001B[33mutf-8\u001B[39m\u001B[33m\"\u001B[39m) \u001B[38;5;28;01mas\u001B[39;00m f:\n\u001B[32m      8\u001B[39m     \u001B[38;5;66;03m# 尝试按 JSON 数组读取\u001B[39;00m\n\u001B[32m----> \u001B[39m\u001B[32m9\u001B[39m     data = \u001B[43mjson\u001B[49m\u001B[43m.\u001B[49m\u001B[43mload\u001B[49m\u001B[43m(\u001B[49m\u001B[43mf\u001B[49m\u001B[43m)\u001B[49m\n\u001B[32m     10\u001B[39m     \u001B[38;5;28;01mif\u001B[39;00m \u001B[38;5;28misinstance\u001B[39m(data, \u001B[38;5;28mlist\u001B[39m):\n\u001B[32m     11\u001B[39m         \u001B[38;5;28;01mfor\u001B[39;00m item \u001B[38;5;129;01min\u001B[39;00m data:\n",
      "\u001B[36mFile \u001B[39m\u001B[32m~/anaconda3/envs/TCM/lib/python3.11/json/__init__.py:293\u001B[39m, in \u001B[36mload\u001B[39m\u001B[34m(fp, cls, object_hook, parse_float, parse_int, parse_constant, object_pairs_hook, **kw)\u001B[39m\n\u001B[32m    274\u001B[39m \u001B[38;5;28;01mdef\u001B[39;00m\u001B[38;5;250m \u001B[39m\u001B[34mload\u001B[39m(fp, *, \u001B[38;5;28mcls\u001B[39m=\u001B[38;5;28;01mNone\u001B[39;00m, object_hook=\u001B[38;5;28;01mNone\u001B[39;00m, parse_float=\u001B[38;5;28;01mNone\u001B[39;00m,\n\u001B[32m    275\u001B[39m         parse_int=\u001B[38;5;28;01mNone\u001B[39;00m, parse_constant=\u001B[38;5;28;01mNone\u001B[39;00m, object_pairs_hook=\u001B[38;5;28;01mNone\u001B[39;00m, **kw):\n\u001B[32m    276\u001B[39m \u001B[38;5;250m    \u001B[39m\u001B[33;03m\"\"\"Deserialize ``fp`` (a ``.read()``-supporting file-like object containing\u001B[39;00m\n\u001B[32m    277\u001B[39m \u001B[33;03m    a JSON document) to a Python object.\u001B[39;00m\n\u001B[32m    278\u001B[39m \n\u001B[32m   (...)\u001B[39m\u001B[32m    291\u001B[39m \u001B[33;03m    kwarg; otherwise ``JSONDecoder`` is used.\u001B[39;00m\n\u001B[32m    292\u001B[39m \u001B[33;03m    \"\"\"\u001B[39;00m\n\u001B[32m--> \u001B[39m\u001B[32m293\u001B[39m     \u001B[38;5;28;01mreturn\u001B[39;00m \u001B[43mloads\u001B[49m\u001B[43m(\u001B[49m\u001B[43mfp\u001B[49m\u001B[43m.\u001B[49m\u001B[43mread\u001B[49m\u001B[43m(\u001B[49m\u001B[43m)\u001B[49m\u001B[43m,\u001B[49m\n\u001B[32m    294\u001B[39m \u001B[43m        \u001B[49m\u001B[38;5;28;43mcls\u001B[39;49m\u001B[43m=\u001B[49m\u001B[38;5;28;43mcls\u001B[39;49m\u001B[43m,\u001B[49m\u001B[43m \u001B[49m\u001B[43mobject_hook\u001B[49m\u001B[43m=\u001B[49m\u001B[43mobject_hook\u001B[49m\u001B[43m,\u001B[49m\n\u001B[32m    295\u001B[39m \u001B[43m        \u001B[49m\u001B[43mparse_float\u001B[49m\u001B[43m=\u001B[49m\u001B[43mparse_float\u001B[49m\u001B[43m,\u001B[49m\u001B[43m \u001B[49m\u001B[43mparse_int\u001B[49m\u001B[43m=\u001B[49m\u001B[43mparse_int\u001B[49m\u001B[43m,\u001B[49m\n\u001B[32m    296\u001B[39m \u001B[43m        \u001B[49m\u001B[43mparse_constant\u001B[49m\u001B[43m=\u001B[49m\u001B[43mparse_constant\u001B[49m\u001B[43m,\u001B[49m\u001B[43m \u001B[49m\u001B[43mobject_pairs_hook\u001B[49m\u001B[43m=\u001B[49m\u001B[43mobject_pairs_hook\u001B[49m\u001B[43m,\u001B[49m\u001B[43m \u001B[49m\u001B[43m*\u001B[49m\u001B[43m*\u001B[49m\u001B[43mkw\u001B[49m\u001B[43m)\u001B[49m\n",
      "\u001B[36mFile \u001B[39m\u001B[32m~/anaconda3/envs/TCM/lib/python3.11/json/__init__.py:346\u001B[39m, in \u001B[36mloads\u001B[39m\u001B[34m(s, cls, object_hook, parse_float, parse_int, parse_constant, object_pairs_hook, **kw)\u001B[39m\n\u001B[32m    341\u001B[39m     s = s.decode(detect_encoding(s), \u001B[33m'\u001B[39m\u001B[33msurrogatepass\u001B[39m\u001B[33m'\u001B[39m)\n\u001B[32m    343\u001B[39m \u001B[38;5;28;01mif\u001B[39;00m (\u001B[38;5;28mcls\u001B[39m \u001B[38;5;129;01mis\u001B[39;00m \u001B[38;5;28;01mNone\u001B[39;00m \u001B[38;5;129;01mand\u001B[39;00m object_hook \u001B[38;5;129;01mis\u001B[39;00m \u001B[38;5;28;01mNone\u001B[39;00m \u001B[38;5;129;01mand\u001B[39;00m\n\u001B[32m    344\u001B[39m         parse_int \u001B[38;5;129;01mis\u001B[39;00m \u001B[38;5;28;01mNone\u001B[39;00m \u001B[38;5;129;01mand\u001B[39;00m parse_float \u001B[38;5;129;01mis\u001B[39;00m \u001B[38;5;28;01mNone\u001B[39;00m \u001B[38;5;129;01mand\u001B[39;00m\n\u001B[32m    345\u001B[39m         parse_constant \u001B[38;5;129;01mis\u001B[39;00m \u001B[38;5;28;01mNone\u001B[39;00m \u001B[38;5;129;01mand\u001B[39;00m object_pairs_hook \u001B[38;5;129;01mis\u001B[39;00m \u001B[38;5;28;01mNone\u001B[39;00m \u001B[38;5;129;01mand\u001B[39;00m \u001B[38;5;129;01mnot\u001B[39;00m kw):\n\u001B[32m--> \u001B[39m\u001B[32m346\u001B[39m     \u001B[38;5;28;01mreturn\u001B[39;00m \u001B[43m_default_decoder\u001B[49m\u001B[43m.\u001B[49m\u001B[43mdecode\u001B[49m\u001B[43m(\u001B[49m\u001B[43ms\u001B[49m\u001B[43m)\u001B[49m\n\u001B[32m    347\u001B[39m \u001B[38;5;28;01mif\u001B[39;00m \u001B[38;5;28mcls\u001B[39m \u001B[38;5;129;01mis\u001B[39;00m \u001B[38;5;28;01mNone\u001B[39;00m:\n\u001B[32m    348\u001B[39m     \u001B[38;5;28mcls\u001B[39m = JSONDecoder\n",
      "\u001B[36mFile \u001B[39m\u001B[32m~/anaconda3/envs/TCM/lib/python3.11/json/decoder.py:340\u001B[39m, in \u001B[36mJSONDecoder.decode\u001B[39m\u001B[34m(self, s, _w)\u001B[39m\n\u001B[32m    338\u001B[39m end = _w(s, end).end()\n\u001B[32m    339\u001B[39m \u001B[38;5;28;01mif\u001B[39;00m end != \u001B[38;5;28mlen\u001B[39m(s):\n\u001B[32m--> \u001B[39m\u001B[32m340\u001B[39m     \u001B[38;5;28;01mraise\u001B[39;00m JSONDecodeError(\u001B[33m\"\u001B[39m\u001B[33mExtra data\u001B[39m\u001B[33m\"\u001B[39m, s, end)\n\u001B[32m    341\u001B[39m \u001B[38;5;28;01mreturn\u001B[39;00m obj\n",
      "\u001B[31mJSONDecodeError\u001B[39m: Extra data: line 2 column 1 (char 933)"
     ]
    }
   ],
   "execution_count": 1
  },
  {
   "metadata": {
    "ExecuteTime": {
     "end_time": "2025-04-25T05:20:42.400424Z",
     "start_time": "2025-04-25T05:20:42.295053Z"
    }
   },
   "cell_type": "code",
   "source": [
    "import json\n",
    "from collections import Counter\n",
    "\n",
    "# 文件路径\n",
    "input_file = \"/mnt/nvme2/yyc/TCM/TCM_SD_train_dev/testV2.json\"\n",
    "\n",
    "# 用 Counter 统计 difficulty\n",
    "difficulty_counter = Counter()\n",
    "total_samples = 0\n",
    "\n",
    "with open(input_file, \"r\", encoding=\"utf-8\") as fin:\n",
    "    for line in fin:\n",
    "        try:\n",
    "            sample = json.loads(line.strip())\n",
    "            diff = sample.get(\"difficulty\")\n",
    "            if diff is not None:\n",
    "                difficulty_counter[diff] += 1\n",
    "            total_samples += 1\n",
    "        except Exception as e:\n",
    "            print(f\"解析错误：{e}\")\n",
    "            continue\n",
    "\n",
    "# 打印统计结果\n",
    "print(f\"总样本数: {total_samples}\")\n",
    "\n",
    "\n"
   ],
   "id": "837d9b928c384f57",
   "outputs": [
    {
     "name": "stdout",
     "output_type": "stream",
     "text": [
      "总样本数: 5486\n"
     ]
    }
   ],
   "execution_count": 5
  },
  {
   "metadata": {
    "ExecuteTime": {
     "end_time": "2025-04-27T08:34:33.696739Z",
     "start_time": "2025-04-27T08:34:32.328394Z"
    }
   },
   "cell_type": "code",
   "source": [
    "import json\n",
    "\n",
    "input_file = \"/mnt/nvme2/yyc/TCM/TCM_SD_train_dev/train_with_difficulty_2.json\"\n",
    "output_file = \"/mnt/nvme2/yyc/TCM/TCM_SD_train_dev/train_with_difficulty2_mapped.json\"\n",
    "\n",
    "# 定义映射关系\n",
    "difficulty_mapping = {\n",
    "    1: \"easy\",\n",
    "    0: \"hard\"\n",
    "}\n",
    "\n",
    "counter = Counter()\n",
    "\n",
    "with open(input_file, \"r\", encoding=\"utf-8\") as fin, \\\n",
    "     open(output_file, \"w\", encoding=\"utf-8\") as fout:\n",
    "    for line in fin:\n",
    "        sample = json.loads(line)\n",
    "        mapped = difficulty_mapping.get(sample.get(\"difficulty\"), \"unknown\")\n",
    "        sample[\"difficulty\"] = mapped\n",
    "        fout.write(json.dumps(sample, ensure_ascii=False) + \"\\n\")\n",
    "        counter[mapped] += 1\n",
    "\n",
    "print(\"映射后各 difficulty 样本数：\")\n",
    "for diff, cnt in counter.items():\n",
    "    print(f\"  {diff}: {cnt}\")"
   ],
   "id": "52afe74871c0f901",
   "outputs": [
    {
     "name": "stdout",
     "output_type": "stream",
     "text": [
      "映射后各 difficulty 样本数：\n",
      "  easy: 33252\n",
      "  hard: 9928\n"
     ]
    }
   ],
   "execution_count": 10
  },
  {
   "metadata": {
    "ExecuteTime": {
     "end_time": "2025-04-27T08:33:07.543414Z",
     "start_time": "2025-04-27T08:33:06.237178Z"
    }
   },
   "cell_type": "code",
   "source": [
    "import json\n",
    "from collections import Counter\n",
    "\n",
    "input_file = \"/mnt/nvme2/yyc/TCM/TCM_SD_train_dev/train_with_difficulty_4.json\"\n",
    "output_file = \"/mnt/nvme2/yyc/TCM/TCM_SD_train_dev/train_with_difficulty4_mapped.json\"\n",
    "\n",
    "difficulty_mapping = {\n",
    "    1: \"easy\",\n",
    "    2: \"hard\",\n",
    "    0: \"harder\",\n",
    "    3: \"middle\",\n",
    "}\n",
    "\n",
    "counter = Counter()\n",
    "\n",
    "with open(input_file, \"r\", encoding=\"utf-8\") as fin, \\\n",
    "     open(output_file, \"w\", encoding=\"utf-8\") as fout:\n",
    "    for line in fin:\n",
    "        sample = json.loads(line)\n",
    "        mapped = difficulty_mapping.get(sample.get(\"difficulty\"), \"unknown\")\n",
    "        sample[\"difficulty\"] = mapped\n",
    "        fout.write(json.dumps(sample, ensure_ascii=False) + \"\\n\")\n",
    "        counter[mapped] += 1\n",
    "\n",
    "print(\"映射后各 difficulty 样本数：\")\n",
    "for diff, cnt in counter.items():\n",
    "    print(f\"  {diff}: {cnt}\")\n"
   ],
   "id": "dfe0918f16451123",
   "outputs": [
    {
     "name": "stdout",
     "output_type": "stream",
     "text": [
      "映射后各 difficulty 样本数：\n",
      "  easy: 26248\n",
      "  middle: 9537\n",
      "  harder: 2496\n",
      "  hard: 4899\n"
     ]
    }
   ],
   "execution_count": 9
  },
  {
   "metadata": {},
   "cell_type": "code",
   "outputs": [],
   "execution_count": null,
   "source": "",
   "id": "b2cfbb722b110471"
  }
 ],
 "metadata": {
  "kernelspec": {
   "display_name": "Python 3",
   "language": "python",
   "name": "python3"
  },
  "language_info": {
   "codemirror_mode": {
    "name": "ipython",
    "version": 2
   },
   "file_extension": ".py",
   "mimetype": "text/x-python",
   "name": "python",
   "nbconvert_exporter": "python",
   "pygments_lexer": "ipython2",
   "version": "2.7.6"
  }
 },
 "nbformat": 4,
 "nbformat_minor": 5
}

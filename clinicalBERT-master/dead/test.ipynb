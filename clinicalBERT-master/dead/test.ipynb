{
 "cells": [
  {
   "cell_type": "code",
   "id": "initial_id",
   "metadata": {
    "collapsed": true,
    "ExecuteTime": {
     "end_time": "2025-07-22T02:38:35.764086Z",
     "start_time": "2025-07-22T02:38:35.501305Z"
    }
   },
   "source": [
    "import pandas as pd\n",
    "\n",
    "df = pd.read_csv(\n",
    "    '/mnt/nvme4/Datasets/MIMIC-IV/physionet.org/files/mimiciv/3.0/hosp/patients.csv.gz',\n",
    "    compression='gzip'\n",
    ")\n",
    "print(df.head())\n",
    "print(df.columns.tolist())\n"
   ],
   "outputs": [
    {
     "name": "stdout",
     "output_type": "stream",
     "text": [
      "   subject_id gender  anchor_age  anchor_year anchor_year_group         dod\n",
      "0    10000032      F          52         2180       2014 - 2016  2180-09-09\n",
      "1    10000048      F          23         2126       2008 - 2010         NaN\n",
      "2    10000058      F          33         2168       2020 - 2022         NaN\n",
      "3    10000068      F          19         2160       2008 - 2010         NaN\n",
      "4    10000084      M          72         2160       2017 - 2019  2161-02-13\n",
      "['subject_id', 'gender', 'anchor_age', 'anchor_year', 'anchor_year_group', 'dod']\n"
     ]
    }
   ],
   "execution_count": 3
  },
  {
   "metadata": {
    "ExecuteTime": {
     "end_time": "2025-07-22T02:46:27.893345Z",
     "start_time": "2025-07-22T02:46:23.410780Z"
    }
   },
   "cell_type": "code",
   "source": [
    "import pandas as pd\n",
    "\n",
    "# 读取 patients 表的 subject_id 和 dod 两列\n",
    "patients_df = pd.read_csv(\n",
    "    '/mnt/nvme4/Datasets/MIMIC-IV/physionet.org/files/mimiciv/3.0/hosp/patients.csv.gz',\n",
    "    compression='gzip',\n",
    "    usecols=['subject_id', 'dod']\n",
    ")\n",
    "\n",
    "# 读取 mimiciv_icd9.feather 表的 subject_id, _id, text 三列\n",
    "mimicicd9_df = pd.read_feather(\n",
    "    '/mnt/nvme2/yyc/medical-coding/files/data/mimiciv_icd9/mimiciv_icd9.feather',\n",
    "    columns=['subject_id', '_id', 'text']\n",
    ")\n",
    "\n",
    "# 合并并设置索引，然后新增 LABEL 列\n",
    "merged_df = (\n",
    "    patients_df\n",
    "    .merge(mimicicd9_df, on='subject_id', how='inner')\n",
    "    .assign(LABEL=lambda df: df['dod'].notna().astype(int))\n",
    "    .set_index('subject_id')\n",
    ")\n",
    "\n",
    "print(merged_df.head())\n",
    "\n"
   ],
   "id": "2c67f48f799f69d4",
   "outputs": [
    {
     "name": "stdout",
     "output_type": "stream",
     "text": [
      "                   dod       _id  \\\n",
      "subject_id                         \n",
      "10000032    2180-09-09  22595853   \n",
      "10000032    2180-09-09  22841357   \n",
      "10000032    2180-09-09  29079034   \n",
      "10000032    2180-09-09  25742920   \n",
      "10000248           NaN  20600184   \n",
      "\n",
      "                                                         text  LABEL  \n",
      "subject_id                                                            \n",
      "10000032    name unit no admission date discharge date dat...      1  \n",
      "10000032    name unit no admission date discharge date dat...      1  \n",
      "10000032    name unit no admission date discharge date dat...      1  \n",
      "10000032    name unit no admission date discharge date dat...      1  \n",
      "10000248    name unit no admission date discharge date dat...      0  \n"
     ]
    }
   ],
   "execution_count": 5
  },
  {
   "metadata": {
    "ExecuteTime": {
     "end_time": "2025-07-22T02:48:40.800059Z",
     "start_time": "2025-07-22T02:48:40.756912Z"
    }
   },
   "cell_type": "code",
   "source": [
    "merged_df.rename(columns={'text': 'TEXT'}, inplace=True)\n",
    "merged_df['LABEL'] = merged_df['dod'].notna().astype(int)\n",
    "\n",
    "# 查看结果\n",
    "merged_df.head()"
   ],
   "id": "c549d1d4642900b5",
   "outputs": [
    {
     "data": {
      "text/plain": [
       "                   dod       _id  \\\n",
       "subject_id                         \n",
       "10000032    2180-09-09  22595853   \n",
       "10000032    2180-09-09  22841357   \n",
       "10000032    2180-09-09  29079034   \n",
       "10000032    2180-09-09  25742920   \n",
       "10000248           NaN  20600184   \n",
       "\n",
       "                                                         TEXT  LABEL  \n",
       "subject_id                                                            \n",
       "10000032    name unit no admission date discharge date dat...      1  \n",
       "10000032    name unit no admission date discharge date dat...      1  \n",
       "10000032    name unit no admission date discharge date dat...      1  \n",
       "10000032    name unit no admission date discharge date dat...      1  \n",
       "10000248    name unit no admission date discharge date dat...      0  "
      ],
      "text/html": [
       "<div>\n",
       "<style scoped>\n",
       "    .dataframe tbody tr th:only-of-type {\n",
       "        vertical-align: middle;\n",
       "    }\n",
       "\n",
       "    .dataframe tbody tr th {\n",
       "        vertical-align: top;\n",
       "    }\n",
       "\n",
       "    .dataframe thead th {\n",
       "        text-align: right;\n",
       "    }\n",
       "</style>\n",
       "<table border=\"1\" class=\"dataframe\">\n",
       "  <thead>\n",
       "    <tr style=\"text-align: right;\">\n",
       "      <th></th>\n",
       "      <th>dod</th>\n",
       "      <th>_id</th>\n",
       "      <th>TEXT</th>\n",
       "      <th>LABEL</th>\n",
       "    </tr>\n",
       "    <tr>\n",
       "      <th>subject_id</th>\n",
       "      <th></th>\n",
       "      <th></th>\n",
       "      <th></th>\n",
       "      <th></th>\n",
       "    </tr>\n",
       "  </thead>\n",
       "  <tbody>\n",
       "    <tr>\n",
       "      <th>10000032</th>\n",
       "      <td>2180-09-09</td>\n",
       "      <td>22595853</td>\n",
       "      <td>name unit no admission date discharge date dat...</td>\n",
       "      <td>1</td>\n",
       "    </tr>\n",
       "    <tr>\n",
       "      <th>10000032</th>\n",
       "      <td>2180-09-09</td>\n",
       "      <td>22841357</td>\n",
       "      <td>name unit no admission date discharge date dat...</td>\n",
       "      <td>1</td>\n",
       "    </tr>\n",
       "    <tr>\n",
       "      <th>10000032</th>\n",
       "      <td>2180-09-09</td>\n",
       "      <td>29079034</td>\n",
       "      <td>name unit no admission date discharge date dat...</td>\n",
       "      <td>1</td>\n",
       "    </tr>\n",
       "    <tr>\n",
       "      <th>10000032</th>\n",
       "      <td>2180-09-09</td>\n",
       "      <td>25742920</td>\n",
       "      <td>name unit no admission date discharge date dat...</td>\n",
       "      <td>1</td>\n",
       "    </tr>\n",
       "    <tr>\n",
       "      <th>10000248</th>\n",
       "      <td>NaN</td>\n",
       "      <td>20600184</td>\n",
       "      <td>name unit no admission date discharge date dat...</td>\n",
       "      <td>0</td>\n",
       "    </tr>\n",
       "  </tbody>\n",
       "</table>\n",
       "</div>"
      ]
     },
     "execution_count": 6,
     "metadata": {},
     "output_type": "execute_result"
    }
   ],
   "execution_count": 6
  },
  {
   "metadata": {
    "ExecuteTime": {
     "end_time": "2025-07-22T03:00:38.205985Z",
     "start_time": "2025-07-22T03:00:38.184254Z"
    }
   },
   "cell_type": "code",
   "source": [
    "# 如果 subject_id 已是索引，重命名索引名称为 ID\n",
    "merged_df.rename_axis('subject_id', inplace=True)\n",
    "\n",
    "# 如果 subject_id 仍为列，则使用下面这行重命名列：\n",
    "# merged_df.rename(columns={'subject_id': 'ID'}, inplace=True)\n",
    "\n",
    "merged_df.head()"
   ],
   "id": "3e95b505505dab5e",
   "outputs": [
    {
     "data": {
      "text/plain": [
       "                   dod       _id  \\\n",
       "subject_id                         \n",
       "10000032    2180-09-09  22595853   \n",
       "10000032    2180-09-09  22841357   \n",
       "10000032    2180-09-09  29079034   \n",
       "10000032    2180-09-09  25742920   \n",
       "10000248           NaN  20600184   \n",
       "\n",
       "                                                         TEXT  LABEL  \n",
       "subject_id                                                            \n",
       "10000032    name unit no admission date discharge date dat...      1  \n",
       "10000032    name unit no admission date discharge date dat...      1  \n",
       "10000032    name unit no admission date discharge date dat...      1  \n",
       "10000032    name unit no admission date discharge date dat...      1  \n",
       "10000248    name unit no admission date discharge date dat...      0  "
      ],
      "text/html": [
       "<div>\n",
       "<style scoped>\n",
       "    .dataframe tbody tr th:only-of-type {\n",
       "        vertical-align: middle;\n",
       "    }\n",
       "\n",
       "    .dataframe tbody tr th {\n",
       "        vertical-align: top;\n",
       "    }\n",
       "\n",
       "    .dataframe thead th {\n",
       "        text-align: right;\n",
       "    }\n",
       "</style>\n",
       "<table border=\"1\" class=\"dataframe\">\n",
       "  <thead>\n",
       "    <tr style=\"text-align: right;\">\n",
       "      <th></th>\n",
       "      <th>dod</th>\n",
       "      <th>_id</th>\n",
       "      <th>TEXT</th>\n",
       "      <th>LABEL</th>\n",
       "    </tr>\n",
       "    <tr>\n",
       "      <th>subject_id</th>\n",
       "      <th></th>\n",
       "      <th></th>\n",
       "      <th></th>\n",
       "      <th></th>\n",
       "    </tr>\n",
       "  </thead>\n",
       "  <tbody>\n",
       "    <tr>\n",
       "      <th>10000032</th>\n",
       "      <td>2180-09-09</td>\n",
       "      <td>22595853</td>\n",
       "      <td>name unit no admission date discharge date dat...</td>\n",
       "      <td>1</td>\n",
       "    </tr>\n",
       "    <tr>\n",
       "      <th>10000032</th>\n",
       "      <td>2180-09-09</td>\n",
       "      <td>22841357</td>\n",
       "      <td>name unit no admission date discharge date dat...</td>\n",
       "      <td>1</td>\n",
       "    </tr>\n",
       "    <tr>\n",
       "      <th>10000032</th>\n",
       "      <td>2180-09-09</td>\n",
       "      <td>29079034</td>\n",
       "      <td>name unit no admission date discharge date dat...</td>\n",
       "      <td>1</td>\n",
       "    </tr>\n",
       "    <tr>\n",
       "      <th>10000032</th>\n",
       "      <td>2180-09-09</td>\n",
       "      <td>25742920</td>\n",
       "      <td>name unit no admission date discharge date dat...</td>\n",
       "      <td>1</td>\n",
       "    </tr>\n",
       "    <tr>\n",
       "      <th>10000248</th>\n",
       "      <td>NaN</td>\n",
       "      <td>20600184</td>\n",
       "      <td>name unit no admission date discharge date dat...</td>\n",
       "      <td>0</td>\n",
       "    </tr>\n",
       "  </tbody>\n",
       "</table>\n",
       "</div>"
      ]
     },
     "execution_count": 10,
     "metadata": {},
     "output_type": "execute_result"
    }
   ],
   "execution_count": 10
  },
  {
   "metadata": {
    "ExecuteTime": {
     "end_time": "2025-07-22T02:52:26.651832Z",
     "start_time": "2025-07-22T02:52:05.056192Z"
    }
   },
   "cell_type": "code",
   "source": "merged_df.to_csv('merged_df.csv', index=True)",
   "id": "2812dc2e9e1a108f",
   "outputs": [],
   "execution_count": 8
  },
  {
   "metadata": {
    "ExecuteTime": {
     "end_time": "2025-07-22T02:54:18.741663Z",
     "start_time": "2025-07-22T02:54:04.935339Z"
    }
   },
   "cell_type": "code",
   "source": [
    "import pandas as pd\n",
    "\n",
    "# 读取合并后的 CSV（根据你的工作目录调整路径）\n",
    "df = pd.read_csv('merged_df.csv', index_col=0)\n",
    "\n",
    "# 统计\n",
    "total_samples = len(df)\n",
    "label_counts = df['LABEL'].value_counts().to_dict()\n",
    "\n",
    "print(f\"Total samples: {total_samples}\")\n",
    "print(f\"LABEL = 0: {label_counts.get(0, 0)}\")\n",
    "print(f\"LABEL = 1: {label_counts.get(1, 0)}\")"
   ],
   "id": "f084964946c439c7",
   "outputs": [
    {
     "name": "stdout",
     "output_type": "stream",
     "text": [
      "Total samples: 209297\n",
      "LABEL = 0: 138081\n",
      "LABEL = 1: 71216\n"
     ]
    }
   ],
   "execution_count": 9
  },
  {
   "metadata": {
    "ExecuteTime": {
     "end_time": "2025-07-22T03:02:09.562160Z",
     "start_time": "2025-07-22T03:02:08.234295Z"
    }
   },
   "cell_type": "code",
   "source": [
    "import pandas as pd\n",
    "\n",
    "# 1. 读取 admissions 表的 subject_id 和 hospital_expire_flag 两列\n",
    "admissions = pd.read_csv(\n",
    "    '/mnt/nvme4/Datasets/MIMIC-IV/physionet.org/files/mimiciv/3.0/hosp/admissions.csv.gz',\n",
    "    compression='gzip',\n",
    "    usecols=['subject_id', 'hospital_expire_flag']\n",
    ")\n",
    "\n",
    "# 2. 如果同一 subject_id 有多条住院记录，汇总为一个标签（只要有一次院内死亡便记为 1）\n",
    "adm_flag = (\n",
    "    admissions\n",
    "    .groupby('subject_id', as_index=False)['hospital_expire_flag']\n",
    "    .max()\n",
    ")\n",
    "\n",
    "# 3. 将 hospital_expire_flag 合并到 merged_df\n",
    "merged_df = (\n",
    "    merged_df\n",
    "    .reset_index()  # 把 subject_id 从索引变回列\n",
    "    .merge(adm_flag, on='subject_id', how='left')\n",
    "    .set_index('subject_id')\n",
    ")\n"
   ],
   "id": "c7c7da9f3386d6",
   "outputs": [],
   "execution_count": 11
  },
  {
   "metadata": {
    "ExecuteTime": {
     "end_time": "2025-07-22T03:02:35.073803Z",
     "start_time": "2025-07-22T03:02:35.055234Z"
    }
   },
   "cell_type": "code",
   "source": "merged_df.head()",
   "id": "87d3ecfdbffd8f20",
   "outputs": [
    {
     "data": {
      "text/plain": [
       "                   dod       _id  \\\n",
       "subject_id                         \n",
       "10000032    2180-09-09  22595853   \n",
       "10000032    2180-09-09  22841357   \n",
       "10000032    2180-09-09  29079034   \n",
       "10000032    2180-09-09  25742920   \n",
       "10000248           NaN  20600184   \n",
       "\n",
       "                                                         TEXT  LABEL  \\\n",
       "subject_id                                                             \n",
       "10000032    name unit no admission date discharge date dat...      1   \n",
       "10000032    name unit no admission date discharge date dat...      1   \n",
       "10000032    name unit no admission date discharge date dat...      1   \n",
       "10000032    name unit no admission date discharge date dat...      1   \n",
       "10000248    name unit no admission date discharge date dat...      0   \n",
       "\n",
       "            hospital_expire_flag  \n",
       "subject_id                        \n",
       "10000032                       0  \n",
       "10000032                       0  \n",
       "10000032                       0  \n",
       "10000032                       0  \n",
       "10000248                       0  "
      ],
      "text/html": [
       "<div>\n",
       "<style scoped>\n",
       "    .dataframe tbody tr th:only-of-type {\n",
       "        vertical-align: middle;\n",
       "    }\n",
       "\n",
       "    .dataframe tbody tr th {\n",
       "        vertical-align: top;\n",
       "    }\n",
       "\n",
       "    .dataframe thead th {\n",
       "        text-align: right;\n",
       "    }\n",
       "</style>\n",
       "<table border=\"1\" class=\"dataframe\">\n",
       "  <thead>\n",
       "    <tr style=\"text-align: right;\">\n",
       "      <th></th>\n",
       "      <th>dod</th>\n",
       "      <th>_id</th>\n",
       "      <th>TEXT</th>\n",
       "      <th>LABEL</th>\n",
       "      <th>hospital_expire_flag</th>\n",
       "    </tr>\n",
       "    <tr>\n",
       "      <th>subject_id</th>\n",
       "      <th></th>\n",
       "      <th></th>\n",
       "      <th></th>\n",
       "      <th></th>\n",
       "      <th></th>\n",
       "    </tr>\n",
       "  </thead>\n",
       "  <tbody>\n",
       "    <tr>\n",
       "      <th>10000032</th>\n",
       "      <td>2180-09-09</td>\n",
       "      <td>22595853</td>\n",
       "      <td>name unit no admission date discharge date dat...</td>\n",
       "      <td>1</td>\n",
       "      <td>0</td>\n",
       "    </tr>\n",
       "    <tr>\n",
       "      <th>10000032</th>\n",
       "      <td>2180-09-09</td>\n",
       "      <td>22841357</td>\n",
       "      <td>name unit no admission date discharge date dat...</td>\n",
       "      <td>1</td>\n",
       "      <td>0</td>\n",
       "    </tr>\n",
       "    <tr>\n",
       "      <th>10000032</th>\n",
       "      <td>2180-09-09</td>\n",
       "      <td>29079034</td>\n",
       "      <td>name unit no admission date discharge date dat...</td>\n",
       "      <td>1</td>\n",
       "      <td>0</td>\n",
       "    </tr>\n",
       "    <tr>\n",
       "      <th>10000032</th>\n",
       "      <td>2180-09-09</td>\n",
       "      <td>25742920</td>\n",
       "      <td>name unit no admission date discharge date dat...</td>\n",
       "      <td>1</td>\n",
       "      <td>0</td>\n",
       "    </tr>\n",
       "    <tr>\n",
       "      <th>10000248</th>\n",
       "      <td>NaN</td>\n",
       "      <td>20600184</td>\n",
       "      <td>name unit no admission date discharge date dat...</td>\n",
       "      <td>0</td>\n",
       "      <td>0</td>\n",
       "    </tr>\n",
       "  </tbody>\n",
       "</table>\n",
       "</div>"
      ]
     },
     "execution_count": 12,
     "metadata": {},
     "output_type": "execute_result"
    }
   ],
   "execution_count": 12
  },
  {
   "metadata": {
    "ExecuteTime": {
     "end_time": "2025-07-22T03:04:09.087654Z",
     "start_time": "2025-07-22T03:04:09.075041Z"
    }
   },
   "cell_type": "code",
   "source": [
    "merged_df['LABEL'] = (\n",
    "    (merged_df['hospital_expire_flag'] == 0) &\n",
    "    (merged_df['LABEL'] == 1)\n",
    ").astype(int)"
   ],
   "id": "b794434c9c4ec7ac",
   "outputs": [],
   "execution_count": 13
  },
  {
   "metadata": {
    "ExecuteTime": {
     "end_time": "2025-07-22T03:04:13.684759Z",
     "start_time": "2025-07-22T03:04:13.666850Z"
    }
   },
   "cell_type": "code",
   "source": "merged_df.head()",
   "id": "21af480e66a3eaa2",
   "outputs": [
    {
     "data": {
      "text/plain": [
       "                   dod       _id  \\\n",
       "subject_id                         \n",
       "10000032    2180-09-09  22595853   \n",
       "10000032    2180-09-09  22841357   \n",
       "10000032    2180-09-09  29079034   \n",
       "10000032    2180-09-09  25742920   \n",
       "10000248           NaN  20600184   \n",
       "\n",
       "                                                         TEXT  LABEL  \\\n",
       "subject_id                                                             \n",
       "10000032    name unit no admission date discharge date dat...      1   \n",
       "10000032    name unit no admission date discharge date dat...      1   \n",
       "10000032    name unit no admission date discharge date dat...      1   \n",
       "10000032    name unit no admission date discharge date dat...      1   \n",
       "10000248    name unit no admission date discharge date dat...      0   \n",
       "\n",
       "            hospital_expire_flag  \n",
       "subject_id                        \n",
       "10000032                       0  \n",
       "10000032                       0  \n",
       "10000032                       0  \n",
       "10000032                       0  \n",
       "10000248                       0  "
      ],
      "text/html": [
       "<div>\n",
       "<style scoped>\n",
       "    .dataframe tbody tr th:only-of-type {\n",
       "        vertical-align: middle;\n",
       "    }\n",
       "\n",
       "    .dataframe tbody tr th {\n",
       "        vertical-align: top;\n",
       "    }\n",
       "\n",
       "    .dataframe thead th {\n",
       "        text-align: right;\n",
       "    }\n",
       "</style>\n",
       "<table border=\"1\" class=\"dataframe\">\n",
       "  <thead>\n",
       "    <tr style=\"text-align: right;\">\n",
       "      <th></th>\n",
       "      <th>dod</th>\n",
       "      <th>_id</th>\n",
       "      <th>TEXT</th>\n",
       "      <th>LABEL</th>\n",
       "      <th>hospital_expire_flag</th>\n",
       "    </tr>\n",
       "    <tr>\n",
       "      <th>subject_id</th>\n",
       "      <th></th>\n",
       "      <th></th>\n",
       "      <th></th>\n",
       "      <th></th>\n",
       "      <th></th>\n",
       "    </tr>\n",
       "  </thead>\n",
       "  <tbody>\n",
       "    <tr>\n",
       "      <th>10000032</th>\n",
       "      <td>2180-09-09</td>\n",
       "      <td>22595853</td>\n",
       "      <td>name unit no admission date discharge date dat...</td>\n",
       "      <td>1</td>\n",
       "      <td>0</td>\n",
       "    </tr>\n",
       "    <tr>\n",
       "      <th>10000032</th>\n",
       "      <td>2180-09-09</td>\n",
       "      <td>22841357</td>\n",
       "      <td>name unit no admission date discharge date dat...</td>\n",
       "      <td>1</td>\n",
       "      <td>0</td>\n",
       "    </tr>\n",
       "    <tr>\n",
       "      <th>10000032</th>\n",
       "      <td>2180-09-09</td>\n",
       "      <td>29079034</td>\n",
       "      <td>name unit no admission date discharge date dat...</td>\n",
       "      <td>1</td>\n",
       "      <td>0</td>\n",
       "    </tr>\n",
       "    <tr>\n",
       "      <th>10000032</th>\n",
       "      <td>2180-09-09</td>\n",
       "      <td>25742920</td>\n",
       "      <td>name unit no admission date discharge date dat...</td>\n",
       "      <td>1</td>\n",
       "      <td>0</td>\n",
       "    </tr>\n",
       "    <tr>\n",
       "      <th>10000248</th>\n",
       "      <td>NaN</td>\n",
       "      <td>20600184</td>\n",
       "      <td>name unit no admission date discharge date dat...</td>\n",
       "      <td>0</td>\n",
       "      <td>0</td>\n",
       "    </tr>\n",
       "  </tbody>\n",
       "</table>\n",
       "</div>"
      ]
     },
     "execution_count": 14,
     "metadata": {},
     "output_type": "execute_result"
    }
   ],
   "execution_count": 14
  },
  {
   "metadata": {
    "ExecuteTime": {
     "end_time": "2025-07-22T03:04:52.044259Z",
     "start_time": "2025-07-22T03:04:30.791570Z"
    }
   },
   "cell_type": "code",
   "source": "merged_df.to_csv('merged_df.csv', index=True)",
   "id": "a4efca6e4ebf3cb8",
   "outputs": [],
   "execution_count": 15
  },
  {
   "metadata": {
    "ExecuteTime": {
     "end_time": "2025-07-22T03:05:07.666482Z",
     "start_time": "2025-07-22T03:04:54.706553Z"
    }
   },
   "cell_type": "code",
   "source": [
    "import pandas as pd\n",
    "\n",
    "# 读取合并后的 CSV（根据你的工作目录调整路径）\n",
    "df = pd.read_csv('merged_df.csv', index_col=0)\n",
    "\n",
    "# 统计\n",
    "total_samples = len(df)\n",
    "label_counts = df['LABEL'].value_counts().to_dict()\n",
    "\n",
    "print(f\"Total samples: {total_samples}\")\n",
    "print(f\"LABEL = 0: {label_counts.get(0, 0)}\")\n",
    "print(f\"LABEL = 1: {label_counts.get(1, 0)}\")"
   ],
   "id": "eecc1751422c598f",
   "outputs": [
    {
     "name": "stdout",
     "output_type": "stream",
     "text": [
      "Total samples: 209297\n",
      "LABEL = 0: 160634\n",
      "LABEL = 1: 48663\n"
     ]
    }
   ],
   "execution_count": 16
  },
  {
   "metadata": {
    "ExecuteTime": {
     "end_time": "2025-07-22T06:30:10.793386Z",
     "start_time": "2025-07-22T06:30:10.516239Z"
    }
   },
   "cell_type": "code",
   "source": [
    "# 将 merged_df 随机抽取五分之一样本\n",
    "merged_df = merged_df.sample(frac=0.2, random_state=42)\n",
    "\n",
    "\n",
    "# merged_df.reset_index(inplace=True)\n",
    "\n",
    "# 查看抽样后统计\n",
    "total = len(merged_df)\n",
    "counts = merged_df['LABEL'].value_counts().reindex([0, 1], fill_value=0)\n",
    "print(f\"Total samples: {total}\")\n",
    "print(f\"LABEL = 0: {counts.loc[0]}\")\n",
    "print(f\"LABEL = 1: {counts.loc[1]}\")\n"
   ],
   "id": "7ae6c5c9ca13cebb",
   "outputs": [
    {
     "name": "stdout",
     "output_type": "stream",
     "text": [
      "Total samples: 41859\n",
      "LABEL = 0: 32107\n",
      "LABEL = 1: 9752\n"
     ]
    }
   ],
   "execution_count": 17
  },
  {
   "metadata": {
    "ExecuteTime": {
     "end_time": "2025-07-22T06:33:05.519809Z",
     "start_time": "2025-07-22T06:33:00.522678Z"
    }
   },
   "cell_type": "code",
   "source": [
    "import pandas as pd\n",
    "from sklearn.model_selection import train_test_split\n",
    "\n",
    "# 假设 merged_df 已经是抽样后的 DataFrame，索引为 'ID' 或 'subject_id'\n",
    "# 首先将 merged_df 重置索引（如果需要），并打乱顺序\n",
    "df = merged_df.reset_index().sample(frac=1, random_state=42)\n",
    "\n",
    "# 先划分训练集 (80%) 和 临时集 (20%)\n",
    "train_df, temp_df = train_test_split(df, test_size=0.2, random_state=42, stratify=df['LABEL'])\n",
    "\n",
    "# 再将临时集按 50/50 划分为 验证集 (10%) 和 测试集 (10%)\n",
    "val_df, test_df = train_test_split(temp_df, test_size=0.5, random_state=42, stratify=temp_df['LABEL'])\n",
    "\n",
    "# 保存为 CSV\n",
    "train_df.to_csv('train.csv', index=False)\n",
    "val_df.to_csv('val.csv', index=False)\n",
    "test_df.to_csv('test.csv', index=False)\n"
   ],
   "id": "36c478079add118d",
   "outputs": [],
   "execution_count": 18
  },
  {
   "metadata": {
    "ExecuteTime": {
     "end_time": "2025-07-22T06:33:08.905723Z",
     "start_time": "2025-07-22T06:33:08.897174Z"
    }
   },
   "cell_type": "code",
   "source": [
    "print(f\"Train samples: {len(train_df)}\")\n",
    "print(f\"Validation samples: {len(val_df)}\")\n",
    "print(f\"Test samples: {len(test_df)}\")\n"
   ],
   "id": "cbf7f029bee8597e",
   "outputs": [
    {
     "name": "stdout",
     "output_type": "stream",
     "text": [
      "Train samples: 33487\n",
      "Validation samples: 4186\n",
      "Test samples: 4186\n"
     ]
    }
   ],
   "execution_count": 19
  },
  {
   "metadata": {
    "ExecuteTime": {
     "end_time": "2025-07-22T07:04:42.873903Z",
     "start_time": "2025-07-22T07:04:41.790274Z"
    }
   },
   "cell_type": "code",
   "source": [
    "import pandas as pd\n",
    "\n",
    "# 读取 CSV\n",
    "df = pd.read_csv('/mnt/nvme2/yyc/clinicalbert/dead/data40k/test.csv')\n",
    "\n",
    "# 重命名 LABEL 列为 Label\n",
    "df.rename(columns={'subject_id': 'ID'}, inplace=True)\n",
    "\n",
    "# 保存回原文件或另存\n",
    "df.to_csv('/mnt/nvme2/yyc/clinicalbert/dead/data40k/test.csv', index=False)\n"
   ],
   "id": "f5315d334dee38f8",
   "outputs": [],
   "execution_count": 25
  },
  {
   "metadata": {},
   "cell_type": "code",
   "outputs": [],
   "execution_count": null,
   "source": "",
   "id": "a8ad3287dfb89118"
  }
 ],
 "metadata": {
  "kernelspec": {
   "display_name": "Python 3",
   "language": "python",
   "name": "python3"
  },
  "language_info": {
   "codemirror_mode": {
    "name": "ipython",
    "version": 2
   },
   "file_extension": ".py",
   "mimetype": "text/x-python",
   "name": "python",
   "nbconvert_exporter": "python",
   "pygments_lexer": "ipython2",
   "version": "2.7.6"
  }
 },
 "nbformat": 4,
 "nbformat_minor": 5
}

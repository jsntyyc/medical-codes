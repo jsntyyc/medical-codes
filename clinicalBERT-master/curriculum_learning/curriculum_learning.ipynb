{
 "cells": [
  {
   "cell_type": "code",
   "id": "initial_id",
   "metadata": {
    "collapsed": true,
    "ExecuteTime": {
     "end_time": "2025-03-27T02:37:57.299364Z",
     "start_time": "2025-03-27T02:37:56.674833Z"
    }
   },
   "source": [
    "import pandas as pd\n",
    "\n",
    "# Read the CSV file\n",
    "df = pd.read_csv('/mnt/nvme2/yyc/clinicalbert/data/discharge/train_pca_clusters.csv')\n",
    "\n",
    "# Print the distribution of the \"cluster_label\" column\n",
    "print(df)\n"
   ],
   "outputs": [
    {
     "name": "stdout",
     "output_type": "stream",
     "text": [
      "       Unnamed: 0                                               TEXT  Label  \\\n",
      "0               0  sig: one (1) packet po daily (daily). senna 6 ...      1   \n",
      "1               1  to 80%, but then would come back into the high...      0   \n",
      "2               2  laboratories on admission were a white count 1...      1   \n",
      "3               3  , then 200mg qd. disp:*qs tablet(s)* refills:*...      0   \n",
      "4               4  your inr between . 14) we started you on a hep...      1   \n",
      "...           ...                                                ...    ...   \n",
      "26240       26240  date of birth: sex: m service: medicine allerg...      0   \n",
      "26241       26241  small bilateral pleural effusions, right large...      1   \n",
      "26242       26242  unit/ml solution sig: per sliding scale inject...      0   \n",
      "26243       26243  or shortness of . # chronic diastolic heart fa...      0   \n",
      "26244       26244  date of birth: sex: f service: surgery allergi...      0   \n",
      "\n",
      "           ID  cluster_label difficulty  \n",
      "0      189602              2     middle  \n",
      "1      167234              0       easy  \n",
      "2      183362              0       easy  \n",
      "3      160180              2     middle  \n",
      "4      196855              2     middle  \n",
      "...       ...            ...        ...  \n",
      "26240  106738              1       hard  \n",
      "26241  113533              0       easy  \n",
      "26242  186069              2     middle  \n",
      "26243  189105              0       easy  \n",
      "26244  179390              1       hard  \n",
      "\n",
      "[26245 rows x 6 columns]\n"
     ]
    }
   ],
   "execution_count": 10
  },
  {
   "metadata": {
    "ExecuteTime": {
     "end_time": "2025-03-26T02:36:11.661266Z",
     "start_time": "2025-03-26T02:36:10.290035Z"
    }
   },
   "cell_type": "code",
   "source": [
    "import pandas as pd\n",
    "\n",
    "# 读取 CSV 文件（请根据实际路径修改）\n",
    "df = pd.read_csv('/mnt/nvme2/yyc/clinicalbert/data/discharge/train_pca_clusters.csv')\n",
    "\n",
    "# 定义映射字典\n",
    "mapping = {0: 'easy', 2: 'middle', 1: 'hard'}\n",
    "\n",
    "# 添加新的列 'difficulty'，将 cluster_label 映射为对应的字符串\n",
    "df['difficulty'] = df['cluster_label'].map(mapping)\n",
    "\n",
    "# 查看前几行数据确认结果\n",
    "print(df.head())\n",
    "df.to_csv('/mnt/nvme2/yyc/clinicalbert/data/discharge/train_pca_clusters.csv', index=False)"
   ],
   "id": "57a6d2207a0a7bc5",
   "outputs": [
    {
     "name": "stdout",
     "output_type": "stream",
     "text": [
      "   Unnamed: 0                                               TEXT  Label  \\\n",
      "0           0  sig: one (1) packet po daily (daily). senna 6 ...      1   \n",
      "1           1  to 80%, but then would come back into the high...      0   \n",
      "2           2  laboratories on admission were a white count 1...      1   \n",
      "3           3  , then 200mg qd. disp:*qs tablet(s)* refills:*...      0   \n",
      "4           4  your inr between . 14) we started you on a hep...      1   \n",
      "\n",
      "       ID  cluster_label difficulty  \n",
      "0  189602              2     middle  \n",
      "1  167234              0       easy  \n",
      "2  183362              0       easy  \n",
      "3  160180              2     middle  \n",
      "4  196855              2     middle  \n"
     ]
    }
   ],
   "execution_count": 2
  },
  {
   "metadata": {
    "ExecuteTime": {
     "end_time": "2025-03-26T02:36:27.235721Z",
     "start_time": "2025-03-26T02:36:25.113448Z"
    }
   },
   "cell_type": "code",
   "source": [
    "import pandas as pd\n",
    "\n",
    "# Read the CSV file\n",
    "df = pd.read_csv('/mnt/nvme2/yyc/clinicalbert/data/3days/train_pca_clusters.csv')\n",
    "\n",
    "# Print the distribution of the \"cluster_label\" column\n",
    "print(df['cluster_label'].value_counts())\n",
    "df.to_csv('/mnt/nvme2/yyc/clinicalbert/data/3days/train_pca_clusters.csv', index=False)"
   ],
   "id": "b11cb5a5835c2deb",
   "outputs": [
    {
     "name": "stdout",
     "output_type": "stream",
     "text": [
      "1    22338\n",
      "0    13314\n",
      "2    12141\n",
      "Name: cluster_label, dtype: int64\n"
     ]
    }
   ],
   "execution_count": 3
  },
  {
   "metadata": {
    "ExecuteTime": {
     "end_time": "2025-03-26T02:37:04.773266Z",
     "start_time": "2025-03-26T02:37:02.353216Z"
    }
   },
   "cell_type": "code",
   "source": [
    "import pandas as pd\n",
    "\n",
    "# 读取 CSV 文件（请根据实际路径修改）\n",
    "df = pd.read_csv('/mnt/nvme2/yyc/clinicalbert/data/3days/train_pca_clusters.csv')\n",
    "\n",
    "# 定义映射字典\n",
    "mapping = {1: 'easy', 0: 'middle', 2: 'hard'}\n",
    "\n",
    "# 添加新的列 'difficulty'，将 cluster_label 映射为对应的字符串\n",
    "df['difficulty'] = df['cluster_label'].map(mapping)\n",
    "\n",
    "# 查看前几行数据确认结果\n",
    "print(df.head())\n",
    "df.to_csv('/mnt/nvme2/yyc/clinicalbert/data/3days/train_pca_clusters.csv', index=False)\n"
   ],
   "id": "1f26a2c95d146e84",
   "outputs": [
    {
     "name": "stdout",
     "output_type": "stream",
     "text": [
      "   Unnamed: 0                                               TEXT  Label  \\\n",
      "0           0  have a significant family history of cancer. o...      0   \n",
      "1           1  per protocol. social: wife & family in to visi...      0   \n",
      "2           2  9/ her bilirubin on was 0/8; four hours later ...      0   \n",
      "3           3  to have re-current hemoptysis and dyspnea whil...      0   \n",
      "4           4  patient/test information: indication: pericard...      1   \n",
      "\n",
      "       ID  cluster_label difficulty  \n",
      "0  129458              2       hard  \n",
      "1  104352              1       easy  \n",
      "2  198360              0     middle  \n",
      "3  121738              1       easy  \n",
      "4  116798              0     middle  \n"
     ]
    }
   ],
   "execution_count": 4
  },
  {
   "metadata": {
    "ExecuteTime": {
     "end_time": "2025-03-26T02:37:14.653440Z",
     "start_time": "2025-03-26T02:37:14.135082Z"
    }
   },
   "cell_type": "code",
   "source": [
    "import pandas as pd\n",
    "\n",
    "# Read the CSV file\n",
    "df = pd.read_csv('/mnt/nvme2/yyc/clinicalbert/data/discharge/train_tsne_clusters.csv')\n",
    "\n",
    "# Print the distribution of the \"cluster_label\" column\n",
    "print(df['cluster_label'].value_counts())\n"
   ],
   "id": "30d10ccafb016ed8",
   "outputs": [
    {
     "name": "stdout",
     "output_type": "stream",
     "text": [
      "0    10249\n",
      "2     8746\n",
      "1     7250\n",
      "Name: cluster_label, dtype: int64\n"
     ]
    }
   ],
   "execution_count": 5
  },
  {
   "metadata": {
    "ExecuteTime": {
     "end_time": "2025-03-26T02:37:31.904821Z",
     "start_time": "2025-03-26T02:37:30.308682Z"
    }
   },
   "cell_type": "code",
   "source": [
    "import pandas as pd\n",
    "\n",
    "# 读取 CSV 文件（请根据实际路径修改）\n",
    "df = pd.read_csv('/mnt/nvme2/yyc/clinicalbert/data/discharge/train_with_difficulty_distance_discharge.csv')\n",
    "\n",
    "# 定义映射字典\n",
    "mapping = {0: 'easy', 2: 'middle', 1: 'hard'}\n",
    "\n",
    "# 添加新的列 'difficulty'，将 cluster_label 映射为对应的字符串\n",
    "df['difficulty'] = df['cluster_label'].map(mapping)\n",
    "\n",
    "# 查看前几行数据确认结果\n",
    "print(df.head())\n",
    "df.to_csv('/mnt/nvme2/yyc/clinicalbert/data/discharge/train_tsne_clusters.csv', index=False)\n"
   ],
   "id": "ef7aa51e7f6dd39b",
   "outputs": [
    {
     "name": "stdout",
     "output_type": "stream",
     "text": [
      "   Unnamed: 0                                               TEXT  Label  \\\n",
      "0           0  sig: one (1) packet po daily (daily). senna 6 ...      1   \n",
      "1           1  to 80%, but then would come back into the high...      0   \n",
      "2           2  laboratories on admission were a white count 1...      1   \n",
      "3           3  , then 200mg qd. disp:*qs tablet(s)* refills:*...      0   \n",
      "4           4  your inr between . 14) we started you on a hep...      1   \n",
      "\n",
      "       ID  cluster_label difficulty  \n",
      "0  189602              0       easy  \n",
      "1  167234              2     middle  \n",
      "2  183362              2     middle  \n",
      "3  160180              0       easy  \n",
      "4  196855              0       easy  \n"
     ]
    }
   ],
   "execution_count": 6
  },
  {
   "metadata": {},
   "cell_type": "markdown",
   "source": "",
   "id": "a1c89b1e6670a0e1"
  },
  {
   "metadata": {
    "ExecuteTime": {
     "end_time": "2025-03-26T02:37:46.954978Z",
     "start_time": "2025-03-26T02:37:45.937677Z"
    }
   },
   "cell_type": "code",
   "source": [
    "import pandas as pd\n",
    "\n",
    "# Read the CSV file\n",
    "df = pd.read_csv('/mnt/nvme2/yyc/clinicalbert/data/3days/train_tsne_clusters.csv')\n",
    "\n",
    "# Print the distribution of the \"cluster_label\" column\n",
    "print(df['cluster_label'].value_counts())\n"
   ],
   "id": "7c9659045b5e1b84",
   "outputs": [
    {
     "name": "stdout",
     "output_type": "stream",
     "text": [
      "1    19439\n",
      "2    15108\n",
      "0    13246\n",
      "Name: cluster_label, dtype: int64\n"
     ]
    }
   ],
   "execution_count": 7
  },
  {
   "metadata": {
    "ExecuteTime": {
     "end_time": "2025-03-26T02:38:02.969230Z",
     "start_time": "2025-03-26T02:38:00.088567Z"
    }
   },
   "cell_type": "code",
   "source": [
    "import pandas as pd\n",
    "\n",
    "# 读取 CSV 文件（请根据实际路径修改）\n",
    "df = pd.read_csv('/mnt/nvme2/yyc/clinicalbert/data/3days/train_tsne_clusters.csv')\n",
    "\n",
    "# 定义映射字典\n",
    "mapping = {1: 'easy', 2: 'middle', 0: 'hard'}\n",
    "\n",
    "# 添加新的列 'difficulty'，将 cluster_label 映射为对应的字符串\n",
    "df['difficulty'] = df['cluster_label'].map(mapping)\n",
    "\n",
    "# 查看前几行数据确认结果\n",
    "print(df.head())\n",
    "df.to_csv('/mnt/nvme2/yyc/clinicalbert/data/3days/train_tsne_clusters.csv', index=False)\n"
   ],
   "id": "659d6db11b70d41d",
   "outputs": [
    {
     "name": "stdout",
     "output_type": "stream",
     "text": [
      "   Unnamed: 0                                               TEXT  Label  \\\n",
      "0           0  have a significant family history of cancer. o...      0   \n",
      "1           1  per protocol. social: wife & family in to visi...      0   \n",
      "2           2  9/ her bilirubin on was 0/8; four hours later ...      0   \n",
      "3           3  to have re-current hemoptysis and dyspnea whil...      0   \n",
      "4           4  patient/test information: indication: pericard...      1   \n",
      "\n",
      "       ID  cluster_label difficulty  \n",
      "0  129458              1       easy  \n",
      "1  104352              0       hard  \n",
      "2  198360              0       hard  \n",
      "3  121738              0       hard  \n",
      "4  116798              2     middle  \n"
     ]
    }
   ],
   "execution_count": 8
  },
  {
   "metadata": {
    "ExecuteTime": {
     "end_time": "2025-04-25T04:49:04.511084Z",
     "start_time": "2025-04-25T04:49:04.347505Z"
    }
   },
   "cell_type": "code",
   "source": [
    "import pandas as pd\n",
    "\n",
    "# Read the CSV file\n",
    "df = pd.read_csv('/mnt/nvme2/yyc/clinicalbert/data/3days/test.csv')\n",
    "\n",
    "# Print the distribution of the \"cluster_label\" column\n",
    "print(df.value_counts())\n"
   ],
   "id": "3084817007fcf642",
   "outputs": [
    {
     "name": "stdout",
     "output_type": "stream",
     "text": [
      "Unnamed: 0  TEXT                                                                                                                                                                                                                                                                                                                                                                                                                                                                                                                                                                                                                                                                                                                                                                                                                                                                                                                                                                                                                                                                                                                                                                                                                                                                                                                                                                                                                                                                                                                                                                                                                                                                                                                                                                                                                                                                                                                                                                                                                                                                                                                                                                                                                                                                                                    Label  ID    \n",
      "513         sinus tachycardia. generalized low voltage. delayed r wave progression with late precordial qrs transition. findings are non-specific. clinical correlation is suggested. since the previous tracing of same date sinus tachycardia rate is faster. tracing #1 sinus rhythm. delayed r wave progression with late precordial qrs transition. generalized low qrs voltage. findings are non-specific. clinical correlation is suggested. since the previous tracing of the rate is faster and voltage is lower. title: 45 y/o man with hx of etoh cirrhosis who arrived for planned liver transplant . went to or am and received pt from or approx 1800 intubated and sedated on propofol. transplant, liver assessment: intubated on ac at 40%fio lungs clear to diminished in bases. ngt to lcws. absent bowel sounds. unresponsive. not withdrawing to painful stimuli. pupils sluggish at 3mm. sedated on propofol. cco initiated. swan-ganz catheter intact. jp drains x2 (medial/lateral) to self suction. abdominal incision with small amount sero-sang drainage. action: all post-op labs sent. vigileo calibrated. ekg obtained. cxr obtained. ivf at 125cc/hr. response: no vent changes. suctioning for scant secretions, small amount bloody oral secretions. ngt with scant amounts of bright red blood output. no changes in neuro exam. jp drains with scant amount of sero-sang drainage. plan: continue to monitor neuro exam every 4 hours. monitor hct every 2 hours with abgs and labs every 4 hours. (goal hct >30) transfuse pt according to goals. continue to treat pt per post-op orders and transplant chart. title: received pt from or approx 1800 intubated and sedated. unresponsive on exam not withdrawing or localizing. 5:19 am chest (pre-op pa & lat) clip # reason: pre op film medical condition: 45 year old man with liver cirrhosis reason for this examination: pre op film wet read: ipf tue 5:53 am no pneumonia. small left pleural effusion. stable vascular redistribution. final report history: a 45-year-old man with liver cirrhosis. preoperative films for liver transplant. technique:                                                                                                                                                           1      100133    1\n",
      "258745      and turning. pt does not follow commands, but does withdraw to pain. perrl, 2mm brisk. cv: nsr 80s-90s, no ectopy. bp 95-140s/40s-60s. cvp 10- pulses diff. to palpate. pt given 3g calcium gluconate for ionized ca of all am labs will follow with completion of unit of blood. resp: pt is intubated on ac 50%/400/20/5 abg 35/47/154/27, unchanged from previous. rsbi 160 and pt desat'd to low 90s. suctioning for no secretions. ls coarse, diminished @ bases. sats 98-100%. pt taking srr when agitated. gi: abd is firm, obese. hypoactive bs, no bm this shift. tf started @ mn, @ 0cc/hr. pt had 120cc residuals, although some was oral ct prep. residual discarded...will continue to monitor. gu: u/o continues to be poor...5-10cc/hr. 40mg lasix given with no effect. renal consulted yesterday...suspected septic atn and does not recommend dialysis at this time. id: tmax pt covered on vanco, levaquin, and zosyn. urosepsis suspected, but can not exclude cns or other source until ct of head and lp are done. endo: pt was ordered insulin gtt for elevated bs, but has not needed it this shift. bs at start of shift lasr night was 59, and treated with 1/2 amp d since, bs have been wnl (112-130). plan: pt to have ct head. lp will most likely be done once inr < f/u with am labs...hct s/p transfusion. continue to monitor residuals and advance tfs as tolerated. monitor u/o...renal may need to re-evaluate for hd. resp care pt. remains intubated/sedated overnight. brought to and from ct w/o incident. ct:revealed bilat. pleural effusions with bibasilar atelectasis. bs:diminished equal bilat. abgs:mild resp. acidosis with hyperoxygenation. plan:would recommend increasing peep to mainatain frc given low vt strategy/abdominal distention and basilar atelectasis. nursing notes 0700-1900 neuro. patient remains sedated currently on fentanyl gtt 50mcg/hr and versed 2mg/hr. open eyes to pain with 2mm perrla/brisk. on soft bil restraints with circ checks done and adequate.                                                                                                                                                                                                                                                              1      167115    1\n",
      "261860      1:38 pm ct head w/o contrast clip # reason: ?bleed medical condition: 72 year old man with pedestrian struck reason for this examination: ?bleed no contraindications for iv contrast wet read: 2:16 pm no acute intracranial process. wet read version #1 final report indication: pedestrian struck, assess for bleed. technique: contiguous axial images were obtained through the brain without intravenous contrast. coronal and sagittal reformations were prepared. comparisons: none available. findings: there is no acute intracranial hemorrhage, edema, mass effect or major vascular territorial infarction. there is no shift of normally midline structures. mild periventricular and subcortical white matter hypodensities compatible with chronic small vessel ischemic disease. ventricles and sulci are slightly prominent compatible with age-appropriate atrophy. there is no fracture. paranasal sinuses and mastoid air cells demonstrate mild mucosal thickening in the ethmoid air cells bilaterally. there is a screw in the posterior wall of the right maxillary sinus likely from prior surgery. impression: no acute intracranial process. 1:38 pm ct c-spine w/o contrast clip # reason: ?fracture ?malalignment medical condition: 72 year old man with pedestrian struck reason for this examination: ?fracture ?malalignment no contraindications for iv contrast wet read: 4:29 pm no acute fracture. retrolishesis of c5 on c6 with widening of the c5/6 interspace anteriorly and a small amount of prevertebral fluid concerning for anterior ligament injury/disruption. cervical spine mri is recommended for cord evaluation. posterior osteophyte at c5/6 causing moderate canal narrowing. calcified left thyroid nodule. correlation with clinical exmination is recommended. non-emergent thyroid ultrasound can be obtained if indicated. changes d/w doctor by doctor by phone at on wet read version #1 wet read version #2 2:38 pm no acute fracture. retrolishesis of c5 on c6 which may be degenerative. posterior osteophyte at c5/6 causing moderate canal narrowing. if clinically concerned for cord injury, mri of the cervical spine should be obtained. calcified left thyroid nodule. correlation with clinical exmination is recommended.  1      167791    1\n",
      "259548      images of the left femur . comparison: radiographs . indication: orif left femur periprosthetic. findings and impression: multiple views of the left femur. status post orif of the left femur with plate and screws. the hardware appears intact. improved alignment of the distal femur fracture. please see operative report for further details.                                                                                                                                                                                                                                                                                                                                                                                                                                                                                                                                                                                                                                                                                                                                                                                                                                                                                                                                                                                                                                                                                                                                                                                                                                                                                                                                                                                                                                                                                                                                                                                                                                                                                                                                                                                                                                                                                                                                                    1      167282    1\n",
      "259547      hypodensities are consistent with small vessel ischemic disease. dense calcifications are present within the bilateral cavernous carotid arteries. minimal mucosal thickening is present in multiple ethmoid air cells. there is underpneumatization of the frontal sinuses. maxillary and sphenoid sinuses are normal. the mastoid air cells are clear. note is made of bilateral optic disc drusen. surgical repair is noted in the orbital process of the right zygoma. 5-mm exophytic dermal nodule in the left infraorbital region is stable since . impression: stable acute-on-chronic right and chronic left subdural hematomas, with continued 3-mm leftward shift. note on attending review: there is increased attenuation of the soft tissues at the anterior aspect of foramen magnum from the inferior portion of the clivus to the c1-c2 level, lower limit incompletely imaged. this emasures 4mm; while there is no change (over) 9:09 pm ct head w/o contrast clip # reason: ? change in ich admitting diagnosis: sdh and femur fx final report (cont) in the size, there is increased attenuation compared to the prior study. hemorrhage in the ligaments/epidural soft tissues on within the dura is the possibility. this is in close proximity to the surface of the cord with minimal indentation. ( se 400b, im 31; se 2, im 3) and basilar artery. consider neurosrugery consult reg. the new findings and follwo up with mr c spine if not ci/follwo up ct. d/w doctor , covering pager by doctor on at 10am by phone. pl. see osseous details on prior studies. 5:21 pm femur (ap & lat) left in o.r.; lower extremity fluoro without radiologist left in o.r.clip # reason: orif left femur periprosthetic admitting diagnosis: sdh and femur fx wet read: mlhh wed 7:49 pm intraop images show lat plate and screw fixation of comminuted, displaced distal femoral fx. alignment improved, but dist fragment demonstrates slight medial displacement/valgus angulation rel to prox femoral shaft. final report study: 124 intraoperative fluoroscopic                                                                                                                                                                                                                    1      167282    1\n",
      "                                                                                                                                                                                                                                                                                                                                                                                                                                                                                                                                                                                                                                                                                                                                                                                                                                                                                                                                                                                                                                                                                                                                                                                                                                                                                                                                                                                                                                                                                                                                                                                                                                                                                                                                                                                                                                                                                                                                                                                                                                                                                                                                                                                                                                                                                                                                    ..\n",
      "104664      function vs nutritional -monitor coronary artery disease (cad, ischemic heart disease) -continue aspirin, hold coreg -holding statin in setting of lfts anemia, chronic baseline mid-high 20s, iron deficient. stable anoxic brain damage (anoxic encephalopathy, hypoxic ischemic) stable diabetes mellitus (dm), type ii iss icu care nutrition:nutrition consult to restart tube feeds. glycemic control: lines: picc line - 11:44 pm prophylaxis: dvt: pneumoboots stress ulcer: vap: comments: communication: comments: code status: full code disposition: pending resolution of above. chief complaint: abdominal distension 24 hour events: -spoke with pt's nurse healthcare () blood culture gpc () speciation pending, pending. urine culture on grew proteus >100,000 sensitivities: aztreonam, ceftazadime, cefepime, cefoxitin, cefuroxime, cefotetan, gentamicin, imipenem, levofloxacin, pipericillin, bactrim. resistant to tetracycline. the nurse says that the pt did not have a fever or any focal signs of infection. the only concern was increased abdominal distension. -bnp checked (no baseline) -bladder pressure 14 -gpc in blood cx -us showed sludge/gb thickening, cbd not elevated -echo: worsening 4+ tr/rv dysfunction -liver saw pt, want to repeat tap (are confused by saag bc not consistent w/ portal hypertension/cardiac/etc...transudative process) allergies: no known drug allergies last dose of antibiotics: ceftriaxone - 01:04 am linezolid - 02:00 am cefipime - 03:58 am metronidazole - 04:48 am infusions: other icu medications: heparin sodium (prophylaxis) - 07:59 am other medications: changes to medical and family history: review of systems is unchanged from admission except as noted below review of systems: flowsheet data as of 08:01 am vital signs hemodynamic monitoring fluid balance 24 hours since am tmax: 7 c (8 tcurrent: 6 c (7 hr: 92 (92 - 104) bpm bp: 99/67(75) {91/45(61) - 124/79(109)} mmhg rr: 24 (11 - 26) insp/min spo2: 100% heart rhythm: sr (sinus rhythm) wgt (current): 90 kg (admission): 90 kg bladder pressure: 14 (14 - 14) mmhg total in: 1,239 ml 660 ml po: tf: ivf: 1,239 ml 580 ml blood products:                                                                                               0      127310    1\n",
      "104663      deficient anoxic brain damage (anoxic encephalopathy, hypoxic ischemic) pea arrest coagulopathy deep venous thrombosis (dvt), upper extremity h/o ue dvt, was on lovenox but stooped in setting of bleeding, repeat ultrasound did not show clot coronary artery disease (cad, ischemic heart disease) diabetes mellitus (dm), type ii bacteremia 43 yo m with anoxic brain injury cardiac arrest, systolic chf ef of 20%, brought into ed from rehab for fevers, abdominal distention, decreased urine output. bacteremia pt with 4/4 blood cultures positive with gpcs in clusters, presumably from a line or icd infection. ddx includes visa. micro data from osh growing coag negative staph bottles from . -pull picc line and culture tip -agree with continuing linezolid -continue cefipime/flagyl/linezolid for empiric coverage with concern for vancomycin resistant organisms -consider adding ciprofloxacin for pseudomonas double coverage -f/u ascites culture ascites / lft abnormality i suspect his ascites and anasarca is most likely secondary to subacute on chronic congestive heart failure, perhaps exacerbated by high sodium load from weeks of iv antibiotics. this is supported by bnp of . second possibility includes biliary obstruction leading to hepatitis and decompensated liver failure, although u/s imaging does not support this dx. malignant ascites possible however no signs of cancer. -repeat tap to confirm high suspicion of cardiac etiology -large volume paracentesis with albumin support -check peritoneal cytology -f/u current hep serologies renal failure, acute (acute renal failure, arf) has been 9 since . also with decreased urine output. ddx includes: prerenal/poor forward flow, abdominal compartment syndrome. urine lytes borderline, not helpful. vanc level wnl. -monitor -would expect cr to improve after diuresis heart failure (chf), systolic, chronic, ef 20% acute development of ascites likely secondary to chf from high sodium load likely from abx. repeat echo with no sig change. -hold coreg in setting of high grade bacteremia -daily weights, strict is and os coagulopathy elevated inr. possibly hepatic congestion vs worsening hepatocellular                                                           0      127310    1\n",
      "104662      gallbladder. gallbladder wall thickening is likely due to third spacing in the setting of hepatitis. no intrahepatic biliary ductal dilation. cbd measures 5 mm. abdominal ascites. echo the left atrium is mildly dilated. the right atrium is markedly dilated. left ventricular wall thicknesses are normal. the left ventricular cavity is moderately dilated. overall left ventricular systolic function is severely depressed (lvef= 20-30 %) secondary to extensive septal, anterior, and apical akinesis with anterior septal dyskinesis. the right ventricular cavity is dilated with severe global free wall hypokinesis. the ascending aorta is moderately dilated. the aortic valve leaflets (3) appear structurally normal with good leaflet excursion and no aortic regurgitation. the mitral valve leaflets are structurally normal. there is no mitral valve prolapse. mild (1+) mitral regurgitation is seen. the tricuspid valve leaflets are mildly thickened. severe tricuspid regurgitation is seen. there is moderate pulmonary artery systolic hypertension. the main pulmonary artery is dilated. the branch pulmonary arteries are dilated. there is a small pericardial effusion. there are no echocardiographic signs of tamponade. echocardiographic signs of tamponade may be absent in the presence of elevated right sided pressures. compared with the findings of the prior study (images reviewed) of , no major change. microbiology: microbiology: c diff negative x 2 blood cx x 2 from growing gpcs in clusters sputum oral flora () urine cx pending ascites fluid: cx pending assessment and plan decubitus ulcer (present at admission) ascites h/o shock liver in , h/o etoh but unknown to what degree, also may be related to chf, concerning also for cholestatis leukocytosis treating empirically for sbp, 193 polys liver function abnormalities in predominantly cholestatic pattern, hep serologies in : c/w prior hep a, prior hep b, no hepc; h/o shock liver in renal failure, acute (acute renal failure, arf) has been 9 since but higher previously heart failure (chf), systolic, chronic ef 20% anemia, chronic baseline mid-high 20s, iron                                                                                                   0      127310    1\n",
      "104661      - 02:00 am cefipime - 03:58 am metronidazole - 04:48 am infusions: other icu medications: heparin sodium (prophylaxis) - 07:59 am other medications: changes to medical and family history: review of systems is unchanged from admission except as noted below review of systems: flowsheet data as of 08:01 am vital signs hemodynamic monitoring fluid balance 24 hours since am tmax: 7 c (8 tcurrent: 6 c (7 hr: 92 (92 - 104) bpm bp: 99/67(75) {91/45(61) - 124/79(109)} mmhg rr: 24 (11 - 26) insp/min spo2: 100% heart rhythm: sr (sinus rhythm) wgt (current): 90 kg (admission): 90 kg bladder pressure: 14 (14 - 14) mmhg total in: 1,239 ml 660 ml po: tf: ivf: 1,239 ml 580 ml blood products: total out: 1,334 ml 560 ml urine: 584 ml 310 ml ng: 750 ml 250 ml stool: drains: balance: -95 ml 100 ml respiratory support o2 delivery device: trach mask spo2: 100% abg: ///25/ physical examination general appearance: no acute distress head, ears, nose, throat: split tongue, no teeth, trach cardiovascular: (s1: normal), (s2: normal), obscured by breath sounds, blowing holosystolic m at llsb respiratory / chest: (breath sounds: wheezes : , rhonchorous: ) abdominal: non-tender, bowel sounds present, distended, bulging flanks skin: sacral ulcer, no obvious rashes neurologic: responds to: tactile stimuli, movement: moving all 4 extremities labs / radiology 314 k/ul 3 g/dl 79 mg/dl 2 mg/dl 25 meq/l 9 meq/l 54 mg/dl 104 meq/l 140 meq/l 9 % 1 k/ul 02:45 am 03:35 am wbc 4 1 hct 5 9 plt 277 314 cr 0 2 glucose 87 79 other labs: pt / ptt / inr:4/0/6, alt / ast:106/61, alk phos / t bili:914/7, amylase / lipase:/45, differential-neuts:5 %, lymph:6 %, mono:9 %, eos:9 %, albumin:6 g/dl, ldh:137 iu/l, ca++:8 mg/dl, mg++:2 mg/dl, po4:7 mg/dl imaging: imaging: ruq u/s normal flow and waveforms within the hepatic vasculature. gallbladder wall thickening and sludge within the                                                                                                                                                                                                                                                                                                                                                                    0      127310    1\n",
      "385547      at serial hcts sent. serosang drainage to bilat groin sites, no hematoma noted. dopperable pulses, l pt faint (no change from before). aline positionally dampened w/no draw back, following cuff pressures- team aware. lr cont as maintanence ivf. resp: 2l nc added for sats 89-90 on ra while sleeping. sats >95%. lungs cta, dim in bases. strong is use. non-productive cough. gi: tol sips of clears. no bm. hypo bowel sounds. gu: adequate amt huo via foley. endo: riss, no coverage needed. skin: intact aside from incisions. social: daughters into visit- updated by rn. plan: monitor for s/s bleeding and/or acute sepsis. increase act/diet as tol. monitor bp. draw an afternoon hct. ?dc aline. tx to vicu.                                                                                                                                                                                                                                                                                                                                                                                                                                                                                                                                                                                                                                                                                                                                                                                                                                                                                                                                                                                                                                                                                                                                                                                                                                                                                                                                                                                                                                                                                                                                                                          0      199930    1\n",
      "Length: 5441, dtype: int64\n"
     ]
    }
   ],
   "execution_count": 5
  },
  {
   "metadata": {
    "ExecuteTime": {
     "end_time": "2025-02-25T12:15:32.622005Z",
     "start_time": "2025-02-25T12:15:31.287861Z"
    }
   },
   "cell_type": "code",
   "source": [
    "import pandas as pd\n",
    "\n",
    "# 读取 CSV 文件（请根据实际路径修改）\n",
    "df = pd.read_csv('/mnt/nvme2/yyc/clinicalbert/data/discharge/train_umap_clusters.csv')\n",
    "\n",
    "# 定义映射字典\n",
    "mapping = {0: 'easy', 1: 'middle', 2: 'hard'}\n",
    "\n",
    "# 添加新的列 'difficulty'，将 cluster_label 映射为对应的字符串\n",
    "df['difficulty'] = df['cluster_label'].map(mapping)\n",
    "\n",
    "# 查看前几行数据确认结果\n",
    "print(df.head())\n",
    "df.to_csv('/mnt/nvme2/yyc/clinicalbert/data/discharge/train_umap_clusters.csv', index=False)\n"
   ],
   "id": "88ad6b2304310add",
   "outputs": [
    {
     "name": "stdout",
     "output_type": "stream",
     "text": [
      "   Unnamed: 0                                               TEXT  Label  \\\n",
      "0           0  sig: one (1) packet po daily (daily). senna 6 ...      1   \n",
      "1           1  to 80%, but then would come back into the high...      0   \n",
      "2           2  laboratories on admission were a white count 1...      1   \n",
      "3           3  , then 200mg qd. disp:*qs tablet(s)* refills:*...      0   \n",
      "4           4  your inr between . 14) we started you on a hep...      1   \n",
      "\n",
      "       ID  cluster_label difficulty  \n",
      "0  189602              1     middle  \n",
      "1  167234              0       easy  \n",
      "2  183362              0       easy  \n",
      "3  160180              1     middle  \n",
      "4  196855              1     middle  \n"
     ]
    }
   ],
   "execution_count": 29
  },
  {
   "metadata": {
    "ExecuteTime": {
     "end_time": "2025-02-25T12:15:45.322279Z",
     "start_time": "2025-02-25T12:15:44.467176Z"
    }
   },
   "cell_type": "code",
   "source": [
    "import pandas as pd\n",
    "\n",
    "# Read the CSV file\n",
    "df = pd.read_csv('/mnt/nvme2/yyc/clinicalbert/data/3days/train_umap_clusters.csv')\n",
    "\n",
    "# Print the distribution of the \"cluster_label\" column\n",
    "print(df['cluster_label'].value_counts())\n"
   ],
   "id": "d1d8220d88e42e5a",
   "outputs": [
    {
     "name": "stdout",
     "output_type": "stream",
     "text": [
      "0    22858\n",
      "2    13196\n",
      "1    11739\n",
      "Name: cluster_label, dtype: int64\n"
     ]
    }
   ],
   "execution_count": 30
  },
  {
   "metadata": {
    "ExecuteTime": {
     "end_time": "2025-02-25T12:16:11.831301Z",
     "start_time": "2025-02-25T12:16:09.736152Z"
    }
   },
   "cell_type": "code",
   "source": [
    "import pandas as pd\n",
    "\n",
    "# 读取 CSV 文件（请根据实际路径修改）\n",
    "df = pd.read_csv('/mnt/nvme2/yyc/clinicalbert/data/3days/train_umap_clusters.csv')\n",
    "\n",
    "# 定义映射字典\n",
    "mapping = {0: 'easy', 2: 'middle', 1: 'hard'}\n",
    "\n",
    "# 添加新的列 'difficulty'，将 cluster_label 映射为对应的字符串\n",
    "df['difficulty'] = df['cluster_label'].map(mapping)\n",
    "\n",
    "# 查看前几行数据确认结果\n",
    "print(df.head())\n",
    "df.to_csv('/mnt/nvme2/yyc/clinicalbert/data/3days/train_umap_clusters.csv', index=False)\n"
   ],
   "id": "14acf82c6f05e0f2",
   "outputs": [
    {
     "name": "stdout",
     "output_type": "stream",
     "text": [
      "   Unnamed: 0                                               TEXT  Label  \\\n",
      "0           0  have a significant family history of cancer. o...      0   \n",
      "1           1  per protocol. social: wife & family in to visi...      0   \n",
      "2           2  9/ her bilirubin on was 0/8; four hours later ...      0   \n",
      "3           3  to have re-current hemoptysis and dyspnea whil...      0   \n",
      "4           4  patient/test information: indication: pericard...      1   \n",
      "\n",
      "       ID  cluster_label difficulty  \n",
      "0  129458              1       hard  \n",
      "1  104352              0       easy  \n",
      "2  198360              2     middle  \n",
      "3  121738              0       easy  \n",
      "4  116798              2     middle  \n"
     ]
    }
   ],
   "execution_count": 31
  },
  {
   "metadata": {
    "ExecuteTime": {
     "end_time": "2025-04-28T07:35:16.984627Z",
     "start_time": "2025-04-28T07:35:16.107271Z"
    }
   },
   "cell_type": "code",
   "source": [
    "import pandas as pd\n",
    "\n",
    "# Read the CSV file\n",
    "df = pd.read_csv('/mnt/nvme2/yyc/clinicalbert/data/3days/train_clusters_3.csv')\n",
    "\n",
    "# Print the distribution of the \"cluster_label\" column\n",
    "print(df['cluster_label'].value_counts())"
   ],
   "id": "ad1229c588c4931c",
   "outputs": [
    {
     "name": "stdout",
     "output_type": "stream",
     "text": [
      "0    22858\n",
      "2    13196\n",
      "1    11739\n",
      "Name: cluster_label, dtype: int64\n"
     ]
    }
   ],
   "execution_count": 13
  },
  {
   "metadata": {
    "ExecuteTime": {
     "end_time": "2025-04-28T07:35:21.735913Z",
     "start_time": "2025-04-28T07:35:19.477412Z"
    }
   },
   "cell_type": "code",
   "source": [
    "import pandas as pd\n",
    "\n",
    "# 读取 CSV 文件（请根据实际路径修改）\n",
    "df = pd.read_csv('/mnt/nvme2/yyc/clinicalbert/data/3days/train_clusters_3.csv')\n",
    "\n",
    "# 定义映射字典\n",
    "mapping = {0: 'easy', 2: 'middle', 1: 'hard'}\n",
    "\n",
    "# 添加新的列 'difficulty'，将 cluster_label 映射为对应的字符串\n",
    "df['difficulty'] = df['cluster_label'].map(mapping)\n",
    "\n",
    "# 查看前几行数据确认结果\n",
    "print(df.head())\n",
    "df.to_csv('/mnt/nvme2/yyc/clinicalbert/data/3days/train_clusters_3.csv', index=False)"
   ],
   "id": "4176286786660748",
   "outputs": [
    {
     "name": "stdout",
     "output_type": "stream",
     "text": [
      "   Unnamed: 0                                               TEXT  Label  \\\n",
      "0           0  have a significant family history of cancer. o...      0   \n",
      "1           1  per protocol. social: wife & family in to visi...      0   \n",
      "2           2  9/ her bilirubin on was 0/8; four hours later ...      0   \n",
      "3           3  to have re-current hemoptysis and dyspnea whil...      0   \n",
      "4           4  patient/test information: indication: pericard...      1   \n",
      "\n",
      "       ID  cluster_label difficulty  \n",
      "0  129458              1       hard  \n",
      "1  104352              0       easy  \n",
      "2  198360              2     middle  \n",
      "3  121738              0       easy  \n",
      "4  116798              2     middle  \n"
     ]
    }
   ],
   "execution_count": 14
  },
  {
   "metadata": {
    "ExecuteTime": {
     "end_time": "2025-04-28T07:35:35.936348Z",
     "start_time": "2025-04-28T07:35:35.354846Z"
    }
   },
   "cell_type": "code",
   "source": [
    "import pandas as pd\n",
    "\n",
    "# Read the CSV file\n",
    "df = pd.read_csv('/mnt/nvme2/yyc/clinicalbert/data/discharge/train_clusters_3.csv')\n",
    "\n",
    "# Print the distribution of the \"cluster_label\" column\n",
    "print(df['cluster_label'].value_counts())"
   ],
   "id": "e5db8bfd9a998dc8",
   "outputs": [
    {
     "name": "stdout",
     "output_type": "stream",
     "text": [
      "0    12258\n",
      "2     8470\n",
      "1     5517\n",
      "Name: cluster_label, dtype: int64\n"
     ]
    }
   ],
   "execution_count": 15
  },
  {
   "metadata": {
    "ExecuteTime": {
     "end_time": "2025-04-28T07:35:40.399597Z",
     "start_time": "2025-04-28T07:35:38.989532Z"
    }
   },
   "cell_type": "code",
   "source": [
    "import pandas as pd\n",
    "\n",
    "# 读取 CSV 文件（请根据实际路径修改）\n",
    "df = pd.read_csv('/mnt/nvme2/yyc/clinicalbert/data/discharge/train_clusters_3.csv')\n",
    "\n",
    "# 定义映射字典\n",
    "mapping = {0: 'easy', 2: 'middle', 1: 'hard'}\n",
    "\n",
    "# 添加新的列 'difficulty'，将 cluster_label 映射为对应的字符串\n",
    "df['difficulty'] = df['cluster_label'].map(mapping)\n",
    "\n",
    "# 查看前几行数据确认结果\n",
    "print(df.head())\n",
    "df.to_csv('/mnt/nvme2/yyc/clinicalbert/data/discharge/train_clusters_3.csv', index=False)"
   ],
   "id": "7db759cf53894147",
   "outputs": [
    {
     "name": "stdout",
     "output_type": "stream",
     "text": [
      "   Unnamed: 0                                               TEXT  Label  \\\n",
      "0           0  sig: one (1) packet po daily (daily). senna 6 ...      1   \n",
      "1           1  to 80%, but then would come back into the high...      0   \n",
      "2           2  laboratories on admission were a white count 1...      1   \n",
      "3           3  , then 200mg qd. disp:*qs tablet(s)* refills:*...      0   \n",
      "4           4  your inr between . 14) we started you on a hep...      1   \n",
      "\n",
      "       ID  cluster_label difficulty  \n",
      "0  189602              2     middle  \n",
      "1  167234              0       easy  \n",
      "2  183362              0       easy  \n",
      "3  160180              2     middle  \n",
      "4  196855              2     middle  \n"
     ]
    }
   ],
   "execution_count": 16
  },
  {
   "metadata": {},
   "cell_type": "code",
   "outputs": [],
   "execution_count": null,
   "source": "",
   "id": "24eac7e6bce684b2"
  }
 ],
 "metadata": {
  "kernelspec": {
   "display_name": "Python 3",
   "language": "python",
   "name": "python3"
  },
  "language_info": {
   "codemirror_mode": {
    "name": "ipython",
    "version": 2
   },
   "file_extension": ".py",
   "mimetype": "text/x-python",
   "name": "python",
   "nbconvert_exporter": "python",
   "pygments_lexer": "ipython2",
   "version": "2.7.6"
  }
 },
 "nbformat": 4,
 "nbformat_minor": 5
}

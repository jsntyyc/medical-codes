{
 "cells": [
  {
   "cell_type": "code",
   "id": "initial_id",
   "metadata": {
    "collapsed": true,
    "ExecuteTime": {
     "end_time": "2025-07-22T02:05:39.422987Z",
     "start_time": "2025-07-22T02:05:33.969673Z"
    }
   },
   "source": [
    "import pyarrow.feather as feather\n",
    "import pandas as pd\n",
    "# 设置 Pandas 显示选项\n",
    "pd.set_option('display.max_columns', None)  # 显示所有列\n",
    "pd.set_option('display.width', 200)       # 设置显示宽度，防止换行\n",
    "pd.set_option('display.max_rows', 20)      # 只显示 20 行数据（可根据需要调整）\n",
    "# 文件路径\n",
    "file_path = \"/mnt/nvme2/yyc/medical-coding/files/data/mimiciv_icd9/mimiciv_icd9.feather\"\n",
    "# 读取 feather 文件\n",
    "data = feather.read_table(file_path)\n",
    "# 转换为 pandas DataFrame\n",
    "df = data.to_pandas()\n",
    "# 打印数据框\n",
    "print(df)\n",
    "print(df['cluster_label'].value_counts())"
   ],
   "outputs": [
    {
     "name": "stdout",
     "output_type": "stream",
     "text": [
      "               note_id  subject_id       _id note_type  note_seq            charttime            storetime                                               text                    icd9_proc  \\\n",
      "0       10000032-DS-21    10000032  22595853        DS        21  2180-05-07 00:00:00  2180-05-09 15:26:00  name unit no admission date discharge date dat...                      [54.91]   \n",
      "1       10000032-DS-22    10000032  22841357        DS        22  2180-06-27 00:00:00  2180-07-01 10:15:00  name unit no admission date discharge date dat...                      [54.91]   \n",
      "2       10000032-DS-23    10000032  29079034        DS        23  2180-07-25 00:00:00  2180-07-25 21:42:00  name unit no admission date discharge date dat...                           []   \n",
      "3       10000032-DS-24    10000032  25742920        DS        24  2180-08-07 00:00:00  2180-08-10 05:43:00  name unit no admission date discharge date dat...                      [54.91]   \n",
      "4       10000248-DS-10    10000248  20600184        DS        10  2192-11-30 00:00:00  2192-11-30 19:49:00  name unit no admission date discharge date dat...                           []   \n",
      "...                ...         ...       ...       ...       ...                  ...                  ...                                                ...                          ...   \n",
      "209292  19999625-DS-12    19999625  27638769        DS        12  2138-10-09 00:00:00  2138-10-10 01:42:00  name unit no admission date discharge date dat...                           []   \n",
      "209293  19999625-DS-13    19999625  25304202        DS        13  2139-10-16 00:00:00  2139-10-16 19:45:00  name unit no admission date discharge date dat...                [93.90, 96.6]   \n",
      "209294  19999840-DS-20    19999840  26071774        DS        20  2164-07-28 00:00:00  2164-07-29 14:52:00  name unit no admission date discharge date dat...               [88.41, 88.91]   \n",
      "209295  19999840-DS-21    19999840  21033226        DS        21  2164-09-17 00:00:00  2164-09-18 01:36:00  name unit no admission date discharge date dat...  [03.31, 96.04, 96.6, 96.72]   \n",
      "209296   19999987-DS-2    19999987  23865745        DS         2  2145-11-11 00:00:00  2145-11-11 13:13:00  name unit no admission date discharge date dat...               [88.41, 96.71]   \n",
      "\n",
      "                                                icd9_diag                                             target  num_words  num_targets  \n",
      "0       [070.70, 296.80, 309.81, 496, 571.5, 572.3, 78...  [54.91, 070.70, 296.80, 309.81, 496, 571.5, 57...       1126            9  \n",
      "1       [070.71, 276.1, 287.5, 305.1, 496, 571.5, 789....  [54.91, 070.71, 276.1, 287.5, 305.1, 496, 571....       1486            9  \n",
      "2       [070.44, 276.1, 276.7, 296.80, 305.1, 458.29, ...  [070.44, 276.1, 276.7, 296.80, 305.1, 458.29, ...       1487           13  \n",
      "3       [070.54, 276.1, 276.7, 305.1, 496, 571.5, 787....  [54.91, 070.54, 276.1, 276.7, 305.1, 496, 571....       1416           11  \n",
      "4              [285.9, 286.0, 920, 922.2, E849.5, E885.4]         [285.9, 286.0, 920, 922.2, E849.5, E885.4]       1099            6  \n",
      "...                                                   ...                                                ...        ...          ...  \n",
      "209292  [276.0, 280.9, 285.29, 294.10, 327.42, 331.82,...  [276.0, 280.9, 285.29, 294.10, 327.42, 331.82,...       1090           14  \n",
      "209293  [276.0, 287.5, 294.10, 327.42, 331.82, 403.90,...  [93.90, 96.6, 276.0, 287.5, 294.10, 327.42, 33...       1032           17  \n",
      "209294  [272.4, 305.1, 345.90, 401.9, 434.91, 438.11, ...  [88.41, 88.91, 272.4, 305.1, 345.90, 401.9, 43...       1520            9  \n",
      "209295  [272.4, 345.3, 401.9, 427.41, 438.11, 438.21, ...  [03.31, 96.04, 96.6, 96.72, 272.4, 345.3, 401....       1272           16  \n",
      "209296  [041.3, 202.80, 244.9, 348.5, 368.46, 414.01, ...  [88.41, 96.71, 041.3, 202.80, 244.9, 348.5, 36...       1860           13  \n",
      "\n",
      "[209297 rows x 13 columns]\n"
     ]
    },
    {
     "ename": "KeyError",
     "evalue": "'cluster_label'",
     "output_type": "error",
     "traceback": [
      "\u001B[0;31m---------------------------------------------------------------------------\u001B[0m",
      "\u001B[0;31mKeyError\u001B[0m                                  Traceback (most recent call last)",
      "File \u001B[0;32m~/.local/lib/python3.10/site-packages/pandas/core/indexes/base.py:3805\u001B[0m, in \u001B[0;36mIndex.get_loc\u001B[0;34m(self, key)\u001B[0m\n\u001B[1;32m   3804\u001B[0m \u001B[38;5;28;01mtry\u001B[39;00m:\n\u001B[0;32m-> 3805\u001B[0m     \u001B[38;5;28;01mreturn\u001B[39;00m \u001B[38;5;28;43mself\u001B[39;49m\u001B[38;5;241;43m.\u001B[39;49m\u001B[43m_engine\u001B[49m\u001B[38;5;241;43m.\u001B[39;49m\u001B[43mget_loc\u001B[49m\u001B[43m(\u001B[49m\u001B[43mcasted_key\u001B[49m\u001B[43m)\u001B[49m\n\u001B[1;32m   3806\u001B[0m \u001B[38;5;28;01mexcept\u001B[39;00m \u001B[38;5;167;01mKeyError\u001B[39;00m \u001B[38;5;28;01mas\u001B[39;00m err:\n",
      "File \u001B[0;32mindex.pyx:167\u001B[0m, in \u001B[0;36mpandas._libs.index.IndexEngine.get_loc\u001B[0;34m()\u001B[0m\n",
      "File \u001B[0;32mindex.pyx:196\u001B[0m, in \u001B[0;36mpandas._libs.index.IndexEngine.get_loc\u001B[0;34m()\u001B[0m\n",
      "File \u001B[0;32mpandas/_libs/hashtable_class_helper.pxi:7081\u001B[0m, in \u001B[0;36mpandas._libs.hashtable.PyObjectHashTable.get_item\u001B[0;34m()\u001B[0m\n",
      "File \u001B[0;32mpandas/_libs/hashtable_class_helper.pxi:7089\u001B[0m, in \u001B[0;36mpandas._libs.hashtable.PyObjectHashTable.get_item\u001B[0;34m()\u001B[0m\n",
      "\u001B[0;31mKeyError\u001B[0m: 'cluster_label'",
      "\nThe above exception was the direct cause of the following exception:\n",
      "\u001B[0;31mKeyError\u001B[0m                                  Traceback (most recent call last)",
      "Cell \u001B[0;32mIn[1], line 15\u001B[0m\n\u001B[1;32m     13\u001B[0m \u001B[38;5;66;03m# 打印数据框\u001B[39;00m\n\u001B[1;32m     14\u001B[0m \u001B[38;5;28mprint\u001B[39m(df)\n\u001B[0;32m---> 15\u001B[0m \u001B[38;5;28mprint\u001B[39m(\u001B[43mdf\u001B[49m\u001B[43m[\u001B[49m\u001B[38;5;124;43m'\u001B[39;49m\u001B[38;5;124;43mcluster_label\u001B[39;49m\u001B[38;5;124;43m'\u001B[39;49m\u001B[43m]\u001B[49m\u001B[38;5;241m.\u001B[39mvalue_counts())\n",
      "File \u001B[0;32m~/.local/lib/python3.10/site-packages/pandas/core/frame.py:4102\u001B[0m, in \u001B[0;36mDataFrame.__getitem__\u001B[0;34m(self, key)\u001B[0m\n\u001B[1;32m   4100\u001B[0m \u001B[38;5;28;01mif\u001B[39;00m \u001B[38;5;28mself\u001B[39m\u001B[38;5;241m.\u001B[39mcolumns\u001B[38;5;241m.\u001B[39mnlevels \u001B[38;5;241m>\u001B[39m \u001B[38;5;241m1\u001B[39m:\n\u001B[1;32m   4101\u001B[0m     \u001B[38;5;28;01mreturn\u001B[39;00m \u001B[38;5;28mself\u001B[39m\u001B[38;5;241m.\u001B[39m_getitem_multilevel(key)\n\u001B[0;32m-> 4102\u001B[0m indexer \u001B[38;5;241m=\u001B[39m \u001B[38;5;28;43mself\u001B[39;49m\u001B[38;5;241;43m.\u001B[39;49m\u001B[43mcolumns\u001B[49m\u001B[38;5;241;43m.\u001B[39;49m\u001B[43mget_loc\u001B[49m\u001B[43m(\u001B[49m\u001B[43mkey\u001B[49m\u001B[43m)\u001B[49m\n\u001B[1;32m   4103\u001B[0m \u001B[38;5;28;01mif\u001B[39;00m is_integer(indexer):\n\u001B[1;32m   4104\u001B[0m     indexer \u001B[38;5;241m=\u001B[39m [indexer]\n",
      "File \u001B[0;32m~/.local/lib/python3.10/site-packages/pandas/core/indexes/base.py:3812\u001B[0m, in \u001B[0;36mIndex.get_loc\u001B[0;34m(self, key)\u001B[0m\n\u001B[1;32m   3807\u001B[0m     \u001B[38;5;28;01mif\u001B[39;00m \u001B[38;5;28misinstance\u001B[39m(casted_key, \u001B[38;5;28mslice\u001B[39m) \u001B[38;5;129;01mor\u001B[39;00m (\n\u001B[1;32m   3808\u001B[0m         \u001B[38;5;28misinstance\u001B[39m(casted_key, abc\u001B[38;5;241m.\u001B[39mIterable)\n\u001B[1;32m   3809\u001B[0m         \u001B[38;5;129;01mand\u001B[39;00m \u001B[38;5;28many\u001B[39m(\u001B[38;5;28misinstance\u001B[39m(x, \u001B[38;5;28mslice\u001B[39m) \u001B[38;5;28;01mfor\u001B[39;00m x \u001B[38;5;129;01min\u001B[39;00m casted_key)\n\u001B[1;32m   3810\u001B[0m     ):\n\u001B[1;32m   3811\u001B[0m         \u001B[38;5;28;01mraise\u001B[39;00m InvalidIndexError(key)\n\u001B[0;32m-> 3812\u001B[0m     \u001B[38;5;28;01mraise\u001B[39;00m \u001B[38;5;167;01mKeyError\u001B[39;00m(key) \u001B[38;5;28;01mfrom\u001B[39;00m \u001B[38;5;21;01merr\u001B[39;00m\n\u001B[1;32m   3813\u001B[0m \u001B[38;5;28;01mexcept\u001B[39;00m \u001B[38;5;167;01mTypeError\u001B[39;00m:\n\u001B[1;32m   3814\u001B[0m     \u001B[38;5;66;03m# If we have a listlike key, _check_indexing_error will raise\u001B[39;00m\n\u001B[1;32m   3815\u001B[0m     \u001B[38;5;66;03m#  InvalidIndexError. Otherwise we fall through and re-raise\u001B[39;00m\n\u001B[1;32m   3816\u001B[0m     \u001B[38;5;66;03m#  the TypeError.\u001B[39;00m\n\u001B[1;32m   3817\u001B[0m     \u001B[38;5;28mself\u001B[39m\u001B[38;5;241m.\u001B[39m_check_indexing_error(key)\n",
      "\u001B[0;31mKeyError\u001B[0m: 'cluster_label'"
     ]
    }
   ],
   "execution_count": 1
  },
  {
   "metadata": {
    "ExecuteTime": {
     "end_time": "2025-07-22T02:18:38.381408Z",
     "start_time": "2025-07-22T02:18:35.203622Z"
    }
   },
   "cell_type": "code",
   "source": [
    "import pyarrow.feather as feather\n",
    "import pandas as pd\n",
    "\n",
    "# 文件路径\n",
    "file_path = \"/mnt/nvme2/yyc/medical-coding/files/data/mimiciv_icd10/mimiciv_icd10.feather\"\n",
    "# 读取 feather 文件\n",
    "data = feather.read_table(file_path)\n",
    "# 转换为 pandas DataFrame\n",
    "df = data.to_pandas()\n",
    "# 打印数据框\n",
    "print(df)"
   ],
   "id": "d8bd699daecfcb08",
   "outputs": [
    {
     "name": "stdout",
     "output_type": "stream",
     "text": [
      "               note_id  subject_id       _id note_type  note_seq            charttime            storetime                                               text  \\\n",
      "0       10000084-DS-17    10000084  23052089        DS        17  2160-11-25 00:00:00  2160-11-25 15:09:00  name unit no admission date discharge date dat...   \n",
      "1       10000117-DS-21    10000117  22927623        DS        21  2181-11-15 00:00:00  2181-11-15 15:04:00  name unit no admission date discharge date dat...   \n",
      "2       10000117-DS-22    10000117  27988844        DS        22  2183-09-21 00:00:00  2183-09-29 16:23:00  name unit no admission date discharge date dat...   \n",
      "3       10000980-DS-24    10000980  25911675        DS        24  2191-05-24 00:00:00  2191-05-24 17:29:00  name unit no admission date discharge date dat...   \n",
      "4       10000980-DS-25    10000980  29659838        DS        25  2191-07-19 00:00:00  2191-07-22 09:37:00  name unit no admission date discharge date dat...   \n",
      "...                ...         ...       ...       ...       ...                  ...                  ...                                                ...   \n",
      "122261   19999784-DS-7    19999784  26194817        DS         7  2119-07-02 00:00:00  2119-07-03 16:21:00  name unit no admission date discharge date dat...   \n",
      "122262   19999784-DS-8    19999784  24935234        DS         8  2119-07-12 00:00:00  2119-07-14 21:18:00  name unit no admission date discharge date dat...   \n",
      "122263   19999784-DS-9    19999784  23664472        DS         9  2119-08-09 00:00:00  2119-08-09 19:16:00  name unit no admission date discharge date dat...   \n",
      "122264   19999828-DS-6    19999828  29734428        DS         6  2147-08-04 00:00:00  2147-08-12 15:36:00  name unit no admission date discharge date dat...   \n",
      "122265   19999828-DS-7    19999828  25744818        DS         7  2149-01-18 00:00:00  2149-01-19 07:03:00  name unit no admission date discharge date dat...   \n",
      "\n",
      "                                           icd10_proc                                         icd10_diag                                             target  num_words  num_targets  \n",
      "0                                                  []      [E78.5, F02.80, G31.83, R29.6, R44.1, Z85.46]      [E78.5, F02.80, G31.83, R29.6, R44.1, Z85.46]       1305            6  \n",
      "1                                                  []  [F41.9, I34.1, K21.9, K31.819, K44.9, M81.0, R...  [F41.9, I34.1, K21.9, K31.819, K44.9, M81.0, R...        626            9  \n",
      "2                                           [0QS734Z]  [E78.00, F41.9, G43.909, I34.1, K21.9, M81.0, ...  [0QS734Z, E78.00, F41.9, G43.909, I34.1, K21.9...        887           13  \n",
      "3                                                  []  [D50.0, E11.8, I12.9, I25.10, I25.2, I50.23, I...  [D50.0, E11.8, I12.9, I25.10, I25.2, I50.23, I...       1722           22  \n",
      "4                                                  []  [D63.1, E11.21, E78.5, I12.9, I25.10, I25.2, I...  [D63.1, E11.21, E78.5, I12.9, I25.10, I25.2, I...       1547           16  \n",
      "...                                               ...                                                ...                                                ...        ...          ...  \n",
      "122261                             [07DR3ZX, 0CJS8ZZ]  [C85.99, D47.2, D64.9, D72.819, E44.0, F17.210...  [07DR3ZX, 0CJS8ZZ, C85.99, D47.2, D64.9, D72.8...       2152           12  \n",
      "122262                                             []  [D47.2, F17.210, G95.89, J38.01, M54.16, R13.1...  [D47.2, F17.210, G95.89, J38.01, M54.16, R13.1...       1284            8  \n",
      "122263           [00UT0JZ, 02HV33Z, 0HQ6XZZ, 3E03305]  [C83.39, D47.2, E43., G96.0, G97.82, T81.32XA,...  [00UT0JZ, 02HV33Z, 0HQ6XZZ, 3E03305, C83.39, D...       1436           14  \n",
      "122264  [02HV33Z, 0HBHXZZ, 0HBJXZZ, 0HR7X74, 3E0436Z]  [B96.20, D68.51, E11.9, F12.90, F41.9, I10., I...  [02HV33Z, 0HBHXZZ, 0HBJXZZ, 0HR7X74, 3E0436Z, ...       1689           27  \n",
      "122265                    [05HY33Z, 0J980ZZ, 0WPF0JZ]  [B95.4, D68.2, E11.10, E60., E87.6, F41.9, I10...  [05HY33Z, 0J980ZZ, 0WPF0JZ, B95.4, D68.2, E11....       1456           21  \n",
      "\n",
      "[122266 rows x 13 columns]\n"
     ]
    }
   ],
   "execution_count": 2
  },
  {
   "metadata": {
    "ExecuteTime": {
     "end_time": "2025-03-03T06:24:57.123440Z",
     "start_time": "2025-03-03T06:24:51.580751Z"
    }
   },
   "cell_type": "code",
   "source": [
    "import pyarrow.feather as feather\n",
    "import pandas as pd\n",
    "# 设置 Pandas 显示选项\n",
    "pd.set_option('display.max_columns', None)  # 显示所有列\n",
    "pd.set_option('display.width', 200)       # 设置显示宽度，防止换行\n",
    "pd.set_option('display.max_rows', 20)      # 只显示 20 行数据（可根据需要调整）\n",
    "# 文件路径\n",
    "file_path = \"/mnt/nvme2/yyc/medical-coding/files/data/mimiciv_icd9/mimiciv_icd9_tsne_clusters3.feather\"\n",
    "# 读取 feather 文件\n",
    "data = feather.read_table(file_path)\n",
    "# 转换为 pandas DataFrame\n",
    "df = data.to_pandas()\n",
    "# 打印数据框\n",
    "print(df)\n",
    "print(df['cluster_label'].value_counts())"
   ],
   "id": "7b331982b1ce92ae",
   "outputs": [
    {
     "name": "stdout",
     "output_type": "stream",
     "text": [
      "               note_id  subject_id       _id note_type  note_seq            charttime            storetime                                               text                    icd9_proc  \\\n",
      "0       10000032-DS-21    10000032  22595853        DS        21  2180-05-07 00:00:00  2180-05-09 15:26:00  name unit no admission date discharge date dat...                      [54.91]   \n",
      "1       10000032-DS-22    10000032  22841357        DS        22  2180-06-27 00:00:00  2180-07-01 10:15:00  name unit no admission date discharge date dat...                      [54.91]   \n",
      "2       10000032-DS-23    10000032  29079034        DS        23  2180-07-25 00:00:00  2180-07-25 21:42:00  name unit no admission date discharge date dat...                           []   \n",
      "3       10000032-DS-24    10000032  25742920        DS        24  2180-08-07 00:00:00  2180-08-10 05:43:00  name unit no admission date discharge date dat...                      [54.91]   \n",
      "4       10000248-DS-10    10000248  20600184        DS        10  2192-11-30 00:00:00  2192-11-30 19:49:00  name unit no admission date discharge date dat...                           []   \n",
      "...                ...         ...       ...       ...       ...                  ...                  ...                                                ...                          ...   \n",
      "209292  19999625-DS-12    19999625  27638769        DS        12  2138-10-09 00:00:00  2138-10-10 01:42:00  name unit no admission date discharge date dat...                           []   \n",
      "209293  19999625-DS-13    19999625  25304202        DS        13  2139-10-16 00:00:00  2139-10-16 19:45:00  name unit no admission date discharge date dat...                [93.90, 96.6]   \n",
      "209294  19999840-DS-20    19999840  26071774        DS        20  2164-07-28 00:00:00  2164-07-29 14:52:00  name unit no admission date discharge date dat...               [88.41, 88.91]   \n",
      "209295  19999840-DS-21    19999840  21033226        DS        21  2164-09-17 00:00:00  2164-09-18 01:36:00  name unit no admission date discharge date dat...  [03.31, 96.04, 96.6, 96.72]   \n",
      "209296   19999987-DS-2    19999987  23865745        DS         2  2145-11-11 00:00:00  2145-11-11 13:13:00  name unit no admission date discharge date dat...               [88.41, 96.71]   \n",
      "\n",
      "                                                icd9_diag                                             target  num_words  num_targets  cluster_label  \n",
      "0       [070.70, 296.80, 309.81, 496, 571.5, 572.3, 78...  [54.91, 070.70, 296.80, 309.81, 496, 571.5, 57...       1126            9              2  \n",
      "1       [070.71, 276.1, 287.5, 305.1, 496, 571.5, 789....  [54.91, 070.71, 276.1, 287.5, 305.1, 496, 571....       1486            9              2  \n",
      "2       [070.44, 276.1, 276.7, 296.80, 305.1, 458.29, ...  [070.44, 276.1, 276.7, 296.80, 305.1, 458.29, ...       1487           13              2  \n",
      "3       [070.54, 276.1, 276.7, 305.1, 496, 571.5, 787....  [54.91, 070.54, 276.1, 276.7, 305.1, 496, 571....       1416           11              2  \n",
      "4              [285.9, 286.0, 920, 922.2, E849.5, E885.4]         [285.9, 286.0, 920, 922.2, E849.5, E885.4]       1099            6              0  \n",
      "...                                                   ...                                                ...        ...          ...            ...  \n",
      "209292  [276.0, 280.9, 285.29, 294.10, 327.42, 331.82,...  [276.0, 280.9, 285.29, 294.10, 327.42, 331.82,...       1090           14              0  \n",
      "209293  [276.0, 287.5, 294.10, 327.42, 331.82, 403.90,...  [93.90, 96.6, 276.0, 287.5, 294.10, 327.42, 33...       1032           17              0  \n",
      "209294  [272.4, 305.1, 345.90, 401.9, 434.91, 438.11, ...  [88.41, 88.91, 272.4, 305.1, 345.90, 401.9, 43...       1520            9              2  \n",
      "209295  [272.4, 345.3, 401.9, 427.41, 438.11, 438.21, ...  [03.31, 96.04, 96.6, 96.72, 272.4, 345.3, 401....       1272           16              2  \n",
      "209296  [041.3, 202.80, 244.9, 348.5, 368.46, 414.01, ...  [88.41, 96.71, 041.3, 202.80, 244.9, 348.5, 36...       1860           13              2  \n",
      "\n",
      "[209297 rows x 14 columns]\n",
      "cluster_label\n",
      "1    70698\n",
      "2    70090\n",
      "0    68509\n",
      "Name: count, dtype: int64\n"
     ]
    }
   ],
   "execution_count": 9
  },
  {
   "metadata": {
    "ExecuteTime": {
     "end_time": "2025-03-03T06:25:49.851878Z",
     "start_time": "2025-03-03T06:25:38.113382Z"
    }
   },
   "cell_type": "code",
   "source": [
    "# 定义映射字典\n",
    "label_mapping = {1: 'easy', 2: 'middle', 0: 'hard'}\n",
    "\n",
    "# 将 'cluster_label' 列映射为 'difficulty' 列\n",
    "df['difficulty'] = df['cluster_label'].map(label_mapping)\n",
    "\n",
    "# 检查映射结果\n",
    "print(df[['cluster_label', 'difficulty']].head())\n",
    "print(df['difficulty'].value_counts())\n",
    "\n",
    "# 保存到 Feather 文件\n",
    "output_path = \"/mnt/nvme2/yyc/medical-coding/files/data/mimiciv_icd9/mimiciv_icd9_tsne_clusters3.feather\"\n",
    "df.to_feather(output_path)\n",
    "print(f\"Updated file saved to {output_path}\")"
   ],
   "id": "7d21cddc5b44ae5a",
   "outputs": [
    {
     "name": "stdout",
     "output_type": "stream",
     "text": [
      "   cluster_label difficulty\n",
      "0              2     middle\n",
      "1              2     middle\n",
      "2              2     middle\n",
      "3              2     middle\n",
      "4              0       hard\n",
      "difficulty\n",
      "easy      70698\n",
      "middle    70090\n",
      "hard      68509\n",
      "Name: count, dtype: int64\n",
      "Updated file saved to /mnt/nvme2/yyc/medical-coding/files/data/mimiciv_icd9/mimiciv_icd9_tsne_clusters3.feather\n"
     ]
    }
   ],
   "execution_count": 10
  },
  {
   "metadata": {
    "ExecuteTime": {
     "end_time": "2025-03-03T06:26:34.544885Z",
     "start_time": "2025-03-03T06:26:29.262028Z"
    }
   },
   "cell_type": "code",
   "source": [
    "import pyarrow.feather as feather\n",
    "import pandas as pd\n",
    "# 设置 Pandas 显示选项\n",
    "pd.set_option('display.max_columns', None)  # 显示所有列\n",
    "pd.set_option('display.width', 200)       # 设置显示宽度，防止换行\n",
    "pd.set_option('display.max_rows', 20)      # 只显示 20 行数据（可根据需要调整）\n",
    "# 文件路径\n",
    "file_path = \"/mnt/nvme2/yyc/medical-coding/files/data/mimiciv_icd9/mimiciv_icd9_umap_clusters3.feather\"\n",
    "# 读取 feather 文件\n",
    "data = feather.read_table(file_path)\n",
    "# 转换为 pandas DataFrame\n",
    "df = data.to_pandas()\n",
    "# 打印数据框\n",
    "print(df)\n",
    "print(df['cluster_label'].value_counts())"
   ],
   "id": "c206ad7337fbc18a",
   "outputs": [
    {
     "name": "stdout",
     "output_type": "stream",
     "text": [
      "               note_id  subject_id       _id note_type  note_seq            charttime            storetime                                               text                    icd9_proc  \\\n",
      "0       10000032-DS-21    10000032  22595853        DS        21  2180-05-07 00:00:00  2180-05-09 15:26:00  name unit no admission date discharge date dat...                      [54.91]   \n",
      "1       10000032-DS-22    10000032  22841357        DS        22  2180-06-27 00:00:00  2180-07-01 10:15:00  name unit no admission date discharge date dat...                      [54.91]   \n",
      "2       10000032-DS-23    10000032  29079034        DS        23  2180-07-25 00:00:00  2180-07-25 21:42:00  name unit no admission date discharge date dat...                           []   \n",
      "3       10000032-DS-24    10000032  25742920        DS        24  2180-08-07 00:00:00  2180-08-10 05:43:00  name unit no admission date discharge date dat...                      [54.91]   \n",
      "4       10000248-DS-10    10000248  20600184        DS        10  2192-11-30 00:00:00  2192-11-30 19:49:00  name unit no admission date discharge date dat...                           []   \n",
      "...                ...         ...       ...       ...       ...                  ...                  ...                                                ...                          ...   \n",
      "209292  19999625-DS-12    19999625  27638769        DS        12  2138-10-09 00:00:00  2138-10-10 01:42:00  name unit no admission date discharge date dat...                           []   \n",
      "209293  19999625-DS-13    19999625  25304202        DS        13  2139-10-16 00:00:00  2139-10-16 19:45:00  name unit no admission date discharge date dat...                [93.90, 96.6]   \n",
      "209294  19999840-DS-20    19999840  26071774        DS        20  2164-07-28 00:00:00  2164-07-29 14:52:00  name unit no admission date discharge date dat...               [88.41, 88.91]   \n",
      "209295  19999840-DS-21    19999840  21033226        DS        21  2164-09-17 00:00:00  2164-09-18 01:36:00  name unit no admission date discharge date dat...  [03.31, 96.04, 96.6, 96.72]   \n",
      "209296   19999987-DS-2    19999987  23865745        DS         2  2145-11-11 00:00:00  2145-11-11 13:13:00  name unit no admission date discharge date dat...               [88.41, 96.71]   \n",
      "\n",
      "                                                icd9_diag                                             target  num_words  num_targets  cluster_label  \n",
      "0       [070.70, 296.80, 309.81, 496, 571.5, 572.3, 78...  [54.91, 070.70, 296.80, 309.81, 496, 571.5, 57...       1126            9              0  \n",
      "1       [070.71, 276.1, 287.5, 305.1, 496, 571.5, 789....  [54.91, 070.71, 276.1, 287.5, 305.1, 496, 571....       1486            9              0  \n",
      "2       [070.44, 276.1, 276.7, 296.80, 305.1, 458.29, ...  [070.44, 276.1, 276.7, 296.80, 305.1, 458.29, ...       1487           13              0  \n",
      "3       [070.54, 276.1, 276.7, 305.1, 496, 571.5, 787....  [54.91, 070.54, 276.1, 276.7, 305.1, 496, 571....       1416           11              0  \n",
      "4              [285.9, 286.0, 920, 922.2, E849.5, E885.4]         [285.9, 286.0, 920, 922.2, E849.5, E885.4]       1099            6              2  \n",
      "...                                                   ...                                                ...        ...          ...            ...  \n",
      "209292  [276.0, 280.9, 285.29, 294.10, 327.42, 331.82,...  [276.0, 280.9, 285.29, 294.10, 327.42, 331.82,...       1090           14              2  \n",
      "209293  [276.0, 287.5, 294.10, 327.42, 331.82, 403.90,...  [93.90, 96.6, 276.0, 287.5, 294.10, 327.42, 33...       1032           17              2  \n",
      "209294  [272.4, 305.1, 345.90, 401.9, 434.91, 438.11, ...  [88.41, 88.91, 272.4, 305.1, 345.90, 401.9, 43...       1520            9              2  \n",
      "209295  [272.4, 345.3, 401.9, 427.41, 438.11, 438.21, ...  [03.31, 96.04, 96.6, 96.72, 272.4, 345.3, 401....       1272           16              2  \n",
      "209296  [041.3, 202.80, 244.9, 348.5, 368.46, 414.01, ...  [88.41, 96.71, 041.3, 202.80, 244.9, 348.5, 36...       1860           13              2  \n",
      "\n",
      "[209297 rows x 14 columns]\n",
      "cluster_label\n",
      "2    87445\n",
      "1    61058\n",
      "0    60794\n",
      "Name: count, dtype: int64\n"
     ]
    }
   ],
   "execution_count": 11
  },
  {
   "metadata": {
    "ExecuteTime": {
     "end_time": "2025-03-03T06:27:14.182621Z",
     "start_time": "2025-03-03T06:27:03.511724Z"
    }
   },
   "cell_type": "code",
   "source": [
    "# 定义映射字典\n",
    "label_mapping = {2: 'easy', 1: 'middle', 0: 'hard'}\n",
    "\n",
    "# 将 'cluster_label' 列映射为 'difficulty' 列\n",
    "df['difficulty'] = df['cluster_label'].map(label_mapping)\n",
    "\n",
    "# 检查映射结果\n",
    "print(df[['cluster_label', 'difficulty']].head())\n",
    "print(df['difficulty'].value_counts())\n",
    "\n",
    "# 保存到 Feather 文件\n",
    "output_path = \"/mnt/nvme2/yyc/medical-coding/files/data/mimiciv_icd9/mimiciv_icd9_umap_clusters3.feather\"\n",
    "df.to_feather(output_path)\n",
    "print(f\"Updated file saved to {output_path}\")"
   ],
   "id": "a45ad0ad878463d9",
   "outputs": [
    {
     "name": "stdout",
     "output_type": "stream",
     "text": [
      "   cluster_label difficulty\n",
      "0              0       hard\n",
      "1              0       hard\n",
      "2              0       hard\n",
      "3              0       hard\n",
      "4              2       easy\n",
      "difficulty\n",
      "easy      87445\n",
      "middle    61058\n",
      "hard      60794\n",
      "Name: count, dtype: int64\n",
      "Updated file saved to /mnt/nvme2/yyc/medical-coding/files/data/mimiciv_icd9/mimiciv_icd9_umap_clusters3.feather\n"
     ]
    }
   ],
   "execution_count": 12
  },
  {
   "metadata": {
    "ExecuteTime": {
     "end_time": "2025-03-03T06:29:26.479799Z",
     "start_time": "2025-03-03T06:29:23.380150Z"
    }
   },
   "cell_type": "code",
   "source": [
    "import pyarrow.feather as feather\n",
    "import pandas as pd\n",
    "# 设置 Pandas 显示选项\n",
    "pd.set_option('display.max_columns', None)  # 显示所有列\n",
    "pd.set_option('display.width', 200)       # 设置显示宽度，防止换行\n",
    "pd.set_option('display.max_rows', 20)      # 只显示 20 行数据（可根据需要调整）\n",
    "# 文件路径\n",
    "file_path = \"/mnt/nvme2/yyc/medical-coding/files/data/mimiciv_icd10/mimiciv_icd10_pca_clusters3.feather\"\n",
    "# 读取 feather 文件\n",
    "data = feather.read_table(file_path)\n",
    "# 转换为 pandas DataFrame\n",
    "df = data.to_pandas()\n",
    "# 打印数据框\n",
    "print(df)\n",
    "print(df['cluster_label'].value_counts())"
   ],
   "id": "5868833fb52fcfd6",
   "outputs": [
    {
     "name": "stdout",
     "output_type": "stream",
     "text": [
      "               note_id  subject_id       _id note_type  note_seq            charttime            storetime                                               text  \\\n",
      "0       10000084-DS-17    10000084  23052089        DS        17  2160-11-25 00:00:00  2160-11-25 15:09:00  name unit no admission date discharge date dat...   \n",
      "1       10000117-DS-21    10000117  22927623        DS        21  2181-11-15 00:00:00  2181-11-15 15:04:00  name unit no admission date discharge date dat...   \n",
      "2       10000117-DS-22    10000117  27988844        DS        22  2183-09-21 00:00:00  2183-09-29 16:23:00  name unit no admission date discharge date dat...   \n",
      "3       10000980-DS-24    10000980  25911675        DS        24  2191-05-24 00:00:00  2191-05-24 17:29:00  name unit no admission date discharge date dat...   \n",
      "4       10000980-DS-25    10000980  29659838        DS        25  2191-07-19 00:00:00  2191-07-22 09:37:00  name unit no admission date discharge date dat...   \n",
      "...                ...         ...       ...       ...       ...                  ...                  ...                                                ...   \n",
      "122261   19999784-DS-7    19999784  26194817        DS         7  2119-07-02 00:00:00  2119-07-03 16:21:00  name unit no admission date discharge date dat...   \n",
      "122262   19999784-DS-8    19999784  24935234        DS         8  2119-07-12 00:00:00  2119-07-14 21:18:00  name unit no admission date discharge date dat...   \n",
      "122263   19999784-DS-9    19999784  23664472        DS         9  2119-08-09 00:00:00  2119-08-09 19:16:00  name unit no admission date discharge date dat...   \n",
      "122264   19999828-DS-6    19999828  29734428        DS         6  2147-08-04 00:00:00  2147-08-12 15:36:00  name unit no admission date discharge date dat...   \n",
      "122265   19999828-DS-7    19999828  25744818        DS         7  2149-01-18 00:00:00  2149-01-19 07:03:00  name unit no admission date discharge date dat...   \n",
      "\n",
      "                                           icd10_proc                                         icd10_diag                                             target  num_words  num_targets  cluster_label  \n",
      "0                                                  []      [E78.5, F02.80, G31.83, R29.6, R44.1, Z85.46]      [E78.5, F02.80, G31.83, R29.6, R44.1, Z85.46]       1305            6              2  \n",
      "1                                                  []  [F41.9, I34.1, K21.9, K31.819, K44.9, M81.0, R...  [F41.9, I34.1, K21.9, K31.819, K44.9, M81.0, R...        626            9              0  \n",
      "2                                           [0QS734Z]  [E78.00, F41.9, G43.909, I34.1, K21.9, M81.0, ...  [0QS734Z, E78.00, F41.9, G43.909, I34.1, K21.9...        887           13              0  \n",
      "3                                                  []  [D50.0, E11.8, I12.9, I25.10, I25.2, I50.23, I...  [D50.0, E11.8, I12.9, I25.10, I25.2, I50.23, I...       1722           22              1  \n",
      "4                                                  []  [D63.1, E11.21, E78.5, I12.9, I25.10, I25.2, I...  [D63.1, E11.21, E78.5, I12.9, I25.10, I25.2, I...       1547           16              0  \n",
      "...                                               ...                                                ...                                                ...        ...          ...            ...  \n",
      "122261                             [07DR3ZX, 0CJS8ZZ]  [C85.99, D47.2, D64.9, D72.819, E44.0, F17.210...  [07DR3ZX, 0CJS8ZZ, C85.99, D47.2, D64.9, D72.8...       2152           12              2  \n",
      "122262                                             []  [D47.2, F17.210, G95.89, J38.01, M54.16, R13.1...  [D47.2, F17.210, G95.89, J38.01, M54.16, R13.1...       1284            8              2  \n",
      "122263           [00UT0JZ, 02HV33Z, 0HQ6XZZ, 3E03305]  [C83.39, D47.2, E43., G96.0, G97.82, T81.32XA,...  [00UT0JZ, 02HV33Z, 0HQ6XZZ, 3E03305, C83.39, D...       1436           14              0  \n",
      "122264  [02HV33Z, 0HBHXZZ, 0HBJXZZ, 0HR7X74, 3E0436Z]  [B96.20, D68.51, E11.9, F12.90, F41.9, I10., I...  [02HV33Z, 0HBHXZZ, 0HBJXZZ, 0HR7X74, 3E0436Z, ...       1689           27              2  \n",
      "122265                    [05HY33Z, 0J980ZZ, 0WPF0JZ]  [B95.4, D68.2, E11.10, E60., E87.6, F41.9, I10...  [05HY33Z, 0J980ZZ, 0WPF0JZ, B95.4, D68.2, E11....       1456           21              0  \n",
      "\n",
      "[122266 rows x 14 columns]\n",
      "cluster_label\n",
      "0    66683\n",
      "2    53153\n",
      "1     2430\n",
      "Name: count, dtype: int64\n"
     ]
    }
   ],
   "execution_count": 13
  },
  {
   "metadata": {
    "ExecuteTime": {
     "end_time": "2025-03-03T06:30:17.827907Z",
     "start_time": "2025-03-03T06:30:10.484759Z"
    }
   },
   "cell_type": "code",
   "source": [
    "# 定义映射字典\n",
    "label_mapping = {0: 'easy', 2: 'middle', 1: 'hard'}\n",
    "\n",
    "# 将 'cluster_label' 列映射为 'difficulty' 列\n",
    "df['difficulty'] = df['cluster_label'].map(label_mapping)\n",
    "\n",
    "# 检查映射结果\n",
    "print(df[['cluster_label', 'difficulty']].head())\n",
    "print(df['difficulty'].value_counts())\n",
    "\n",
    "# 保存到 Feather 文件\n",
    "output_path = \"/mnt/nvme2/yyc/medical-coding/files/data/mimiciv_icd10/mimiciv_icd10_pca_clusters3.feather\"\n",
    "df.to_feather(output_path)\n",
    "print(f\"Updated file saved to {output_path}\")"
   ],
   "id": "5e96b50a3fb228fb",
   "outputs": [
    {
     "name": "stdout",
     "output_type": "stream",
     "text": [
      "   cluster_label difficulty\n",
      "0              2     middle\n",
      "1              0       easy\n",
      "2              0       easy\n",
      "3              1       hard\n",
      "4              0       easy\n",
      "difficulty\n",
      "easy      66683\n",
      "middle    53153\n",
      "hard       2430\n",
      "Name: count, dtype: int64\n",
      "Updated file saved to /mnt/nvme2/yyc/medical-coding/files/data/mimiciv_icd10/mimiciv_icd10_pca_clusters3.feather\n"
     ]
    }
   ],
   "execution_count": 14
  },
  {
   "metadata": {
    "ExecuteTime": {
     "end_time": "2025-03-03T06:30:33.679714Z",
     "start_time": "2025-03-03T06:30:30.951662Z"
    }
   },
   "cell_type": "code",
   "source": [
    "import pyarrow.feather as feather\n",
    "import pandas as pd\n",
    "# 设置 Pandas 显示选项\n",
    "pd.set_option('display.max_columns', None)  # 显示所有列\n",
    "pd.set_option('display.width', 200)       # 设置显示宽度，防止换行\n",
    "pd.set_option('display.max_rows', 20)      # 只显示 20 行数据（可根据需要调整）\n",
    "# 文件路径\n",
    "file_path = \"/mnt/nvme2/yyc/medical-coding/files/data/mimiciv_icd10/mimiciv_icd10_tsne_clusters3.feather\"\n",
    "# 读取 feather 文件\n",
    "data = feather.read_table(file_path)\n",
    "# 转换为 pandas DataFrame\n",
    "df = data.to_pandas()\n",
    "# 打印数据框\n",
    "print(df)\n",
    "print(df['cluster_label'].value_counts())"
   ],
   "id": "b7463992e7991988",
   "outputs": [
    {
     "name": "stdout",
     "output_type": "stream",
     "text": [
      "               note_id  subject_id       _id note_type  note_seq            charttime            storetime                                               text  \\\n",
      "0       10000084-DS-17    10000084  23052089        DS        17  2160-11-25 00:00:00  2160-11-25 15:09:00  name unit no admission date discharge date dat...   \n",
      "1       10000117-DS-21    10000117  22927623        DS        21  2181-11-15 00:00:00  2181-11-15 15:04:00  name unit no admission date discharge date dat...   \n",
      "2       10000117-DS-22    10000117  27988844        DS        22  2183-09-21 00:00:00  2183-09-29 16:23:00  name unit no admission date discharge date dat...   \n",
      "3       10000980-DS-24    10000980  25911675        DS        24  2191-05-24 00:00:00  2191-05-24 17:29:00  name unit no admission date discharge date dat...   \n",
      "4       10000980-DS-25    10000980  29659838        DS        25  2191-07-19 00:00:00  2191-07-22 09:37:00  name unit no admission date discharge date dat...   \n",
      "...                ...         ...       ...       ...       ...                  ...                  ...                                                ...   \n",
      "122261   19999784-DS-7    19999784  26194817        DS         7  2119-07-02 00:00:00  2119-07-03 16:21:00  name unit no admission date discharge date dat...   \n",
      "122262   19999784-DS-8    19999784  24935234        DS         8  2119-07-12 00:00:00  2119-07-14 21:18:00  name unit no admission date discharge date dat...   \n",
      "122263   19999784-DS-9    19999784  23664472        DS         9  2119-08-09 00:00:00  2119-08-09 19:16:00  name unit no admission date discharge date dat...   \n",
      "122264   19999828-DS-6    19999828  29734428        DS         6  2147-08-04 00:00:00  2147-08-12 15:36:00  name unit no admission date discharge date dat...   \n",
      "122265   19999828-DS-7    19999828  25744818        DS         7  2149-01-18 00:00:00  2149-01-19 07:03:00  name unit no admission date discharge date dat...   \n",
      "\n",
      "                                           icd10_proc                                         icd10_diag                                             target  num_words  num_targets  cluster_label  \n",
      "0                                                  []      [E78.5, F02.80, G31.83, R29.6, R44.1, Z85.46]      [E78.5, F02.80, G31.83, R29.6, R44.1, Z85.46]       1305            6              1  \n",
      "1                                                  []  [F41.9, I34.1, K21.9, K31.819, K44.9, M81.0, R...  [F41.9, I34.1, K21.9, K31.819, K44.9, M81.0, R...        626            9              0  \n",
      "2                                           [0QS734Z]  [E78.00, F41.9, G43.909, I34.1, K21.9, M81.0, ...  [0QS734Z, E78.00, F41.9, G43.909, I34.1, K21.9...        887           13              0  \n",
      "3                                                  []  [D50.0, E11.8, I12.9, I25.10, I25.2, I50.23, I...  [D50.0, E11.8, I12.9, I25.10, I25.2, I50.23, I...       1722           22              2  \n",
      "4                                                  []  [D63.1, E11.21, E78.5, I12.9, I25.10, I25.2, I...  [D63.1, E11.21, E78.5, I12.9, I25.10, I25.2, I...       1547           16              2  \n",
      "...                                               ...                                                ...                                                ...        ...          ...            ...  \n",
      "122261                             [07DR3ZX, 0CJS8ZZ]  [C85.99, D47.2, D64.9, D72.819, E44.0, F17.210...  [07DR3ZX, 0CJS8ZZ, C85.99, D47.2, D64.9, D72.8...       2152           12              1  \n",
      "122262                                             []  [D47.2, F17.210, G95.89, J38.01, M54.16, R13.1...  [D47.2, F17.210, G95.89, J38.01, M54.16, R13.1...       1284            8              2  \n",
      "122263           [00UT0JZ, 02HV33Z, 0HQ6XZZ, 3E03305]  [C83.39, D47.2, E43., G96.0, G97.82, T81.32XA,...  [00UT0JZ, 02HV33Z, 0HQ6XZZ, 3E03305, C83.39, D...       1436           14              1  \n",
      "122264  [02HV33Z, 0HBHXZZ, 0HBJXZZ, 0HR7X74, 3E0436Z]  [B96.20, D68.51, E11.9, F12.90, F41.9, I10., I...  [02HV33Z, 0HBHXZZ, 0HBJXZZ, 0HR7X74, 3E0436Z, ...       1689           27              0  \n",
      "122265                    [05HY33Z, 0J980ZZ, 0WPF0JZ]  [B95.4, D68.2, E11.10, E60., E87.6, F41.9, I10...  [05HY33Z, 0J980ZZ, 0WPF0JZ, B95.4, D68.2, E11....       1456           21              0  \n",
      "\n",
      "[122266 rows x 14 columns]\n",
      "cluster_label\n",
      "2    43417\n",
      "1    39555\n",
      "0    39294\n",
      "Name: count, dtype: int64\n"
     ]
    }
   ],
   "execution_count": 15
  },
  {
   "metadata": {
    "ExecuteTime": {
     "end_time": "2025-03-03T06:31:03.007632Z",
     "start_time": "2025-03-03T06:30:55.653738Z"
    }
   },
   "cell_type": "code",
   "source": [
    "# 定义映射字典\n",
    "label_mapping = {2: 'easy', 1: 'middle', 0: 'hard'}\n",
    "\n",
    "# 将 'cluster_label' 列映射为 'difficulty' 列\n",
    "df['difficulty'] = df['cluster_label'].map(label_mapping)\n",
    "\n",
    "# 检查映射结果\n",
    "print(df[['cluster_label', 'difficulty']].head())\n",
    "print(df['difficulty'].value_counts())\n",
    "\n",
    "# 保存到 Feather 文件\n",
    "output_path = \"/mnt/nvme2/yyc/medical-coding/files/data/mimiciv_icd10/mimiciv_icd10_tsne_clusters3.feather\"\n",
    "df.to_feather(output_path)\n",
    "print(f\"Updated file saved to {output_path}\")"
   ],
   "id": "5c499e47476bb59b",
   "outputs": [
    {
     "name": "stdout",
     "output_type": "stream",
     "text": [
      "   cluster_label difficulty\n",
      "0              1     middle\n",
      "1              0       hard\n",
      "2              0       hard\n",
      "3              2       easy\n",
      "4              2       easy\n",
      "difficulty\n",
      "easy      43417\n",
      "middle    39555\n",
      "hard      39294\n",
      "Name: count, dtype: int64\n",
      "Updated file saved to /mnt/nvme2/yyc/medical-coding/files/data/mimiciv_icd10/mimiciv_icd10_tsne_clusters3.feather\n"
     ]
    }
   ],
   "execution_count": 16
  },
  {
   "metadata": {
    "ExecuteTime": {
     "end_time": "2025-03-03T06:31:28.700329Z",
     "start_time": "2025-03-03T06:31:25.790237Z"
    }
   },
   "cell_type": "code",
   "source": [
    "import pyarrow.feather as feather\n",
    "import pandas as pd\n",
    "# 设置 Pandas 显示选项\n",
    "pd.set_option('display.max_columns', None)  # 显示所有列\n",
    "pd.set_option('display.width', 200)       # 设置显示宽度，防止换行\n",
    "pd.set_option('display.max_rows', 20)      # 只显示 20 行数据（可根据需要调整）\n",
    "# 文件路径\n",
    "file_path = \"/mnt/nvme2/yyc/medical-coding/files/data/mimiciv_icd10/mimiciv_icd10_umap_clusters3.feather\"\n",
    "# 读取 feather 文件\n",
    "data = feather.read_table(file_path)\n",
    "# 转换为 pandas DataFrame\n",
    "df = data.to_pandas()\n",
    "# 打印数据框\n",
    "print(df)\n",
    "print(df['cluster_label'].value_counts())"
   ],
   "id": "3a156793a8946147",
   "outputs": [
    {
     "name": "stdout",
     "output_type": "stream",
     "text": [
      "               note_id  subject_id       _id note_type  note_seq            charttime            storetime                                               text  \\\n",
      "0       10000084-DS-17    10000084  23052089        DS        17  2160-11-25 00:00:00  2160-11-25 15:09:00  name unit no admission date discharge date dat...   \n",
      "1       10000117-DS-21    10000117  22927623        DS        21  2181-11-15 00:00:00  2181-11-15 15:04:00  name unit no admission date discharge date dat...   \n",
      "2       10000117-DS-22    10000117  27988844        DS        22  2183-09-21 00:00:00  2183-09-29 16:23:00  name unit no admission date discharge date dat...   \n",
      "3       10000980-DS-24    10000980  25911675        DS        24  2191-05-24 00:00:00  2191-05-24 17:29:00  name unit no admission date discharge date dat...   \n",
      "4       10000980-DS-25    10000980  29659838        DS        25  2191-07-19 00:00:00  2191-07-22 09:37:00  name unit no admission date discharge date dat...   \n",
      "...                ...         ...       ...       ...       ...                  ...                  ...                                                ...   \n",
      "122261   19999784-DS-7    19999784  26194817        DS         7  2119-07-02 00:00:00  2119-07-03 16:21:00  name unit no admission date discharge date dat...   \n",
      "122262   19999784-DS-8    19999784  24935234        DS         8  2119-07-12 00:00:00  2119-07-14 21:18:00  name unit no admission date discharge date dat...   \n",
      "122263   19999784-DS-9    19999784  23664472        DS         9  2119-08-09 00:00:00  2119-08-09 19:16:00  name unit no admission date discharge date dat...   \n",
      "122264   19999828-DS-6    19999828  29734428        DS         6  2147-08-04 00:00:00  2147-08-12 15:36:00  name unit no admission date discharge date dat...   \n",
      "122265   19999828-DS-7    19999828  25744818        DS         7  2149-01-18 00:00:00  2149-01-19 07:03:00  name unit no admission date discharge date dat...   \n",
      "\n",
      "                                           icd10_proc                                         icd10_diag                                             target  num_words  num_targets  cluster_label  \n",
      "0                                                  []      [E78.5, F02.80, G31.83, R29.6, R44.1, Z85.46]      [E78.5, F02.80, G31.83, R29.6, R44.1, Z85.46]       1305            6              2  \n",
      "1                                                  []  [F41.9, I34.1, K21.9, K31.819, K44.9, M81.0, R...  [F41.9, I34.1, K21.9, K31.819, K44.9, M81.0, R...        626            9              0  \n",
      "2                                           [0QS734Z]  [E78.00, F41.9, G43.909, I34.1, K21.9, M81.0, ...  [0QS734Z, E78.00, F41.9, G43.909, I34.1, K21.9...        887           13              1  \n",
      "3                                                  []  [D50.0, E11.8, I12.9, I25.10, I25.2, I50.23, I...  [D50.0, E11.8, I12.9, I25.10, I25.2, I50.23, I...       1722           22              2  \n",
      "4                                                  []  [D63.1, E11.21, E78.5, I12.9, I25.10, I25.2, I...  [D63.1, E11.21, E78.5, I12.9, I25.10, I25.2, I...       1547           16              2  \n",
      "...                                               ...                                                ...                                                ...        ...          ...            ...  \n",
      "122261                             [07DR3ZX, 0CJS8ZZ]  [C85.99, D47.2, D64.9, D72.819, E44.0, F17.210...  [07DR3ZX, 0CJS8ZZ, C85.99, D47.2, D64.9, D72.8...       2152           12              1  \n",
      "122262                                             []  [D47.2, F17.210, G95.89, J38.01, M54.16, R13.1...  [D47.2, F17.210, G95.89, J38.01, M54.16, R13.1...       1284            8              2  \n",
      "122263           [00UT0JZ, 02HV33Z, 0HQ6XZZ, 3E03305]  [C83.39, D47.2, E43., G96.0, G97.82, T81.32XA,...  [00UT0JZ, 02HV33Z, 0HQ6XZZ, 3E03305, C83.39, D...       1436           14              1  \n",
      "122264  [02HV33Z, 0HBHXZZ, 0HBJXZZ, 0HR7X74, 3E0436Z]  [B96.20, D68.51, E11.9, F12.90, F41.9, I10., I...  [02HV33Z, 0HBHXZZ, 0HBJXZZ, 0HR7X74, 3E0436Z, ...       1689           27              0  \n",
      "122265                    [05HY33Z, 0J980ZZ, 0WPF0JZ]  [B95.4, D68.2, E11.10, E60., E87.6, F41.9, I10...  [05HY33Z, 0J980ZZ, 0WPF0JZ, B95.4, D68.2, E11....       1456           21              0  \n",
      "\n",
      "[122266 rows x 14 columns]\n",
      "cluster_label\n",
      "2    65379\n",
      "0    39580\n",
      "1    17307\n",
      "Name: count, dtype: int64\n"
     ]
    }
   ],
   "execution_count": 17
  },
  {
   "metadata": {
    "ExecuteTime": {
     "end_time": "2025-03-03T06:31:48.948572Z",
     "start_time": "2025-03-03T06:31:42.137898Z"
    }
   },
   "cell_type": "code",
   "source": [
    "# 定义映射字典\n",
    "label_mapping = {2: 'easy', 0: 'middle', 1: 'hard'}\n",
    "\n",
    "# 将 'cluster_label' 列映射为 'difficulty' 列\n",
    "df['difficulty'] = df['cluster_label'].map(label_mapping)\n",
    "\n",
    "# 检查映射结果\n",
    "print(df[['cluster_label', 'difficulty']].head())\n",
    "print(df['difficulty'].value_counts())\n",
    "\n",
    "# 保存到 Feather 文件\n",
    "output_path = \"/mnt/nvme2/yyc/medical-coding/files/data/mimiciv_icd10/mimiciv_icd10_umap_clusters3.feather\"\n",
    "df.to_feather(output_path)\n",
    "print(f\"Updated file saved to {output_path}\")"
   ],
   "id": "8f80134e7f10471",
   "outputs": [
    {
     "name": "stdout",
     "output_type": "stream",
     "text": [
      "   cluster_label difficulty\n",
      "0              2       easy\n",
      "1              0     middle\n",
      "2              1       hard\n",
      "3              2       easy\n",
      "4              2       easy\n",
      "difficulty\n",
      "easy      65379\n",
      "middle    39580\n",
      "hard      17307\n",
      "Name: count, dtype: int64\n",
      "Updated file saved to /mnt/nvme2/yyc/medical-coding/files/data/mimiciv_icd10/mimiciv_icd10_umap_clusters3.feather\n"
     ]
    }
   ],
   "execution_count": 18
  },
  {
   "metadata": {
    "ExecuteTime": {
     "end_time": "2025-03-31T08:09:16.274651Z",
     "start_time": "2025-03-31T08:09:13.446012Z"
    }
   },
   "cell_type": "code",
   "source": [
    "import pyarrow.feather as feather\n",
    "import pandas as pd\n",
    "# 设置 Pandas 显示选项\n",
    "pd.set_option('display.max_columns', None)  # 显示所有列\n",
    "pd.set_option('display.width', 200)       # 设置显示宽度，防止换行\n",
    "pd.set_option('display.max_rows', 20)      # 只显示 20 行数据（可根据需要调整）\n",
    "# 文件路径\n",
    "file_path = \"/mnt/nvme2/yyc/medical-coding/files/data/mimiciv_icd10/mimiciv_icd10_maxpooling_clusters3.feather\"\n",
    "# 读取 feather 文件\n",
    "data = feather.read_table(file_path)\n",
    "# 转换为 pandas DataFrame\n",
    "df = data.to_pandas()\n",
    "# 打印数据框\n",
    "print(df)\n",
    "print(df['cluster_label'].value_counts())"
   ],
   "id": "86d70ce9d3a52568",
   "outputs": [
    {
     "name": "stdout",
     "output_type": "stream",
     "text": [
      "               note_id  subject_id       _id note_type  note_seq            charttime            storetime                                               text  \\\n",
      "0       10000084-DS-17    10000084  23052089        DS        17  2160-11-25 00:00:00  2160-11-25 15:09:00  name unit no admission date discharge date dat...   \n",
      "1       10000117-DS-21    10000117  22927623        DS        21  2181-11-15 00:00:00  2181-11-15 15:04:00  name unit no admission date discharge date dat...   \n",
      "2       10000117-DS-22    10000117  27988844        DS        22  2183-09-21 00:00:00  2183-09-29 16:23:00  name unit no admission date discharge date dat...   \n",
      "3       10000980-DS-24    10000980  25911675        DS        24  2191-05-24 00:00:00  2191-05-24 17:29:00  name unit no admission date discharge date dat...   \n",
      "4       10000980-DS-25    10000980  29659838        DS        25  2191-07-19 00:00:00  2191-07-22 09:37:00  name unit no admission date discharge date dat...   \n",
      "...                ...         ...       ...       ...       ...                  ...                  ...                                                ...   \n",
      "122261   19999784-DS-7    19999784  26194817        DS         7  2119-07-02 00:00:00  2119-07-03 16:21:00  name unit no admission date discharge date dat...   \n",
      "122262   19999784-DS-8    19999784  24935234        DS         8  2119-07-12 00:00:00  2119-07-14 21:18:00  name unit no admission date discharge date dat...   \n",
      "122263   19999784-DS-9    19999784  23664472        DS         9  2119-08-09 00:00:00  2119-08-09 19:16:00  name unit no admission date discharge date dat...   \n",
      "122264   19999828-DS-6    19999828  29734428        DS         6  2147-08-04 00:00:00  2147-08-12 15:36:00  name unit no admission date discharge date dat...   \n",
      "122265   19999828-DS-7    19999828  25744818        DS         7  2149-01-18 00:00:00  2149-01-19 07:03:00  name unit no admission date discharge date dat...   \n",
      "\n",
      "                                           icd10_proc                                         icd10_diag                                             target  num_words  num_targets  cluster_label  \n",
      "0                                                  []      [E78.5, F02.80, G31.83, R29.6, R44.1, Z85.46]      [E78.5, F02.80, G31.83, R29.6, R44.1, Z85.46]       1305            6              2  \n",
      "1                                                  []  [F41.9, I34.1, K21.9, K31.819, K44.9, M81.0, R...  [F41.9, I34.1, K21.9, K31.819, K44.9, M81.0, R...        626            9              0  \n",
      "2                                           [0QS734Z]  [E78.00, F41.9, G43.909, I34.1, K21.9, M81.0, ...  [0QS734Z, E78.00, F41.9, G43.909, I34.1, K21.9...        887           13              2  \n",
      "3                                                  []  [D50.0, E11.8, I12.9, I25.10, I25.2, I50.23, I...  [D50.0, E11.8, I12.9, I25.10, I25.2, I50.23, I...       1722           22              1  \n",
      "4                                                  []  [D63.1, E11.21, E78.5, I12.9, I25.10, I25.2, I...  [D63.1, E11.21, E78.5, I12.9, I25.10, I25.2, I...       1547           16              0  \n",
      "...                                               ...                                                ...                                                ...        ...          ...            ...  \n",
      "122261                             [07DR3ZX, 0CJS8ZZ]  [C85.99, D47.2, D64.9, D72.819, E44.0, F17.210...  [07DR3ZX, 0CJS8ZZ, C85.99, D47.2, D64.9, D72.8...       2152           12              2  \n",
      "122262                                             []  [D47.2, F17.210, G95.89, J38.01, M54.16, R13.1...  [D47.2, F17.210, G95.89, J38.01, M54.16, R13.1...       1284            8              1  \n",
      "122263           [00UT0JZ, 02HV33Z, 0HQ6XZZ, 3E03305]  [C83.39, D47.2, E43., G96.0, G97.82, T81.32XA,...  [00UT0JZ, 02HV33Z, 0HQ6XZZ, 3E03305, C83.39, D...       1436           14              2  \n",
      "122264  [02HV33Z, 0HBHXZZ, 0HBJXZZ, 0HR7X74, 3E0436Z]  [B96.20, D68.51, E11.9, F12.90, F41.9, I10., I...  [02HV33Z, 0HBHXZZ, 0HBJXZZ, 0HR7X74, 3E0436Z, ...       1689           27              0  \n",
      "122265                    [05HY33Z, 0J980ZZ, 0WPF0JZ]  [B95.4, D68.2, E11.10, E60., E87.6, F41.9, I10...  [05HY33Z, 0J980ZZ, 0WPF0JZ, B95.4, D68.2, E11....       1456           21              0  \n",
      "\n",
      "[122266 rows x 14 columns]\n",
      "cluster_label\n",
      "0    67124\n",
      "1    30024\n",
      "2    25118\n",
      "Name: count, dtype: int64\n"
     ]
    }
   ],
   "execution_count": 1
  },
  {
   "metadata": {
    "ExecuteTime": {
     "end_time": "2025-03-31T08:11:00.700075Z",
     "start_time": "2025-03-31T08:10:51.005531Z"
    }
   },
   "cell_type": "code",
   "source": [
    "# 定义映射字典\n",
    "label_mapping = {0: 'easy', 1: 'middle', 2: 'hard'}\n",
    "\n",
    "# 将 'cluster_label' 列映射为 'difficulty' 列\n",
    "df['difficulty'] = df['cluster_label'].map(label_mapping)\n",
    "\n",
    "# 检查映射结果\n",
    "print(df[['cluster_label', 'difficulty']].head())\n",
    "print(df['difficulty'].value_counts())\n",
    "\n",
    "# 保存到 Feather 文件\n",
    "output_path = \"/mnt/nvme2/yyc/medical-coding/files/data/mimiciv_icd10/mimiciv_icd10_maxpooling_clusters3.feather\"\n",
    "df.to_feather(output_path)\n",
    "print(f\"Updated file saved to {output_path}\")"
   ],
   "id": "e87eb60aa72893e7",
   "outputs": [
    {
     "name": "stdout",
     "output_type": "stream",
     "text": [
      "   cluster_label difficulty\n",
      "0              2       hard\n",
      "1              0       easy\n",
      "2              2       hard\n",
      "3              1     middle\n",
      "4              0       easy\n",
      "difficulty\n",
      "easy      67124\n",
      "middle    30024\n",
      "hard      25118\n",
      "Name: count, dtype: int64\n",
      "Updated file saved to /mnt/nvme2/yyc/medical-coding/files/data/mimiciv_icd10/mimiciv_icd10_maxpooling_clusters3.feather\n"
     ]
    }
   ],
   "execution_count": 2
  },
  {
   "metadata": {
    "ExecuteTime": {
     "end_time": "2025-03-31T10:27:17.731281Z",
     "start_time": "2025-03-31T10:27:13.521102Z"
    }
   },
   "cell_type": "code",
   "source": [
    "import pyarrow.feather as feather\n",
    "import pandas as pd\n",
    "# 设置 Pandas 显示选项\n",
    "pd.set_option('display.max_columns', None)  # 显示所有列\n",
    "pd.set_option('display.width', 200)       # 设置显示宽度，防止换行\n",
    "pd.set_option('display.max_rows', 20)      # 只显示 20 行数据（可根据需要调整）\n",
    "# 文件路径\n",
    "file_path = \"/mnt/nvme2/yyc/medical-coding/files/data/mimiciv_icd10/mimiciv_icd10_maxpoolingV2_clusters3.feather\"\n",
    "# 读取 feather 文件\n",
    "data = feather.read_table(file_path)\n",
    "# 转换为 pandas DataFrame\n",
    "df = data.to_pandas()\n",
    "# 打印数据框\n",
    "print(df)\n",
    "print(df['cluster_label'].value_counts())"
   ],
   "id": "1931daebb35a62cc",
   "outputs": [
    {
     "name": "stdout",
     "output_type": "stream",
     "text": [
      "               note_id  subject_id       _id note_type  note_seq            charttime            storetime                                               text  \\\n",
      "0       10000084-DS-17    10000084  23052089        DS        17  2160-11-25 00:00:00  2160-11-25 15:09:00  name unit no admission date discharge date dat...   \n",
      "1       10000117-DS-21    10000117  22927623        DS        21  2181-11-15 00:00:00  2181-11-15 15:04:00  name unit no admission date discharge date dat...   \n",
      "2       10000117-DS-22    10000117  27988844        DS        22  2183-09-21 00:00:00  2183-09-29 16:23:00  name unit no admission date discharge date dat...   \n",
      "3       10000980-DS-24    10000980  25911675        DS        24  2191-05-24 00:00:00  2191-05-24 17:29:00  name unit no admission date discharge date dat...   \n",
      "4       10000980-DS-25    10000980  29659838        DS        25  2191-07-19 00:00:00  2191-07-22 09:37:00  name unit no admission date discharge date dat...   \n",
      "...                ...         ...       ...       ...       ...                  ...                  ...                                                ...   \n",
      "122261   19999784-DS-7    19999784  26194817        DS         7  2119-07-02 00:00:00  2119-07-03 16:21:00  name unit no admission date discharge date dat...   \n",
      "122262   19999784-DS-8    19999784  24935234        DS         8  2119-07-12 00:00:00  2119-07-14 21:18:00  name unit no admission date discharge date dat...   \n",
      "122263   19999784-DS-9    19999784  23664472        DS         9  2119-08-09 00:00:00  2119-08-09 19:16:00  name unit no admission date discharge date dat...   \n",
      "122264   19999828-DS-6    19999828  29734428        DS         6  2147-08-04 00:00:00  2147-08-12 15:36:00  name unit no admission date discharge date dat...   \n",
      "122265   19999828-DS-7    19999828  25744818        DS         7  2149-01-18 00:00:00  2149-01-19 07:03:00  name unit no admission date discharge date dat...   \n",
      "\n",
      "                                           icd10_proc                                         icd10_diag                                             target  num_words  num_targets  cluster_label  \n",
      "0                                                  []      [E78.5, F02.80, G31.83, R29.6, R44.1, Z85.46]      [E78.5, F02.80, G31.83, R29.6, R44.1, Z85.46]       1305            6              2  \n",
      "1                                                  []  [F41.9, I34.1, K21.9, K31.819, K44.9, M81.0, R...  [F41.9, I34.1, K21.9, K31.819, K44.9, M81.0, R...        626            9              0  \n",
      "2                                           [0QS734Z]  [E78.00, F41.9, G43.909, I34.1, K21.9, M81.0, ...  [0QS734Z, E78.00, F41.9, G43.909, I34.1, K21.9...        887           13              2  \n",
      "3                                                  []  [D50.0, E11.8, I12.9, I25.10, I25.2, I50.23, I...  [D50.0, E11.8, I12.9, I25.10, I25.2, I50.23, I...       1722           22              1  \n",
      "4                                                  []  [D63.1, E11.21, E78.5, I12.9, I25.10, I25.2, I...  [D63.1, E11.21, E78.5, I12.9, I25.10, I25.2, I...       1547           16              1  \n",
      "...                                               ...                                                ...                                                ...        ...          ...            ...  \n",
      "122261                             [07DR3ZX, 0CJS8ZZ]  [C85.99, D47.2, D64.9, D72.819, E44.0, F17.210...  [07DR3ZX, 0CJS8ZZ, C85.99, D47.2, D64.9, D72.8...       2152           12              2  \n",
      "122262                                             []  [D47.2, F17.210, G95.89, J38.01, M54.16, R13.1...  [D47.2, F17.210, G95.89, J38.01, M54.16, R13.1...       1284            8              1  \n",
      "122263           [00UT0JZ, 02HV33Z, 0HQ6XZZ, 3E03305]  [C83.39, D47.2, E43., G96.0, G97.82, T81.32XA,...  [00UT0JZ, 02HV33Z, 0HQ6XZZ, 3E03305, C83.39, D...       1436           14              2  \n",
      "122264  [02HV33Z, 0HBHXZZ, 0HBJXZZ, 0HR7X74, 3E0436Z]  [B96.20, D68.51, E11.9, F12.90, F41.9, I10., I...  [02HV33Z, 0HBHXZZ, 0HBJXZZ, 0HR7X74, 3E0436Z, ...       1689           27              0  \n",
      "122265                    [05HY33Z, 0J980ZZ, 0WPF0JZ]  [B95.4, D68.2, E11.10, E60., E87.6, F41.9, I10...  [05HY33Z, 0J980ZZ, 0WPF0JZ, B95.4, D68.2, E11....       1456           21              0  \n",
      "\n",
      "[122266 rows x 14 columns]\n",
      "cluster_label\n",
      "1    54788\n",
      "0    39986\n",
      "2    27492\n",
      "Name: count, dtype: int64\n"
     ]
    }
   ],
   "execution_count": 3
  },
  {
   "metadata": {
    "ExecuteTime": {
     "end_time": "2025-03-31T10:31:23.359154Z",
     "start_time": "2025-03-31T10:31:13.479648Z"
    }
   },
   "cell_type": "code",
   "source": [
    "# 定义映射字典\n",
    "label_mapping = {1: 'easy', 0: 'middle', 2: 'hard'}\n",
    "\n",
    "# 将 'cluster_label' 列映射为 'difficulty' 列\n",
    "df['difficulty'] = df['cluster_label'].map(label_mapping)\n",
    "\n",
    "# 检查映射结果\n",
    "print(df[['cluster_label', 'difficulty']].head())\n",
    "print(df['difficulty'].value_counts())\n",
    "\n",
    "# 保存到 Feather 文件\n",
    "output_path = \"/mnt/nvme2/yyc/medical-coding/files/data/mimiciv_icd10/mimiciv_icd10_maxpoolingV2_clusters3.feather\"\n",
    "df.to_feather(output_path)\n",
    "print(f\"Updated file saved to {output_path}\")"
   ],
   "id": "c962187f695a9b0",
   "outputs": [
    {
     "name": "stdout",
     "output_type": "stream",
     "text": [
      "   cluster_label difficulty\n",
      "0              2       hard\n",
      "1              0     middle\n",
      "2              2       hard\n",
      "3              1       easy\n",
      "4              1       easy\n",
      "difficulty\n",
      "easy      54788\n",
      "middle    39986\n",
      "hard      27492\n",
      "Name: count, dtype: int64\n",
      "Updated file saved to /mnt/nvme2/yyc/medical-coding/files/data/mimiciv_icd10/mimiciv_icd10_maxpoolingV2_clusters3.feather\n"
     ]
    }
   ],
   "execution_count": 4
  },
  {
   "metadata": {
    "ExecuteTime": {
     "end_time": "2025-03-31T10:48:31.542134Z",
     "start_time": "2025-03-31T10:48:23.920914Z"
    }
   },
   "cell_type": "code",
   "source": [
    "import pyarrow.feather as feather\n",
    "import pandas as pd\n",
    "# 设置 Pandas 显示选项\n",
    "pd.set_option('display.max_columns', None)  # 显示所有列\n",
    "pd.set_option('display.width', 200)       # 设置显示宽度，防止换行\n",
    "pd.set_option('display.max_rows', 20)      # 只显示 20 行数据（可根据需要调整）\n",
    "# 文件路径\n",
    "file_path = \"/mnt/nvme2/yyc/medical-coding/files/data/mimiciv_icd10/mimiciv_icd10_pca(ensemble)_clusters3.feather\"\n",
    "# 读取 feather 文件\n",
    "data = feather.read_table(file_path)\n",
    "# 转换为 pandas DataFrame\n",
    "df = data.to_pandas()\n",
    "# 打印数据框\n",
    "print(df)\n",
    "print(df['cluster_label'].value_counts())"
   ],
   "id": "f228b7f26e3ca6",
   "outputs": [
    {
     "name": "stdout",
     "output_type": "stream",
     "text": [
      "               note_id  subject_id       _id note_type  note_seq            charttime            storetime                                               text  \\\n",
      "0       10000084-DS-17    10000084  23052089        DS        17  2160-11-25 00:00:00  2160-11-25 15:09:00  name unit no admission date discharge date dat...   \n",
      "1       10000117-DS-21    10000117  22927623        DS        21  2181-11-15 00:00:00  2181-11-15 15:04:00  name unit no admission date discharge date dat...   \n",
      "2       10000117-DS-22    10000117  27988844        DS        22  2183-09-21 00:00:00  2183-09-29 16:23:00  name unit no admission date discharge date dat...   \n",
      "3       10000980-DS-24    10000980  25911675        DS        24  2191-05-24 00:00:00  2191-05-24 17:29:00  name unit no admission date discharge date dat...   \n",
      "4       10000980-DS-25    10000980  29659838        DS        25  2191-07-19 00:00:00  2191-07-22 09:37:00  name unit no admission date discharge date dat...   \n",
      "...                ...         ...       ...       ...       ...                  ...                  ...                                                ...   \n",
      "122261   19999784-DS-7    19999784  26194817        DS         7  2119-07-02 00:00:00  2119-07-03 16:21:00  name unit no admission date discharge date dat...   \n",
      "122262   19999784-DS-8    19999784  24935234        DS         8  2119-07-12 00:00:00  2119-07-14 21:18:00  name unit no admission date discharge date dat...   \n",
      "122263   19999784-DS-9    19999784  23664472        DS         9  2119-08-09 00:00:00  2119-08-09 19:16:00  name unit no admission date discharge date dat...   \n",
      "122264   19999828-DS-6    19999828  29734428        DS         6  2147-08-04 00:00:00  2147-08-12 15:36:00  name unit no admission date discharge date dat...   \n",
      "122265   19999828-DS-7    19999828  25744818        DS         7  2149-01-18 00:00:00  2149-01-19 07:03:00  name unit no admission date discharge date dat...   \n",
      "\n",
      "                                           icd10_proc                                         icd10_diag                                             target  num_words  num_targets  cluster_label  \n",
      "0                                                  []      [E78.5, F02.80, G31.83, R29.6, R44.1, Z85.46]      [E78.5, F02.80, G31.83, R29.6, R44.1, Z85.46]       1305            6              1  \n",
      "1                                                  []  [F41.9, I34.1, K21.9, K31.819, K44.9, M81.0, R...  [F41.9, I34.1, K21.9, K31.819, K44.9, M81.0, R...        626            9              2  \n",
      "2                                           [0QS734Z]  [E78.00, F41.9, G43.909, I34.1, K21.9, M81.0, ...  [0QS734Z, E78.00, F41.9, G43.909, I34.1, K21.9...        887           13              2  \n",
      "3                                                  []  [D50.0, E11.8, I12.9, I25.10, I25.2, I50.23, I...  [D50.0, E11.8, I12.9, I25.10, I25.2, I50.23, I...       1722           22              0  \n",
      "4                                                  []  [D63.1, E11.21, E78.5, I12.9, I25.10, I25.2, I...  [D63.1, E11.21, E78.5, I12.9, I25.10, I25.2, I...       1547           16              0  \n",
      "...                                               ...                                                ...                                                ...        ...          ...            ...  \n",
      "122261                             [07DR3ZX, 0CJS8ZZ]  [C85.99, D47.2, D64.9, D72.819, E44.0, F17.210...  [07DR3ZX, 0CJS8ZZ, C85.99, D47.2, D64.9, D72.8...       2152           12              1  \n",
      "122262                                             []  [D47.2, F17.210, G95.89, J38.01, M54.16, R13.1...  [D47.2, F17.210, G95.89, J38.01, M54.16, R13.1...       1284            8              0  \n",
      "122263           [00UT0JZ, 02HV33Z, 0HQ6XZZ, 3E03305]  [C83.39, D47.2, E43., G96.0, G97.82, T81.32XA,...  [00UT0JZ, 02HV33Z, 0HQ6XZZ, 3E03305, C83.39, D...       1436           14              1  \n",
      "122264  [02HV33Z, 0HBHXZZ, 0HBJXZZ, 0HR7X74, 3E0436Z]  [B96.20, D68.51, E11.9, F12.90, F41.9, I10., I...  [02HV33Z, 0HBHXZZ, 0HBJXZZ, 0HR7X74, 3E0436Z, ...       1689           27              2  \n",
      "122265                    [05HY33Z, 0J980ZZ, 0WPF0JZ]  [B95.4, D68.2, E11.10, E60., E87.6, F41.9, I10...  [05HY33Z, 0J980ZZ, 0WPF0JZ, B95.4, D68.2, E11....       1456           21              2  \n",
      "\n",
      "[122266 rows x 14 columns]\n",
      "cluster_label\n",
      "0    43178\n",
      "1    39762\n",
      "2    39326\n",
      "Name: count, dtype: int64\n"
     ]
    }
   ],
   "execution_count": 7
  },
  {
   "metadata": {
    "ExecuteTime": {
     "end_time": "2025-03-31T10:49:37.540505Z",
     "start_time": "2025-03-31T10:49:29.619314Z"
    }
   },
   "cell_type": "code",
   "source": [
    "# 定义映射字典\n",
    "label_mapping = {0: 'easy', 1: 'middle', 2: 'hard'}\n",
    "\n",
    "# 将 'cluster_label' 列映射为 'difficulty' 列\n",
    "df['difficulty'] = df['cluster_label'].map(label_mapping)\n",
    "\n",
    "# 检查映射结果\n",
    "print(df[['cluster_label', 'difficulty']].head())\n",
    "print(df['difficulty'].value_counts())\n",
    "\n",
    "# 保存到 Feather 文件\n",
    "output_path = \"/mnt/nvme2/yyc/medical-coding/files/data/mimiciv_icd10/mimiciv_icd10_pca(ensemble)_clusters3.feather\"\n",
    "df.to_feather(output_path)\n",
    "print(f\"Updated file saved to {output_path}\")"
   ],
   "id": "76f460fa15c57abb",
   "outputs": [
    {
     "name": "stdout",
     "output_type": "stream",
     "text": [
      "   cluster_label difficulty\n",
      "0              1     middle\n",
      "1              2       hard\n",
      "2              2       hard\n",
      "3              0       easy\n",
      "4              0       easy\n",
      "difficulty\n",
      "easy      43178\n",
      "middle    39762\n",
      "hard      39326\n",
      "Name: count, dtype: int64\n",
      "Updated file saved to /mnt/nvme2/yyc/medical-coding/files/data/mimiciv_icd10/mimiciv_icd10_pca(ensemble)_clusters3.feather\n"
     ]
    }
   ],
   "execution_count": 8
  },
  {
   "metadata": {
    "ExecuteTime": {
     "end_time": "2025-03-31T10:49:45.650760Z",
     "start_time": "2025-03-31T10:49:41.987474Z"
    }
   },
   "cell_type": "code",
   "source": [
    "import pyarrow.feather as feather\n",
    "import pandas as pd\n",
    "# 设置 Pandas 显示选项\n",
    "pd.set_option('display.max_columns', None)  # 显示所有列\n",
    "pd.set_option('display.width', 200)       # 设置显示宽度，防止换行\n",
    "pd.set_option('display.max_rows', 20)      # 只显示 20 行数据（可根据需要调整）\n",
    "# 文件路径\n",
    "file_path = \"/mnt/nvme2/yyc/medical-coding/files/data/mimiciv_icd10/mimiciv_icd10_consensus_clusters3.feather\"\n",
    "# 读取 feather 文件\n",
    "data = feather.read_table(file_path)\n",
    "# 转换为 pandas DataFrame\n",
    "df = data.to_pandas()\n",
    "# 打印数据框\n",
    "print(df)\n",
    "print(df['cluster_label'].value_counts())"
   ],
   "id": "a03319316ee39bec",
   "outputs": [
    {
     "name": "stdout",
     "output_type": "stream",
     "text": [
      "               note_id  subject_id       _id note_type  note_seq            charttime            storetime                                               text  \\\n",
      "0       10000084-DS-17    10000084  23052089        DS        17  2160-11-25 00:00:00  2160-11-25 15:09:00  name unit no admission date discharge date dat...   \n",
      "1       10000117-DS-21    10000117  22927623        DS        21  2181-11-15 00:00:00  2181-11-15 15:04:00  name unit no admission date discharge date dat...   \n",
      "2       10000117-DS-22    10000117  27988844        DS        22  2183-09-21 00:00:00  2183-09-29 16:23:00  name unit no admission date discharge date dat...   \n",
      "3       10000980-DS-24    10000980  25911675        DS        24  2191-05-24 00:00:00  2191-05-24 17:29:00  name unit no admission date discharge date dat...   \n",
      "4       10000980-DS-25    10000980  29659838        DS        25  2191-07-19 00:00:00  2191-07-22 09:37:00  name unit no admission date discharge date dat...   \n",
      "...                ...         ...       ...       ...       ...                  ...                  ...                                                ...   \n",
      "122261   19999784-DS-7    19999784  26194817        DS         7  2119-07-02 00:00:00  2119-07-03 16:21:00  name unit no admission date discharge date dat...   \n",
      "122262   19999784-DS-8    19999784  24935234        DS         8  2119-07-12 00:00:00  2119-07-14 21:18:00  name unit no admission date discharge date dat...   \n",
      "122263   19999784-DS-9    19999784  23664472        DS         9  2119-08-09 00:00:00  2119-08-09 19:16:00  name unit no admission date discharge date dat...   \n",
      "122264   19999828-DS-6    19999828  29734428        DS         6  2147-08-04 00:00:00  2147-08-12 15:36:00  name unit no admission date discharge date dat...   \n",
      "122265   19999828-DS-7    19999828  25744818        DS         7  2149-01-18 00:00:00  2149-01-19 07:03:00  name unit no admission date discharge date dat...   \n",
      "\n",
      "                                           icd10_proc                                         icd10_diag                                             target  num_words  num_targets  cluster_label  \n",
      "0                                                  []      [E78.5, F02.80, G31.83, R29.6, R44.1, Z85.46]      [E78.5, F02.80, G31.83, R29.6, R44.1, Z85.46]       1305            6              1  \n",
      "1                                                  []  [F41.9, I34.1, K21.9, K31.819, K44.9, M81.0, R...  [F41.9, I34.1, K21.9, K31.819, K44.9, M81.0, R...        626            9              0  \n",
      "2                                           [0QS734Z]  [E78.00, F41.9, G43.909, I34.1, K21.9, M81.0, ...  [0QS734Z, E78.00, F41.9, G43.909, I34.1, K21.9...        887           13              1  \n",
      "3                                                  []  [D50.0, E11.8, I12.9, I25.10, I25.2, I50.23, I...  [D50.0, E11.8, I12.9, I25.10, I25.2, I50.23, I...       1722           22              2  \n",
      "4                                                  []  [D63.1, E11.21, E78.5, I12.9, I25.10, I25.2, I...  [D63.1, E11.21, E78.5, I12.9, I25.10, I25.2, I...       1547           16              0  \n",
      "...                                               ...                                                ...                                                ...        ...          ...            ...  \n",
      "122261                             [07DR3ZX, 0CJS8ZZ]  [C85.99, D47.2, D64.9, D72.819, E44.0, F17.210...  [07DR3ZX, 0CJS8ZZ, C85.99, D47.2, D64.9, D72.8...       2152           12              1  \n",
      "122262                                             []  [D47.2, F17.210, G95.89, J38.01, M54.16, R13.1...  [D47.2, F17.210, G95.89, J38.01, M54.16, R13.1...       1284            8              1  \n",
      "122263           [00UT0JZ, 02HV33Z, 0HQ6XZZ, 3E03305]  [C83.39, D47.2, E43., G96.0, G97.82, T81.32XA,...  [00UT0JZ, 02HV33Z, 0HQ6XZZ, 3E03305, C83.39, D...       1436           14              1  \n",
      "122264  [02HV33Z, 0HBHXZZ, 0HBJXZZ, 0HR7X74, 3E0436Z]  [B96.20, D68.51, E11.9, F12.90, F41.9, I10., I...  [02HV33Z, 0HBHXZZ, 0HBJXZZ, 0HR7X74, 3E0436Z, ...       1689           27              1  \n",
      "122265                    [05HY33Z, 0J980ZZ, 0WPF0JZ]  [B95.4, D68.2, E11.10, E60., E87.6, F41.9, I10...  [05HY33Z, 0J980ZZ, 0WPF0JZ, B95.4, D68.2, E11....       1456           21              0  \n",
      "\n",
      "[122266 rows x 14 columns]\n",
      "cluster_label\n",
      "1    64797\n",
      "0    54820\n",
      "2     2649\n",
      "Name: count, dtype: int64\n"
     ]
    }
   ],
   "execution_count": 9
  },
  {
   "metadata": {
    "ExecuteTime": {
     "end_time": "2025-03-31T10:50:22.863192Z",
     "start_time": "2025-03-31T10:50:14.932923Z"
    }
   },
   "cell_type": "code",
   "source": [
    "# 定义映射字典\n",
    "label_mapping = {1: 'easy', 0: 'middle', 2: 'hard'}\n",
    "\n",
    "# 将 'cluster_label' 列映射为 'difficulty' 列\n",
    "df['difficulty'] = df['cluster_label'].map(label_mapping)\n",
    "\n",
    "# 检查映射结果\n",
    "print(df[['cluster_label', 'difficulty']].head())\n",
    "print(df['difficulty'].value_counts())\n",
    "\n",
    "# 保存到 Feather 文件\n",
    "output_path = \"/mnt/nvme2/yyc/medical-coding/files/data/mimiciv_icd10/mimiciv_icd10_consensus_clusters3.feather\"\n",
    "df.to_feather(output_path)\n",
    "print(f\"Updated file saved to {output_path}\")"
   ],
   "id": "f6afce695b0b530a",
   "outputs": [
    {
     "name": "stdout",
     "output_type": "stream",
     "text": [
      "   cluster_label difficulty\n",
      "0              1       easy\n",
      "1              0     middle\n",
      "2              1       easy\n",
      "3              2       hard\n",
      "4              0     middle\n",
      "difficulty\n",
      "easy      64797\n",
      "middle    54820\n",
      "hard       2649\n",
      "Name: count, dtype: int64\n",
      "Updated file saved to /mnt/nvme2/yyc/medical-coding/files/data/mimiciv_icd10/mimiciv_icd10_consensus_clusters3.feather\n"
     ]
    }
   ],
   "execution_count": 10
  },
  {
   "metadata": {
    "ExecuteTime": {
     "end_time": "2025-04-09T08:55:47.682258Z",
     "start_time": "2025-04-09T08:55:43.693486Z"
    }
   },
   "cell_type": "code",
   "source": [
    "import pyarrow.feather as feather\n",
    "import pandas as pd\n",
    "# 设置 Pandas 显示选项\n",
    "pd.set_option('display.max_columns', None)  # 显示所有列\n",
    "pd.set_option('display.width', 200)       # 设置显示宽度，防止换行\n",
    "pd.set_option('display.max_rows', 20)      # 只显示 20 行数据（可根据需要调整）\n",
    "# 文件路径\n",
    "file_path = \"/mnt/nvme2/yyc/medical-coding/files/data/mimiciv_icd10/mimiciv_icd10_splitconcat_clusters3.feather\"\n",
    "# 读取 feather 文件\n",
    "data = feather.read_table(file_path)\n",
    "# 转换为 pandas DataFrame\n",
    "df = data.to_pandas()\n",
    "# 打印数据框\n",
    "print(df)\n",
    "print(df['cluster_label'].value_counts())"
   ],
   "id": "f81eac0914a53133",
   "outputs": [
    {
     "name": "stdout",
     "output_type": "stream",
     "text": [
      "               note_id  subject_id       _id note_type  note_seq            charttime            storetime                                               text  \\\n",
      "0       10000084-DS-17    10000084  23052089        DS        17  2160-11-25 00:00:00  2160-11-25 15:09:00  name unit no admission date discharge date dat...   \n",
      "1       10000117-DS-21    10000117  22927623        DS        21  2181-11-15 00:00:00  2181-11-15 15:04:00  name unit no admission date discharge date dat...   \n",
      "2       10000117-DS-22    10000117  27988844        DS        22  2183-09-21 00:00:00  2183-09-29 16:23:00  name unit no admission date discharge date dat...   \n",
      "3       10000980-DS-24    10000980  25911675        DS        24  2191-05-24 00:00:00  2191-05-24 17:29:00  name unit no admission date discharge date dat...   \n",
      "4       10000980-DS-25    10000980  29659838        DS        25  2191-07-19 00:00:00  2191-07-22 09:37:00  name unit no admission date discharge date dat...   \n",
      "...                ...         ...       ...       ...       ...                  ...                  ...                                                ...   \n",
      "122261   19999784-DS-7    19999784  26194817        DS         7  2119-07-02 00:00:00  2119-07-03 16:21:00  name unit no admission date discharge date dat...   \n",
      "122262   19999784-DS-8    19999784  24935234        DS         8  2119-07-12 00:00:00  2119-07-14 21:18:00  name unit no admission date discharge date dat...   \n",
      "122263   19999784-DS-9    19999784  23664472        DS         9  2119-08-09 00:00:00  2119-08-09 19:16:00  name unit no admission date discharge date dat...   \n",
      "122264   19999828-DS-6    19999828  29734428        DS         6  2147-08-04 00:00:00  2147-08-12 15:36:00  name unit no admission date discharge date dat...   \n",
      "122265   19999828-DS-7    19999828  25744818        DS         7  2149-01-18 00:00:00  2149-01-19 07:03:00  name unit no admission date discharge date dat...   \n",
      "\n",
      "                                           icd10_proc                                         icd10_diag                                             target  num_words  num_targets  cluster_label  \n",
      "0                                                  []      [E78.5, F02.80, G31.83, R29.6, R44.1, Z85.46]      [E78.5, F02.80, G31.83, R29.6, R44.1, Z85.46]       1305            6              1  \n",
      "1                                                  []  [F41.9, I34.1, K21.9, K31.819, K44.9, M81.0, R...  [F41.9, I34.1, K21.9, K31.819, K44.9, M81.0, R...        626            9              0  \n",
      "2                                           [0QS734Z]  [E78.00, F41.9, G43.909, I34.1, K21.9, M81.0, ...  [0QS734Z, E78.00, F41.9, G43.909, I34.1, K21.9...        887           13              1  \n",
      "3                                                  []  [D50.0, E11.8, I12.9, I25.10, I25.2, I50.23, I...  [D50.0, E11.8, I12.9, I25.10, I25.2, I50.23, I...       1722           22              2  \n",
      "4                                                  []  [D63.1, E11.21, E78.5, I12.9, I25.10, I25.2, I...  [D63.1, E11.21, E78.5, I12.9, I25.10, I25.2, I...       1547           16              2  \n",
      "...                                               ...                                                ...                                                ...        ...          ...            ...  \n",
      "122261                             [07DR3ZX, 0CJS8ZZ]  [C85.99, D47.2, D64.9, D72.819, E44.0, F17.210...  [07DR3ZX, 0CJS8ZZ, C85.99, D47.2, D64.9, D72.8...       2152           12              1  \n",
      "122262                                             []  [D47.2, F17.210, G95.89, J38.01, M54.16, R13.1...  [D47.2, F17.210, G95.89, J38.01, M54.16, R13.1...       1284            8              2  \n",
      "122263           [00UT0JZ, 02HV33Z, 0HQ6XZZ, 3E03305]  [C83.39, D47.2, E43., G96.0, G97.82, T81.32XA,...  [00UT0JZ, 02HV33Z, 0HQ6XZZ, 3E03305, C83.39, D...       1436           14              0  \n",
      "122264  [02HV33Z, 0HBHXZZ, 0HBJXZZ, 0HR7X74, 3E0436Z]  [B96.20, D68.51, E11.9, F12.90, F41.9, I10., I...  [02HV33Z, 0HBHXZZ, 0HBJXZZ, 0HR7X74, 3E0436Z, ...       1689           27              0  \n",
      "122265                    [05HY33Z, 0J980ZZ, 0WPF0JZ]  [B95.4, D68.2, E11.10, E60., E87.6, F41.9, I10...  [05HY33Z, 0J980ZZ, 0WPF0JZ, B95.4, D68.2, E11....       1456           21              0  \n",
      "\n",
      "[122266 rows x 14 columns]\n",
      "cluster_label\n",
      "2    47806\n",
      "0    38336\n",
      "1    36124\n",
      "Name: count, dtype: int64\n"
     ]
    }
   ],
   "execution_count": 1
  },
  {
   "metadata": {
    "ExecuteTime": {
     "end_time": "2025-04-09T12:54:54.203873Z",
     "start_time": "2025-04-09T12:54:46.319742Z"
    }
   },
   "cell_type": "code",
   "source": [
    "# 定义映射字典\n",
    "label_mapping = {2: 'easy', 0: 'middle', 1: 'hard'}\n",
    "\n",
    "# 将 'cluster_label' 列映射为 'difficulty' 列\n",
    "df['difficulty'] = df['cluster_label'].map(label_mapping)\n",
    "\n",
    "# 检查映射结果\n",
    "print(df[['cluster_label', 'difficulty']].head())\n",
    "print(df['difficulty'].value_counts())\n",
    "\n",
    "# 保存到 Feather 文件\n",
    "output_path = \"/mnt/nvme2/yyc/medical-coding/files/data/mimiciv_icd10/mimiciv_icd10_splitconcat_clusters3.feather\"\n",
    "df.to_feather(output_path)\n",
    "print(f\"Updated file saved to {output_path}\")"
   ],
   "id": "7c3fe400016c566b",
   "outputs": [
    {
     "name": "stdout",
     "output_type": "stream",
     "text": [
      "   cluster_label difficulty\n",
      "0              1       hard\n",
      "1              0     middle\n",
      "2              1       hard\n",
      "3              2       easy\n",
      "4              2       easy\n",
      "difficulty\n",
      "easy      47806\n",
      "middle    38336\n",
      "hard      36124\n",
      "Name: count, dtype: int64\n",
      "Updated file saved to /mnt/nvme2/yyc/medical-coding/files/data/mimiciv_icd10/mimiciv_icd10_splitconcat_clusters3.feather\n"
     ]
    }
   ],
   "execution_count": 2
  },
  {
   "metadata": {
    "ExecuteTime": {
     "end_time": "2025-04-09T12:55:22.279379Z",
     "start_time": "2025-04-09T12:55:17.106336Z"
    }
   },
   "cell_type": "code",
   "source": [
    "import pyarrow.feather as feather\n",
    "import pandas as pd\n",
    "# 设置 Pandas 显示选项\n",
    "pd.set_option('display.max_columns', None)  # 显示所有列\n",
    "pd.set_option('display.width', 200)       # 设置显示宽度，防止换行\n",
    "pd.set_option('display.max_rows', 20)      # 只显示 20 行数据（可根据需要调整）\n",
    "# 文件路径\n",
    "file_path = \"/mnt/nvme2/yyc/medical-coding/files/data/mimiciv_icd9/mimiciv_icd9_splitconcat_clusters3.feather\"\n",
    "# 读取 feather 文件\n",
    "data = feather.read_table(file_path)\n",
    "# 转换为 pandas DataFrame\n",
    "df = data.to_pandas()\n",
    "# 打印数据框\n",
    "print(df)\n",
    "print(df['cluster_label'].value_counts())"
   ],
   "id": "be484147b846c1a4",
   "outputs": [
    {
     "name": "stdout",
     "output_type": "stream",
     "text": [
      "               note_id  subject_id       _id note_type  note_seq            charttime            storetime                                               text                    icd9_proc  \\\n",
      "0       10000032-DS-21    10000032  22595853        DS        21  2180-05-07 00:00:00  2180-05-09 15:26:00  name unit no admission date discharge date dat...                      [54.91]   \n",
      "1       10000032-DS-22    10000032  22841357        DS        22  2180-06-27 00:00:00  2180-07-01 10:15:00  name unit no admission date discharge date dat...                      [54.91]   \n",
      "2       10000032-DS-23    10000032  29079034        DS        23  2180-07-25 00:00:00  2180-07-25 21:42:00  name unit no admission date discharge date dat...                           []   \n",
      "3       10000032-DS-24    10000032  25742920        DS        24  2180-08-07 00:00:00  2180-08-10 05:43:00  name unit no admission date discharge date dat...                      [54.91]   \n",
      "4       10000248-DS-10    10000248  20600184        DS        10  2192-11-30 00:00:00  2192-11-30 19:49:00  name unit no admission date discharge date dat...                           []   \n",
      "...                ...         ...       ...       ...       ...                  ...                  ...                                                ...                          ...   \n",
      "209292  19999625-DS-12    19999625  27638769        DS        12  2138-10-09 00:00:00  2138-10-10 01:42:00  name unit no admission date discharge date dat...                           []   \n",
      "209293  19999625-DS-13    19999625  25304202        DS        13  2139-10-16 00:00:00  2139-10-16 19:45:00  name unit no admission date discharge date dat...                [93.90, 96.6]   \n",
      "209294  19999840-DS-20    19999840  26071774        DS        20  2164-07-28 00:00:00  2164-07-29 14:52:00  name unit no admission date discharge date dat...               [88.41, 88.91]   \n",
      "209295  19999840-DS-21    19999840  21033226        DS        21  2164-09-17 00:00:00  2164-09-18 01:36:00  name unit no admission date discharge date dat...  [03.31, 96.04, 96.6, 96.72]   \n",
      "209296   19999987-DS-2    19999987  23865745        DS         2  2145-11-11 00:00:00  2145-11-11 13:13:00  name unit no admission date discharge date dat...               [88.41, 96.71]   \n",
      "\n",
      "                                                icd9_diag                                             target  num_words  num_targets  cluster_label  \n",
      "0       [070.70, 296.80, 309.81, 496, 571.5, 572.3, 78...  [54.91, 070.70, 296.80, 309.81, 496, 571.5, 57...       1126            9              0  \n",
      "1       [070.71, 276.1, 287.5, 305.1, 496, 571.5, 789....  [54.91, 070.71, 276.1, 287.5, 305.1, 496, 571....       1486            9              0  \n",
      "2       [070.44, 276.1, 276.7, 296.80, 305.1, 458.29, ...  [070.44, 276.1, 276.7, 296.80, 305.1, 458.29, ...       1487           13              0  \n",
      "3       [070.54, 276.1, 276.7, 305.1, 496, 571.5, 787....  [54.91, 070.54, 276.1, 276.7, 305.1, 496, 571....       1416           11              0  \n",
      "4              [285.9, 286.0, 920, 922.2, E849.5, E885.4]         [285.9, 286.0, 920, 922.2, E849.5, E885.4]       1099            6              2  \n",
      "...                                                   ...                                                ...        ...          ...            ...  \n",
      "209292  [276.0, 280.9, 285.29, 294.10, 327.42, 331.82,...  [276.0, 280.9, 285.29, 294.10, 327.42, 331.82,...       1090           14              1  \n",
      "209293  [276.0, 287.5, 294.10, 327.42, 331.82, 403.90,...  [93.90, 96.6, 276.0, 287.5, 294.10, 327.42, 33...       1032           17              2  \n",
      "209294  [272.4, 305.1, 345.90, 401.9, 434.91, 438.11, ...  [88.41, 88.91, 272.4, 305.1, 345.90, 401.9, 43...       1520            9              1  \n",
      "209295  [272.4, 345.3, 401.9, 427.41, 438.11, 438.21, ...  [03.31, 96.04, 96.6, 96.72, 272.4, 345.3, 401....       1272           16              1  \n",
      "209296  [041.3, 202.80, 244.9, 348.5, 368.46, 414.01, ...  [88.41, 96.71, 041.3, 202.80, 244.9, 348.5, 36...       1860           13              1  \n",
      "\n",
      "[209297 rows x 14 columns]\n",
      "cluster_label\n",
      "1    77334\n",
      "2    69179\n",
      "0    62784\n",
      "Name: count, dtype: int64\n"
     ]
    }
   ],
   "execution_count": 3
  },
  {
   "metadata": {
    "ExecuteTime": {
     "end_time": "2025-04-09T12:56:04.159302Z",
     "start_time": "2025-04-09T12:55:53.464902Z"
    }
   },
   "cell_type": "code",
   "source": [
    "# 定义映射字典\n",
    "label_mapping = {1: 'easy', 2: 'middle', 0: 'hard'}\n",
    "\n",
    "# 将 'cluster_label' 列映射为 'difficulty' 列\n",
    "df['difficulty'] = df['cluster_label'].map(label_mapping)\n",
    "\n",
    "# 检查映射结果\n",
    "print(df[['cluster_label', 'difficulty']].head())\n",
    "print(df['difficulty'].value_counts())\n",
    "\n",
    "# 保存到 Feather 文件\n",
    "output_path = \"/mnt/nvme2/yyc/medical-coding/files/data/mimiciv_icd9/mimiciv_icd9_splitconcat_clusters3.feather\"\n",
    "df.to_feather(output_path)\n",
    "print(f\"Updated file saved to {output_path}\")"
   ],
   "id": "4f762fcac90cb428",
   "outputs": [
    {
     "name": "stdout",
     "output_type": "stream",
     "text": [
      "   cluster_label difficulty\n",
      "0              0       hard\n",
      "1              0       hard\n",
      "2              0       hard\n",
      "3              0       hard\n",
      "4              2     middle\n",
      "difficulty\n",
      "easy      77334\n",
      "middle    69179\n",
      "hard      62784\n",
      "Name: count, dtype: int64\n",
      "Updated file saved to /mnt/nvme2/yyc/medical-coding/files/data/mimiciv_icd9/mimiciv_icd9_splitconcat_clusters3.feather\n"
     ]
    }
   ],
   "execution_count": 4
  },
  {
   "metadata": {
    "ExecuteTime": {
     "end_time": "2025-04-16T08:19:34.040719Z",
     "start_time": "2025-04-16T08:19:30.917759Z"
    }
   },
   "cell_type": "code",
   "source": [
    "import pyarrow.feather as feather\n",
    "import pandas as pd\n",
    "# 设置 Pandas 显示选项\n",
    "pd.set_option('display.max_columns', None)  # 显示所有列\n",
    "pd.set_option('display.width', 200)       # 设置显示宽度，防止换行\n",
    "pd.set_option('display.max_rows', 20)      # 只显示 20 行数据（可根据需要调整）\n",
    "# 文件路径\n",
    "file_path = \"/mnt/nvme2/yyc/medical-coding/files/data/mimiciv_icd10/mimiciv_icd10_clusters3.feather\"\n",
    "# 读取 feather 文件\n",
    "data = feather.read_table(file_path)\n",
    "# 转换为 pandas DataFrame\n",
    "df = data.to_pandas()\n",
    "# 打印数据框\n",
    "print(df)\n",
    "print(df['cluster_label'].value_counts())"
   ],
   "id": "d0b80c357ae4eadb",
   "outputs": [
    {
     "name": "stdout",
     "output_type": "stream",
     "text": [
      "               note_id  subject_id       _id note_type  note_seq            charttime            storetime                                               text  \\\n",
      "0       10000084-DS-17    10000084  23052089        DS        17  2160-11-25 00:00:00  2160-11-25 15:09:00  name unit no admission date discharge date dat...   \n",
      "1       10000117-DS-21    10000117  22927623        DS        21  2181-11-15 00:00:00  2181-11-15 15:04:00  name unit no admission date discharge date dat...   \n",
      "2       10000117-DS-22    10000117  27988844        DS        22  2183-09-21 00:00:00  2183-09-29 16:23:00  name unit no admission date discharge date dat...   \n",
      "3       10000980-DS-24    10000980  25911675        DS        24  2191-05-24 00:00:00  2191-05-24 17:29:00  name unit no admission date discharge date dat...   \n",
      "4       10000980-DS-25    10000980  29659838        DS        25  2191-07-19 00:00:00  2191-07-22 09:37:00  name unit no admission date discharge date dat...   \n",
      "...                ...         ...       ...       ...       ...                  ...                  ...                                                ...   \n",
      "122261   19999784-DS-7    19999784  26194817        DS         7  2119-07-02 00:00:00  2119-07-03 16:21:00  name unit no admission date discharge date dat...   \n",
      "122262   19999784-DS-8    19999784  24935234        DS         8  2119-07-12 00:00:00  2119-07-14 21:18:00  name unit no admission date discharge date dat...   \n",
      "122263   19999784-DS-9    19999784  23664472        DS         9  2119-08-09 00:00:00  2119-08-09 19:16:00  name unit no admission date discharge date dat...   \n",
      "122264   19999828-DS-6    19999828  29734428        DS         6  2147-08-04 00:00:00  2147-08-12 15:36:00  name unit no admission date discharge date dat...   \n",
      "122265   19999828-DS-7    19999828  25744818        DS         7  2149-01-18 00:00:00  2149-01-19 07:03:00  name unit no admission date discharge date dat...   \n",
      "\n",
      "                                           icd10_proc                                         icd10_diag                                             target  num_words  num_targets  cluster_label  \n",
      "0                                                  []      [E78.5, F02.80, G31.83, R29.6, R44.1, Z85.46]      [E78.5, F02.80, G31.83, R29.6, R44.1, Z85.46]       1305            6              2  \n",
      "1                                                  []  [F41.9, I34.1, K21.9, K31.819, K44.9, M81.0, R...  [F41.9, I34.1, K21.9, K31.819, K44.9, M81.0, R...        626            9              0  \n",
      "2                                           [0QS734Z]  [E78.00, F41.9, G43.909, I34.1, K21.9, M81.0, ...  [0QS734Z, E78.00, F41.9, G43.909, I34.1, K21.9...        887           13              0  \n",
      "3                                                  []  [D50.0, E11.8, I12.9, I25.10, I25.2, I50.23, I...  [D50.0, E11.8, I12.9, I25.10, I25.2, I50.23, I...       1722           22              1  \n",
      "4                                                  []  [D63.1, E11.21, E78.5, I12.9, I25.10, I25.2, I...  [D63.1, E11.21, E78.5, I12.9, I25.10, I25.2, I...       1547           16              2  \n",
      "...                                               ...                                                ...                                                ...        ...          ...            ...  \n",
      "122261                             [07DR3ZX, 0CJS8ZZ]  [C85.99, D47.2, D64.9, D72.819, E44.0, F17.210...  [07DR3ZX, 0CJS8ZZ, C85.99, D47.2, D64.9, D72.8...       2152           12              2  \n",
      "122262                                             []  [D47.2, F17.210, G95.89, J38.01, M54.16, R13.1...  [D47.2, F17.210, G95.89, J38.01, M54.16, R13.1...       1284            8              2  \n",
      "122263           [00UT0JZ, 02HV33Z, 0HQ6XZZ, 3E03305]  [C83.39, D47.2, E43., G96.0, G97.82, T81.32XA,...  [00UT0JZ, 02HV33Z, 0HQ6XZZ, 3E03305, C83.39, D...       1436           14              0  \n",
      "122264  [02HV33Z, 0HBHXZZ, 0HBJXZZ, 0HR7X74, 3E0436Z]  [B96.20, D68.51, E11.9, F12.90, F41.9, I10., I...  [02HV33Z, 0HBHXZZ, 0HBJXZZ, 0HR7X74, 3E0436Z, ...       1689           27              2  \n",
      "122265                    [05HY33Z, 0J980ZZ, 0WPF0JZ]  [B95.4, D68.2, E11.10, E60., E87.6, F41.9, I10...  [05HY33Z, 0J980ZZ, 0WPF0JZ, B95.4, D68.2, E11....       1456           21              0  \n",
      "\n",
      "[122266 rows x 14 columns]\n",
      "cluster_label\n",
      "2    67508\n",
      "0    52338\n",
      "1     2420\n",
      "Name: count, dtype: int64\n"
     ]
    }
   ],
   "execution_count": 1
  },
  {
   "metadata": {
    "ExecuteTime": {
     "end_time": "2025-04-16T08:20:32.784410Z",
     "start_time": "2025-04-16T08:20:25.190380Z"
    }
   },
   "cell_type": "code",
   "source": [
    "# 定义映射字典\n",
    "label_mapping = {2: 'easy', 0: 'middle', 1: 'hard'}\n",
    "\n",
    "# 将 'cluster_label' 列映射为 'difficulty' 列\n",
    "df['difficulty'] = df['cluster_label'].map(label_mapping)\n",
    "\n",
    "# 检查映射结果\n",
    "print(df[['cluster_label', 'difficulty']].head())\n",
    "print(df['difficulty'].value_counts())\n",
    "\n",
    "# 保存到 Feather 文件\n",
    "output_path = \"/mnt/nvme2/yyc/medical-coding/files/data/mimiciv_icd10/mimiciv_icd10_clusters3.feather\"\n",
    "df.to_feather(output_path)\n",
    "print(f\"Updated file saved to {output_path}\")"
   ],
   "id": "b330024177617110",
   "outputs": [
    {
     "name": "stdout",
     "output_type": "stream",
     "text": [
      "   cluster_label difficulty\n",
      "0              2       easy\n",
      "1              0     middle\n",
      "2              0     middle\n",
      "3              1       hard\n",
      "4              2       easy\n",
      "difficulty\n",
      "easy      67508\n",
      "middle    52338\n",
      "hard       2420\n",
      "Name: count, dtype: int64\n",
      "Updated file saved to /mnt/nvme2/yyc/medical-coding/files/data/mimiciv_icd10/mimiciv_icd10_clusters3.feather\n"
     ]
    }
   ],
   "execution_count": 2
  },
  {
   "metadata": {
    "ExecuteTime": {
     "end_time": "2025-04-17T06:48:28.104395Z",
     "start_time": "2025-04-17T06:48:26.502766Z"
    }
   },
   "cell_type": "code",
   "source": [
    "import pyarrow.feather as feather\n",
    "import pandas as pd\n",
    "# 设置 Pandas 显示选项\n",
    "pd.set_option('display.max_columns', None)  # 显示所有列\n",
    "pd.set_option('display.width', 200)       # 设置显示宽度，防止换行\n",
    "pd.set_option('display.max_rows', 20)      # 只显示 20 行数据（可根据需要调整）\n",
    "# 文件路径\n",
    "file_path = \"/mnt/nvme2/yyc/medical-coding/files/data/mimiciii_full/mimiciii_cluster3.feather\"\n",
    "# 读取 feather 文件\n",
    "data = feather.read_table(file_path)\n",
    "# 转换为 pandas DataFrame\n",
    "df = data.to_pandas()\n",
    "# 打印数据框\n",
    "print(df)\n",
    "print(df['cluster_label'].value_counts())"
   ],
   "id": "356fb29cd494e152",
   "outputs": [
    {
     "name": "stdout",
     "output_type": "stream",
     "text": [
      "       subject_id     _id      DESCRIPTION                                               text                                             cpt_id                                          icd9_diag  \\\n",
      "0               3  145834           Report  admission date discharge date date of birth se...                                     [94002, 94003]  [785.59, 682.6, 425.4, 410.71, 038.9, 584.9, 4...   \n",
      "1               4  185777           Report  admission date discharge date date of birth se...                [99233, 99223, 99238, 99231, 99232]  [E931.7, 799.4, 041.11, 136.3, 571.5, 790.7, 2...   \n",
      "2               6  107064           Report  admission date discharge date date of birth se...         [99239, 99255, 99291, 99233, 99231, 99232]  [403.91, 276.6, 444.0, V15.82, 997.2, 276.7, 2...   \n",
      "3               9  150750  Report+Addendum  admission date discharge date date of birth se...                                            [94003]           [276.5, 584.9, 431, 507.0, 401.9, 428.0]   \n",
      "4              10  184167           Report  admission date discharge date date of birth se...                                               None             [765.25, V29.0, 765.15, 774.2, V30.00]   \n",
      "...           ...     ...              ...                                                ...                                                ...                                                ...   \n",
      "52717       99985  176670           Report  admission date discharge date date of birth se...  [99239, 94002, 94003, 99255, 99291, 36556, 992...  [244.9, V42.81, 785.52, 038.9, 272.4, 995.92, ...   \n",
      "52718       99991  151118           Report  admission date discharge date date of birth se...         [49002, 94002, 44213, 45300, 44204, 99291]  [557.0, 719.47, 553.8, 789.59, 038.9, 276.51, ...   \n",
      "52719       99992  197084           Report  admission date discharge date date of birth se...                              [99239, 99233, 99291]  [569.9, 272.1, 579.9, 568.81, 285.1, 584.9, 57...   \n",
      "52720       99995  137810           Report  admission date discharge date service surgery ...  [75953, 75952, 34825, 34812, 34802, 99291, 992...  [E879.8, V10.3, 424.1, 428.33, 428.0, 272.4, 2...   \n",
      "52721       99999  113369           Report  admission date discharge date date of birth se...         [20930, 63047, 38220, 61795, 22630, 22840]              [756.12, 413.9, 250.00, 786.1, 401.9]   \n",
      "\n",
      "                                              icd9_proc                                             target  num_words  num_targets  cluster_label  \n",
      "0             [96.72, 99.62, 96.6, 96.04, 38.93, 89.64]  [96.72, 99.62, 96.6, 96.04, 38.93, 89.64, 785....       2153           15              2  \n",
      "1                                 [88.72, 33.23, 38.93]  [88.72, 33.23, 38.93, E931.7, 799.4, 041.11, 1...       1442           12              2  \n",
      "2                   [39.57, 38.06, 99.04, 55.69, 00.91]  [39.57, 38.06, 99.04, 55.69, 00.91, 403.91, 27...       1037           13              2  \n",
      "3                                        [96.72, 96.04]  [96.72, 96.04, 276.5, 584.9, 431, 507.0, 401.9...       1388            8              2  \n",
      "4                                  [99.83, 96.6, 99.15]  [99.83, 96.6, 99.15, 765.25, V29.0, 765.15, 77...        518            8              2  \n",
      "...                                                 ...                                                ...        ...          ...            ...  \n",
      "52717                [96.72, 00.14, 96.6, 96.04, 38.93]  [96.72, 00.14, 96.6, 96.04, 38.93, 244.9, V42....       1552           18              1  \n",
      "52718  [54.12, 54.91, 54.4, 17.36, 54.59, 54.25, 48.23]  [54.12, 54.91, 54.4, 17.36, 54.59, 54.25, 48.2...       1419           24              1  \n",
      "52719                                    [39.79, 88.47]  [39.79, 88.47, 569.9, 272.1, 579.9, 568.81, 28...       1875           14              1  \n",
      "52720                             [17.71, 83.39, 39.71]  [17.71, 83.39, 39.71, E879.8, V10.3, 424.1, 42...        930           20              1  \n",
      "52721               [81.08, 84.51, 80.51, 81.62, 99.79]  [81.08, 84.51, 80.51, 81.62, 99.79, 756.12, 41...        998           10              1  \n",
      "\n",
      "[52722 rows x 11 columns]\n",
      "cluster_label\n",
      "1    37833\n",
      "2    13023\n",
      "0     1866\n",
      "Name: count, dtype: int64\n"
     ]
    }
   ],
   "execution_count": 4
  },
  {
   "metadata": {
    "ExecuteTime": {
     "end_time": "2025-04-17T06:49:37.803682Z",
     "start_time": "2025-04-17T06:49:33.509977Z"
    }
   },
   "cell_type": "code",
   "source": [
    "# 定义映射字典\n",
    "label_mapping = {1: 'easy', 2: 'middle', 0: 'hard'}\n",
    "\n",
    "# 将 'cluster_label' 列映射为 'difficulty' 列\n",
    "df['difficulty'] = df['cluster_label'].map(label_mapping)\n",
    "\n",
    "# 检查映射结果\n",
    "print(df[['cluster_label', 'difficulty']].head())\n",
    "print(df['difficulty'].value_counts())\n",
    "\n",
    "# 保存到 Feather 文件\n",
    "output_path = \"/mnt/nvme2/yyc/medical-coding/files/data/mimiciii_full/mimiciii_cluster3.feather\"\n",
    "df.to_feather(output_path)\n",
    "print(f\"Updated file saved to {output_path}\")"
   ],
   "id": "8ac33c5c28725cb9",
   "outputs": [
    {
     "name": "stdout",
     "output_type": "stream",
     "text": [
      "   cluster_label difficulty\n",
      "0              2     middle\n",
      "1              2     middle\n",
      "2              2     middle\n",
      "3              2     middle\n",
      "4              2     middle\n",
      "difficulty\n",
      "easy      37833\n",
      "middle    13023\n",
      "hard       1866\n",
      "Name: count, dtype: int64\n",
      "Updated file saved to /mnt/nvme2/yyc/medical-coding/files/data/mimiciii_full/mimiciii_cluster3.feather\n"
     ]
    }
   ],
   "execution_count": 5
  },
  {
   "metadata": {
    "ExecuteTime": {
     "end_time": "2025-04-18T02:23:50.568709Z",
     "start_time": "2025-04-18T02:23:48.950704Z"
    }
   },
   "cell_type": "code",
   "source": [
    "import pyarrow.feather as feather\n",
    "import pandas as pd\n",
    "# 设置 Pandas 显示选项\n",
    "pd.set_option('display.max_columns', None)  # 显示所有列\n",
    "pd.set_option('display.width', 200)       # 设置显示宽度，防止换行\n",
    "pd.set_option('display.max_rows', 20)      # 只显示 20 行数据（可根据需要调整）\n",
    "# 文件路径\n",
    "file_path = \"/mnt/nvme2/yyc/medical-coding/files/data/mimiciii_50/mimiciii_cluster3.feather\"\n",
    "# 读取 feather 文件\n",
    "data = feather.read_table(file_path)\n",
    "# 转换为 pandas DataFrame\n",
    "df = data.to_pandas()\n",
    "# 打印数据框\n",
    "print(df)\n",
    "print(df['cluster_label'].value_counts())"
   ],
   "id": "308f2b5279ed9c87",
   "outputs": [
    {
     "name": "stdout",
     "output_type": "stream",
     "text": [
      "       subject_id     _id      DESCRIPTION                                               text                                             cpt_id                                          icd9_diag  \\\n",
      "0               3  145834           Report  admission date discharge date date of birth se...                                     [94002, 94003]                      [410.71, 038.9, 584.9, 428.0]   \n",
      "1               4  185777           Report  admission date discharge date date of birth se...                [99233, 99223, 99238, 99231, 99232]                                                 []   \n",
      "2               6  107064           Report  admission date discharge date date of birth se...         [99239, 99255, 99291, 99233, 99231, 99232]                                    [V15.82, 285.9]   \n",
      "3               9  150750  Report+Addendum  admission date discharge date date of birth se...                                            [94003]                       [584.9, 507.0, 401.9, 428.0]   \n",
      "4              10  184167           Report  admission date discharge date date of birth se...                                               None                                                 []   \n",
      "...           ...     ...              ...                                                ...                                                ...                                                ...   \n",
      "49409       99985  176670           Report  admission date discharge date date of birth se...  [99239, 94002, 94003, 99255, 99291, 36556, 992...  [244.9, 038.9, 272.4, 995.92, 518.81, 285.9, 5...   \n",
      "49410       99991  151118           Report  admission date discharge date date of birth se...         [49002, 94002, 44213, 45300, 44204, 99291]              [038.9, 250.00, 995.92, 584.9, 428.0]   \n",
      "49411       99992  197084           Report  admission date discharge date date of birth se...                              [99239, 99233, 99291]                      [285.1, 584.9, 401.9, 530.81]   \n",
      "49412       99995  137810           Report  admission date discharge date service surgery ...  [75953, 75952, 34825, 34812, 34802, 99291, 992...  [428.0, 272.4, 250.00, V15.82, 285.1, V45.81, ...   \n",
      "49413       99999  113369           Report  admission date discharge date date of birth se...         [20930, 63047, 38220, 61795, 22630, 22840]                                    [250.00, 401.9]   \n",
      "\n",
      "                         icd9_proc                                             target  num_words  num_targets  cluster_label  \n",
      "0      [96.72, 96.6, 96.04, 38.93]  [96.72, 96.6, 96.04, 38.93, 410.71, 038.9, 584...       2153           15              1  \n",
      "1                   [88.72, 38.93]                                     [88.72, 38.93]       1442           12              1  \n",
      "2                          [99.04]                             [99.04, V15.82, 285.9]       1037           13              1  \n",
      "3                   [96.72, 96.04]         [96.72, 96.04, 584.9, 507.0, 401.9, 428.0]       1388            8              1  \n",
      "4                    [96.6, 99.15]                                      [96.6, 99.15]        518            8              1  \n",
      "...                            ...                                                ...        ...          ...            ...  \n",
      "49409  [96.72, 96.6, 96.04, 38.93]  [96.72, 96.6, 96.04, 38.93, 244.9, 038.9, 272....       1552           18              0  \n",
      "49410                           []              [038.9, 250.00, 995.92, 584.9, 428.0]       1419           24              2  \n",
      "49411                           []                      [285.1, 584.9, 401.9, 530.81]       1875           14              0  \n",
      "49412                           []  [428.0, 272.4, 250.00, V15.82, 285.1, V45.81, ...        930           20              2  \n",
      "49413                           []                                    [250.00, 401.9]        998           10              0  \n",
      "\n",
      "[49414 rows x 11 columns]\n",
      "cluster_label\n",
      "0    21632\n",
      "2    15221\n",
      "1    12561\n",
      "Name: count, dtype: int64\n"
     ]
    }
   ],
   "execution_count": 1
  },
  {
   "metadata": {
    "ExecuteTime": {
     "end_time": "2025-04-18T02:24:48.270917Z",
     "start_time": "2025-04-18T02:24:44.322473Z"
    }
   },
   "cell_type": "code",
   "source": [
    "# 定义映射字典\n",
    "label_mapping = {0: 'easy', 2: 'middle', 1: 'hard'}\n",
    "\n",
    "# 将 'cluster_label' 列映射为 'difficulty' 列\n",
    "df['difficulty'] = df['cluster_label'].map(label_mapping)\n",
    "\n",
    "# 检查映射结果\n",
    "print(df[['cluster_label', 'difficulty']].head())\n",
    "print(df['difficulty'].value_counts())\n",
    "\n",
    "# 保存到 Feather 文件\n",
    "output_path = \"/mnt/nvme2/yyc/medical-coding/files/data/mimiciii_50/mimiciii_cluster3.feather\"\n",
    "df.to_feather(output_path)\n",
    "print(f\"Updated file saved to {output_path}\")"
   ],
   "id": "36acb66f01874fa5",
   "outputs": [
    {
     "name": "stdout",
     "output_type": "stream",
     "text": [
      "   cluster_label difficulty\n",
      "0              1       hard\n",
      "1              1       hard\n",
      "2              1       hard\n",
      "3              1       hard\n",
      "4              1       hard\n",
      "difficulty\n",
      "easy      21632\n",
      "middle    15221\n",
      "hard      12561\n",
      "Name: count, dtype: int64\n",
      "Updated file saved to /mnt/nvme2/yyc/medical-coding/files/data/mimiciii_50/mimiciii_cluster3.feather\n"
     ]
    }
   ],
   "execution_count": 2
  },
  {
   "metadata": {
    "ExecuteTime": {
     "end_time": "2025-04-24T07:16:43.011457Z",
     "start_time": "2025-04-24T07:16:38.601016Z"
    }
   },
   "cell_type": "code",
   "source": [
    "import pyarrow.feather as feather\n",
    "import pandas as pd\n",
    "# 设置 Pandas 显示选项\n",
    "pd.set_option('display.max_columns', None)  # 显示所有列\n",
    "pd.set_option('display.width', 200)       # 设置显示宽度，防止换行\n",
    "pd.set_option('display.max_rows', 20)      # 只显示 20 行数据（可根据需要调整）\n",
    "# 文件路径\n",
    "file_path = \"/mnt/nvme2/yyc/medical-coding/files/data/mimiciv_icd9/mimiciv_icd9_clusters3.feather\"\n",
    "# 读取 feather 文件\n",
    "data = feather.read_table(file_path)\n",
    "# 转换为 pandas DataFrame\n",
    "df = data.to_pandas()\n",
    "# 打印数据框\n",
    "print(df)\n",
    "print(df['cluster_label'].value_counts())"
   ],
   "id": "3e5b9663b4c28a75",
   "outputs": [
    {
     "name": "stdout",
     "output_type": "stream",
     "text": [
      "               note_id  subject_id       _id note_type  note_seq            charttime            storetime                                               text                    icd9_proc  \\\n",
      "0       10000032-DS-21    10000032  22595853        DS        21  2180-05-07 00:00:00  2180-05-09 15:26:00  name unit no admission date discharge date dat...                      [54.91]   \n",
      "1       10000032-DS-22    10000032  22841357        DS        22  2180-06-27 00:00:00  2180-07-01 10:15:00  name unit no admission date discharge date dat...                      [54.91]   \n",
      "2       10000032-DS-23    10000032  29079034        DS        23  2180-07-25 00:00:00  2180-07-25 21:42:00  name unit no admission date discharge date dat...                           []   \n",
      "3       10000032-DS-24    10000032  25742920        DS        24  2180-08-07 00:00:00  2180-08-10 05:43:00  name unit no admission date discharge date dat...                      [54.91]   \n",
      "4       10000248-DS-10    10000248  20600184        DS        10  2192-11-30 00:00:00  2192-11-30 19:49:00  name unit no admission date discharge date dat...                           []   \n",
      "...                ...         ...       ...       ...       ...                  ...                  ...                                                ...                          ...   \n",
      "209292  19999625-DS-12    19999625  27638769        DS        12  2138-10-09 00:00:00  2138-10-10 01:42:00  name unit no admission date discharge date dat...                           []   \n",
      "209293  19999625-DS-13    19999625  25304202        DS        13  2139-10-16 00:00:00  2139-10-16 19:45:00  name unit no admission date discharge date dat...                [93.90, 96.6]   \n",
      "209294  19999840-DS-20    19999840  26071774        DS        20  2164-07-28 00:00:00  2164-07-29 14:52:00  name unit no admission date discharge date dat...               [88.41, 88.91]   \n",
      "209295  19999840-DS-21    19999840  21033226        DS        21  2164-09-17 00:00:00  2164-09-18 01:36:00  name unit no admission date discharge date dat...  [03.31, 96.04, 96.6, 96.72]   \n",
      "209296   19999987-DS-2    19999987  23865745        DS         2  2145-11-11 00:00:00  2145-11-11 13:13:00  name unit no admission date discharge date dat...               [88.41, 96.71]   \n",
      "\n",
      "                                                icd9_diag                                             target  num_words  num_targets  cluster_label  \n",
      "0       [070.70, 296.80, 309.81, 496, 571.5, 572.3, 78...  [54.91, 070.70, 296.80, 309.81, 496, 571.5, 57...       1126            9              0  \n",
      "1       [070.71, 276.1, 287.5, 305.1, 496, 571.5, 789....  [54.91, 070.71, 276.1, 287.5, 305.1, 496, 571....       1486            9              0  \n",
      "2       [070.44, 276.1, 276.7, 296.80, 305.1, 458.29, ...  [070.44, 276.1, 276.7, 296.80, 305.1, 458.29, ...       1487           13              0  \n",
      "3       [070.54, 276.1, 276.7, 305.1, 496, 571.5, 787....  [54.91, 070.54, 276.1, 276.7, 305.1, 496, 571....       1416           11              2  \n",
      "4              [285.9, 286.0, 920, 922.2, E849.5, E885.4]         [285.9, 286.0, 920, 922.2, E849.5, E885.4]       1099            6              0  \n",
      "...                                                   ...                                                ...        ...          ...            ...  \n",
      "209292  [276.0, 280.9, 285.29, 294.10, 327.42, 331.82,...  [276.0, 280.9, 285.29, 294.10, 327.42, 331.82,...       1090           14              2  \n",
      "209293  [276.0, 287.5, 294.10, 327.42, 331.82, 403.90,...  [93.90, 96.6, 276.0, 287.5, 294.10, 327.42, 33...       1032           17              2  \n",
      "209294  [272.4, 305.1, 345.90, 401.9, 434.91, 438.11, ...  [88.41, 88.91, 272.4, 305.1, 345.90, 401.9, 43...       1520            9              2  \n",
      "209295  [272.4, 345.3, 401.9, 427.41, 438.11, 438.21, ...  [03.31, 96.04, 96.6, 96.72, 272.4, 345.3, 401....       1272           16              2  \n",
      "209296  [041.3, 202.80, 244.9, 348.5, 368.46, 414.01, ...  [88.41, 96.71, 041.3, 202.80, 244.9, 348.5, 36...       1860           13              2  \n",
      "\n",
      "[209297 rows x 14 columns]\n",
      "cluster_label\n",
      "2    99814\n",
      "1    59424\n",
      "0    50059\n",
      "Name: count, dtype: int64\n"
     ]
    }
   ],
   "execution_count": 1
  },
  {
   "metadata": {
    "ExecuteTime": {
     "end_time": "2025-04-24T07:17:49.183529Z",
     "start_time": "2025-04-24T07:17:38.798097Z"
    }
   },
   "cell_type": "code",
   "source": [
    "# 定义映射字典\n",
    "label_mapping = {2: 'easy', 1: 'middle', 0: 'hard'}\n",
    "\n",
    "# 将 'cluster_label' 列映射为 'difficulty' 列\n",
    "df['difficulty'] = df['cluster_label'].map(label_mapping)\n",
    "\n",
    "# 检查映射结果\n",
    "print(df[['cluster_label', 'difficulty']].head())\n",
    "print(df['difficulty'].value_counts())\n",
    "\n",
    "# 保存到 Feather 文件\n",
    "output_path = \"/mnt/nvme2/yyc/medical-coding/files/data/mimiciv_icd9/mimiciv_icd9_clusters3.feather\"\n",
    "df.to_feather(output_path)\n",
    "print(f\"Updated file saved to {output_path}\")"
   ],
   "id": "613d37b7d26821e4",
   "outputs": [
    {
     "name": "stdout",
     "output_type": "stream",
     "text": [
      "   cluster_label difficulty\n",
      "0              0       hard\n",
      "1              0       hard\n",
      "2              0       hard\n",
      "3              2       easy\n",
      "4              0       hard\n",
      "difficulty\n",
      "easy      99814\n",
      "middle    59424\n",
      "hard      50059\n",
      "Name: count, dtype: int64\n",
      "Updated file saved to /mnt/nvme2/yyc/medical-coding/files/data/mimiciv_icd9/mimiciv_icd9_clusters3.feather\n"
     ]
    }
   ],
   "execution_count": 2
  },
  {
   "metadata": {},
   "cell_type": "code",
   "outputs": [],
   "execution_count": null,
   "source": "",
   "id": "9414026cdeedd2f2"
  }
 ],
 "metadata": {
  "kernelspec": {
   "display_name": "Python 3",
   "language": "python",
   "name": "python3"
  },
  "language_info": {
   "codemirror_mode": {
    "name": "ipython",
    "version": 2
   },
   "file_extension": ".py",
   "mimetype": "text/x-python",
   "name": "python",
   "nbconvert_exporter": "python",
   "pygments_lexer": "ipython2",
   "version": "2.7.6"
  }
 },
 "nbformat": 4,
 "nbformat_minor": 5
}
